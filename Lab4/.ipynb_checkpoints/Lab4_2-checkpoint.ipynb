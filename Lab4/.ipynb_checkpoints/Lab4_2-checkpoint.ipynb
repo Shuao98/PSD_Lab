{
 "cells": [
  {
   "cell_type": "markdown",
   "id": "e835bc71-6a98-4bf4-88aa-f6355cfe873a",
   "metadata": {},
   "source": [
    "### Lab 4 Exercise 2"
   ]
  },
  {
   "cell_type": "markdown",
   "id": "70b455b1-42c4-461c-88bb-7477e6f82b80",
   "metadata": {},
   "source": [
    "Exercise 1: Lists and Arrays \n",
    "\n",
    "Task: Create a list and an array, perform some basic operations, and print the results (list 1 contains numbers 1 to 5 and list 2 contains numbers from 6 to 10) "
   ]
  },
  {
   "cell_type": "code",
   "execution_count": 5,
   "id": "a79758fa-df18-46e5-b04d-c2e18d99e0ce",
   "metadata": {},
   "outputs": [
    {
     "name": "stdout",
     "output_type": "stream",
     "text": [
      "added array: [ 7  9 11 13 15]\n"
     ]
    }
   ],
   "source": [
    "import numpy as np\n",
    "import pandas as pd\n",
    "\n",
    "a = np.arange(1,6)\n",
    "b = np.arange(6,11)\n",
    "a,b\n",
    "print(\"added array:\", (a+b))"
   ]
  },
  {
   "cell_type": "markdown",
   "id": "7a339d6a-5667-4315-88c7-8ea64bc6093e",
   "metadata": {},
   "source": [
    "Exercise 2: Loading Data from Files \n",
    "\n",
    "Task: Load data from a CSV file and print the first few rows. "
   ]
  },
  {
   "cell_type": "code",
   "execution_count": 4,
   "id": "629d35ea-4f58-4671-8a8e-f0ebbe305dcc",
   "metadata": {},
   "outputs": [
    {
     "name": "stdout",
     "output_type": "stream",
     "text": [
      "id,name,age,height,weight,income\n",
      "\n",
      "1,Alice,29,165,55,50000\n",
      "\n",
      "2,Bob,32,175,85,60000\n",
      "\n",
      "3,Charlie,,180,90,70000\n",
      "\n",
      "4,David,45,165,80,75000\n",
      "\n",
      "5,Eva,37,160,70,85000\n",
      "\n"
     ]
    }
   ],
   "source": [
    "import csv\n",
    "\n",
    "file = open(\"sample_data1.csv\",\"r\")\n",
    "tmplist =[]\n",
    "for row in file: \n",
    "    tmplist.append(row)\n",
    "file.close()\n",
    "\n",
    "for i in range(0,6):\n",
    "    print(tmplist[i])"
   ]
  },
  {
   "cell_type": "code",
   "execution_count": 6,
   "id": "c6ece7b5-9666-4201-9ffc-53b597cff336",
   "metadata": {},
   "outputs": [
    {
     "name": "stdout",
     "output_type": "stream",
     "text": [
      "   id     name   age  height  weight   income\n",
      "0   1    Alice  29.0   165.0    55.0  50000.0\n",
      "1   2      Bob  32.0   175.0    85.0  60000.0\n",
      "2   3  Charlie   NaN   180.0    90.0  70000.0\n",
      "3   4    David  45.0   165.0    80.0  75000.0\n",
      "4   5      Eva  37.0   160.0    70.0  85000.0\n"
     ]
    }
   ],
   "source": [
    "data =pd.read_csv('sample_data1.csv')\n",
    "print(data.head())"
   ]
  },
  {
   "cell_type": "markdown",
   "id": "d03a078b-aa2a-4b50-bc67-4dc19882318c",
   "metadata": {},
   "source": [
    " \n",
    "\n",
    "Exercise 3: Numpy and Array Indexing \n",
    "\n",
    "Task: Create a numpy array and perform indexing and slicing operations. "
   ]
  },
  {
   "cell_type": "code",
   "execution_count": 9,
   "id": "dd5c9f17-c9b8-476d-8375-2e3dda9afc41",
   "metadata": {},
   "outputs": [
    {
     "name": "stdout",
     "output_type": "stream",
     "text": [
      "6\n",
      "[[2]\n",
      " [5]]\n",
      "[[2 3]\n",
      " [5 6]]\n"
     ]
    }
   ],
   "source": [
    "array = np.array([[1,2,3],[4,5,6],[7,8,9]])\n",
    "\n",
    "print(array[1][2])\n",
    "print(array[0:2,1:2])\n",
    "print(array[:2,1:])"
   ]
  },
  {
   "cell_type": "markdown",
   "id": "c8e4019c-1cd4-4259-8fe4-ac97a2765d4e",
   "metadata": {},
   "source": [
    "Exercise 4: Creating and Indexing Numpy Arrays \n",
    "\n",
    "Task 1: Create a 1D Numpy Array and Access Elements \n",
    "\n",
    "Create a 1D numpy array with values from 0 to 9. \n",
    "\n",
    "Access the 5th element of the array. \n",
    "\n",
    "Access the last element of the array. "
   ]
  },
  {
   "cell_type": "code",
   "execution_count": 12,
   "id": "4837fb84-eebc-4bdb-9cbf-9ecd2daa1a24",
   "metadata": {},
   "outputs": [
    {
     "name": "stdout",
     "output_type": "stream",
     "text": [
      "[0 1 2 3 4 5 6 7 8 9]\n",
      "The fifth element: 4\n",
      "The last element: 9\n"
     ]
    }
   ],
   "source": [
    "b = np.arange(0,10)\n",
    "print(b)\n",
    "print(\"The fifth element:\", b[4])\n",
    "print(\"The last element:\", b[-1])"
   ]
  },
  {
   "cell_type": "markdown",
   "id": "acf247d3-8ee3-4370-b22f-724236e8afb1",
   "metadata": {},
   "source": [
    "Task 2: Create a 2D Numpy Array and Access Elements \n",
    "\n",
    "Create a 2D numpy array with shape (3, 3) containing values from 1 to 9. \n",
    "\n",
    "Access the element at the 2nd row and 3rd column. \n",
    "\n",
    "Access the first row. \n",
    "\n",
    "Access the first column. "
   ]
  },
  {
   "cell_type": "code",
   "execution_count": 18,
   "id": "53252e65-d1ba-49c7-b7d0-a626a9b6f375",
   "metadata": {},
   "outputs": [
    {
     "name": "stdout",
     "output_type": "stream",
     "text": [
      "[[1 2 3]\n",
      " [4 5 6]\n",
      " [7 8 9]]\n",
      "The 2nd row and 3rd columm: 6\n",
      "The first row: [1 2 3]\n",
      "The first column: [1 4 7]\n"
     ]
    }
   ],
   "source": [
    "c = np.arange(1,10).reshape(3,3)\n",
    "print(c)\n",
    "print(\"The 2nd row and 3rd columm:\", c[1][2])\n",
    "print(\"The first row:\", c[0])\n",
    "print(\"The first column:\",c[:,0])"
   ]
  },
  {
   "cell_type": "markdown",
   "id": "493b413b-4cbb-4429-98f0-a25385eb6e7b",
   "metadata": {},
   "source": [
    "Exercise 2: Slicing and Advanced Indexing \n",
    "\n",
    "Task 1: Slice a 1D Numpy Array \n",
    "\n",
    "Create a 1D numpy array with values from 10 to 19. \n",
    "\n",
    "Slice the array to get elements from index 3 to 7. \n",
    "\n",
    "Slice the array to get every second element. "
   ]
  },
  {
   "cell_type": "code",
   "execution_count": 21,
   "id": "85d1760f-2007-4bd2-9a80-876166d66e5d",
   "metadata": {},
   "outputs": [
    {
     "name": "stdout",
     "output_type": "stream",
     "text": [
      "[10 11 12 13 14 15 16 17 18 19]\n",
      "Slicing from index 3 to 7: [13 14 15 16 17]\n",
      "Slicing to get every second element: [10 12 14 16 18]\n"
     ]
    }
   ],
   "source": [
    "d = np.arange(10,20)\n",
    "print(d)\n",
    "print(\"Slicing from index 3 to 7:\", d[3:8])\n",
    "print(\"Slicing to get every second element:\",d[::2])"
   ]
  },
  {
   "cell_type": "markdown",
   "id": "c0921d19-d67c-4bf3-bc7c-c58f673707c7",
   "metadata": {},
   "source": [
    "Task 2: Slice a 2D Numpy Array \n",
    "\n",
    "Create a 2D numpy array with shape (4, 4) containing values from 1 to 16. \n",
    "\n",
    "Slice the array to get the sub-array from rows 1 to 2 and columns 2 to 3. \n",
    "\n",
    "Slice the array to get the last two rows. \n",
    "\n",
    "Slice the array to get the first two columns. \n",
    "\n",
    " "
   ]
  },
  {
   "cell_type": "code",
   "execution_count": 24,
   "id": "eca46efc-3796-47be-b200-5fe67cc10ce1",
   "metadata": {},
   "outputs": [
    {
     "name": "stdout",
     "output_type": "stream",
     "text": [
      "[[ 1  2  3  4]\n",
      " [ 5  6  7  8]\n",
      " [ 9 10 11 12]\n",
      " [13 14 15 16]]\n",
      "Slice the array to get the sub-array from rows 1 to 2 and columns 2 to 3 [[ 7  8]\n",
      " [11 12]]\n",
      "Slice the array to get the last two rows [[ 9 10 11 12]\n",
      " [13 14 15 16]]\n",
      "Slice the array to get the first two columns [[ 1  2]\n",
      " [ 5  6]\n",
      " [ 9 10]\n",
      " [13 14]]\n"
     ]
    }
   ],
   "source": [
    "e = np.arange(1,17).reshape(4,4)\n",
    "print(e)\n",
    "print(\"Slice the array to get the sub-array from rows 1 to 2 and columns 2 to 3\",e[1:3,2:4])\n",
    "print(\"Slice the array to get the last two rows\",e[-2:,:])\n",
    "print(\"Slice the array to get the first two columns\",e[:,:2])\n"
   ]
  },
  {
   "cell_type": "markdown",
   "id": "c396823e-a555-4137-b9cc-725f1f679ebe",
   "metadata": {},
   "source": [
    "Exercise 3: Boolean Indexing and Fancy Indexing \n",
    "\n",
    "Task 1: Boolean Indexing \n",
    "\n",
    "Create a 1D numpy array with values from 0 to 9. \n",
    "\n",
    "Use boolean indexing to get elements greater than 5. \n",
    "\n",
    "Use boolean indexing to get elements that are even. \n",
    "\n",
    " \n",
    "\n",
    "\n",
    "\n",
    " "
   ]
  },
  {
   "cell_type": "code",
   "execution_count": 26,
   "id": "a2c7d553-6b99-4472-ae3f-6a971b10a2c0",
   "metadata": {},
   "outputs": [
    {
     "name": "stdout",
     "output_type": "stream",
     "text": [
      "[0 1 2 3 4 5 6 7 8 9]\n",
      "get elements greater than 5: [6 7 8 9]\n",
      "get elements greater than are even: [0 2 4 6 8]\n"
     ]
    }
   ],
   "source": [
    "f= np.arange(0,10)\n",
    "mask = f>5\n",
    "print(f)\n",
    "print(\"get elements greater than 5:\", f[mask])\n",
    "mask = f%2==0\n",
    "print(\"get elements greater than are even:\", f[mask])\n"
   ]
  },
  {
   "cell_type": "markdown",
   "id": "1c8b3ef3-9e49-4320-9de0-eba1190f3846",
   "metadata": {},
   "source": [
    "Task 2: Fancy Indexing \n",
    "\n",
    "Create a 2D numpy array with shape (4, 4) containing values from 1 to 16. \n",
    "\n",
    "Use fancy indexing to get the elements at positions (0, 0), (1, 2), (2, 3), and (3, 1). "
   ]
  },
  {
   "cell_type": "code",
   "execution_count": 28,
   "id": "5027d34e-d951-4f5f-b5b6-d28afef03296",
   "metadata": {},
   "outputs": [
    {
     "name": "stdout",
     "output_type": "stream",
     "text": [
      "[[ 1  2  3  4]\n",
      " [ 5  6  7  8]\n",
      " [ 9 10 11 12]\n",
      " [13 14 15 16]]\n",
      "at(0, 0): 1\n",
      "at(1, 2): 7\n",
      "at(2, 3): 12\n",
      "at (3, 1): 14\n",
      "Elements at (0, 0), (1, 2), (2, 3), and (3, 1): [ 1  7 12 14]\n"
     ]
    }
   ],
   "source": [
    "g = np.arange(1,17).reshape(4,4)\n",
    "print(g)\n",
    "print(\"at(0, 0):\",g[0][0])\n",
    "print(\"at(1, 2):\",g[1][2]) \n",
    "print(\"at(2, 3):\" ,g[2][3]) \n",
    "print(\"at (3, 1):\",g[3][1]) \n",
    "\n",
    "fancy_indexed_elements = g[[0,1,2,3],[0,2,3,1]]\n",
    "print(\"Elements at (0, 0), (1, 2), (2, 3), and (3, 1):\",fancy_indexed_elements)"
   ]
  }
 ],
 "metadata": {
  "kernelspec": {
   "display_name": "Python 3 (ipykernel)",
   "language": "python",
   "name": "python3"
  },
  "language_info": {
   "codemirror_mode": {
    "name": "ipython",
    "version": 3
   },
   "file_extension": ".py",
   "mimetype": "text/x-python",
   "name": "python",
   "nbconvert_exporter": "python",
   "pygments_lexer": "ipython3",
   "version": "3.13.5"
  }
 },
 "nbformat": 4,
 "nbformat_minor": 5
}
