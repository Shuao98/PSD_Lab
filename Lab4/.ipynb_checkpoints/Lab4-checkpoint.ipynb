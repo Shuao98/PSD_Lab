{
 "cells": [
  {
   "cell_type": "markdown",
   "id": "290740d0-9196-4a6c-9063-49cc9d97a848",
   "metadata": {},
   "source": [
    "### Lab 4 Exercise"
   ]
  },
  {
   "cell_type": "markdown",
   "id": "ab78b211-3e6b-42aa-9791-28ef1fbc9fda",
   "metadata": {},
   "source": [
    "Task 1: Write a Numpy program to test whether none of the elements of a given array is zero"
   ]
  },
  {
   "cell_type": "code",
   "execution_count": 6,
   "id": "ba5e963e-3fed-4f4b-8821-ae9bf0cb1040",
   "metadata": {},
   "outputs": [
    {
     "name": "stdout",
     "output_type": "stream",
     "text": [
      "True\n"
     ]
    }
   ],
   "source": [
    "import numpy as np\n",
    "\n",
    "c= np.array([[1,2,3],[4,5,6]])\n",
    "print(np.all(c))"
   ]
  },
  {
   "cell_type": "markdown",
   "id": "d64e18b8-8837-47c4-a049-205c7e08acc3",
   "metadata": {},
   "source": [
    "Task 2: There are two arrays. The first array, array1 contains the values 45, 67, 23 and array2 \n",
    "contains the values 56, 23, and 89. Write a Numpy program to create an element-wise comparison \n",
    "(greater, greater_equal, less and less_equal) of those two arrays.\n"
   ]
  },
  {
   "cell_type": "code",
   "execution_count": 5,
   "id": "846fc6d1-de7a-463e-abc1-a7031ef60987",
   "metadata": {},
   "outputs": [
    {
     "name": "stdout",
     "output_type": "stream",
     "text": [
      "Greater than:  [False  True False]\n",
      "Greater Equal:  [False  True False]\n",
      "Less than:  [ True False  True]\n",
      "Less equal:  [ True False  True]\n"
     ]
    }
   ],
   "source": [
    "x =[45,67,23]\n",
    "y =[56,23,89]\n",
    "\n",
    "print(\"Greater than: \", np.greater(x,y))\n",
    "print(\"Greater Equal: \", np.greater_equal(x,y))\n",
    "print(\"Less than: \", np.less(x,y))\n",
    "print(\"Less equal: \", np.less_equal(x,y))"
   ]
  },
  {
   "cell_type": "markdown",
   "id": "ee8365b5-28ce-4667-a8c8-740671390f9d",
   "metadata": {},
   "source": [
    "Task3 Write a Numpy program to create an array of 8 zeros, 5 ones, 10 fives."
   ]
  },
  {
   "cell_type": "code",
   "execution_count": 12,
   "id": "7fa0f884-b42a-4c3e-aec7-6f0f741a9b31",
   "metadata": {
    "scrolled": true
   },
   "outputs": [
    {
     "ename": "ValueError",
     "evalue": "all the input array dimensions except for the concatenation axis must match exactly, but along dimension 1, the array at index 0 has size 8 and the array at index 1 has size 5",
     "output_type": "error",
     "traceback": [
      "\u001b[1;31m---------------------------------------------------------------------------\u001b[0m",
      "\u001b[1;31mValueError\u001b[0m                                Traceback (most recent call last)",
      "Cell \u001b[1;32mIn[12], line 4\u001b[0m\n\u001b[0;32m      2\u001b[0m arr2 \u001b[38;5;241m=\u001b[39m np\u001b[38;5;241m.\u001b[39mones((\u001b[38;5;241m0\u001b[39m,\u001b[38;5;241m5\u001b[39m))\n\u001b[0;32m      3\u001b[0m arr3 \u001b[38;5;241m=\u001b[39mnp\u001b[38;5;241m.\u001b[39mones((\u001b[38;5;241m0\u001b[39m,\u001b[38;5;241m10\u001b[39m)) \u001b[38;5;241m*\u001b[39m\u001b[38;5;241m5\u001b[39m\n\u001b[1;32m----> 4\u001b[0m arr \u001b[38;5;241m=\u001b[39m np\u001b[38;5;241m.\u001b[39mconcatenate([arr1, arr2, arr3])\n\u001b[0;32m      5\u001b[0m \u001b[38;5;28mprint\u001b[39m(arr)\n",
      "\u001b[1;31mValueError\u001b[0m: all the input array dimensions except for the concatenation axis must match exactly, but along dimension 1, the array at index 0 has size 8 and the array at index 1 has size 5"
     ]
    }
   ],
   "source": [
    "arr1 = np.zeros((0,8))\n",
    "arr2 = np.ones((0,5))\n",
    "arr3 =np.ones((0,10)) *5\n",
    "arr = np.concatenate([arr1, arr2, arr3])\n",
    "print(arr)"
   ]
  },
  {
   "cell_type": "code",
   "execution_count": 13,
   "id": "f2aa44a7-de3a-4445-8e49-2a6f2a4e0cec",
   "metadata": {},
   "outputs": [
    {
     "name": "stdout",
     "output_type": "stream",
     "text": [
      "[0 0 0 0 0 0 0 0 1 1 1 1 1 5 5 5 5 5 5 5 5 5 5]\n"
     ]
    }
   ],
   "source": [
    "import numpy as np\n",
    "\n",
    "arr1 = np.zeros(8, dtype=int)       # 8 zeros\n",
    "arr2 = np.ones(5, dtype=int)        # 5 ones\n",
    "arr3 = np.ones(10, dtype=int) * 5   # 10 fives\n",
    "\n",
    "arr = np.concatenate([arr1, arr2, arr3])\n",
    "print(arr)\n"
   ]
  },
  {
   "cell_type": "markdown",
   "id": "cb2e0911-c951-488b-8524-ce44f00d09c4",
   "metadata": {},
   "source": [
    "Task4: Write a Numpy program to add a vector v with values 2, 0, 2 to each row of a matrix m with \n",
    "values:\n",
    "[23 45 11]\n",
    "[12 23 54]\n",
    "[29 19 34]\n",
    "[1 23 10]"
   ]
  },
  {
   "cell_type": "code",
   "execution_count": 14,
   "id": "80314faa-47be-4a50-aed1-7f941562ce8c",
   "metadata": {},
   "outputs": [
    {
     "name": "stdout",
     "output_type": "stream",
     "text": [
      "[[25 45 13]\n",
      " [14 23 56]\n",
      " [31 19 36]\n",
      " [ 3 23 12]]\n"
     ]
    }
   ],
   "source": [
    "a = np.array([[23,45,11],[12,23,54],[29,19,34],[1,23,10]])\n",
    "a = a + [2,0,2]\n",
    "print(a)"
   ]
  },
  {
   "cell_type": "markdown",
   "id": "e3da00c0-3c35-452f-ac9d-b211b978be3a",
   "metadata": {},
   "source": [
    "Task 5: Write a NumPy program to create a 5x5 2d array with 1 on the border and 25 inside.\n"
   ]
  },
  {
   "cell_type": "code",
   "execution_count": 16,
   "id": "193be0a9-d514-4358-8f46-8edbe81c5c22",
   "metadata": {},
   "outputs": [
    {
     "data": {
      "text/plain": [
       "array([[ 1.,  1.,  1.,  1.,  1.],\n",
       "       [ 1.,  1.,  1.,  1.,  1.],\n",
       "       [ 1.,  1., 25.,  1.,  1.],\n",
       "       [ 1.,  1.,  1.,  1.,  1.],\n",
       "       [ 1.,  1.,  1.,  1.,  1.]])"
      ]
     },
     "execution_count": 16,
     "metadata": {},
     "output_type": "execute_result"
    }
   ],
   "source": [
    "a = np.ones((5,5))\n",
    "a[2][2] =25\n",
    "a"
   ]
  },
  {
   "cell_type": "markdown",
   "id": "630f902c-4a3d-40a0-8aa2-473081b0b58d",
   "metadata": {},
   "source": [
    "Task 6: Write a NumPy program to find common values between two arrays.\n",
    "Array1 Array2\n",
    "[23, 45, 11, 5] [23, 5, 1]\n"
   ]
  },
  {
   "cell_type": "code",
   "execution_count": 19,
   "id": "84ba031a-fc54-4db7-872e-092a606053d3",
   "metadata": {},
   "outputs": [
    {
     "name": "stdout",
     "output_type": "stream",
     "text": [
      "[ 5 23]\n"
     ]
    }
   ],
   "source": [
    "b = np.array([23,45,11,5])\n",
    "c = np.array([23,5,1])\n",
    "\n",
    "print(np.intersect1d(b,c))\n"
   ]
  },
  {
   "cell_type": "markdown",
   "id": "521e8eb7-59e9-420d-aa77-cf68be6ab78f",
   "metadata": {},
   "source": [
    "Task 7: Perform the following manipulation of the two arrays below: horizontal stacking, vertical \n",
    "stacking; divide the individual array horizontally and vertically.\n",
    "Array1 Array2\n",
    "[23, 45, 11]\n",
    "[12, 23, 54]\n",
    "[1, 23, 10]\n",
    "[3, 5, 1]\n",
    "[2, 3, 4]\n",
    "[9, 1, 5"
   ]
  },
  {
   "cell_type": "code",
   "execution_count": 22,
   "id": "ead278bc-77cb-45b6-9e12-11fe77a6b4a5",
   "metadata": {},
   "outputs": [
    {
     "data": {
      "text/plain": [
       "array([[23, 45, 11],\n",
       "       [12, 23, 54],\n",
       "       [ 1, 23, 10],\n",
       "       [ 3,  5,  1],\n",
       "       [ 2,  3,  4],\n",
       "       [ 9,  1,  5]])"
      ]
     },
     "execution_count": 22,
     "metadata": {},
     "output_type": "execute_result"
    }
   ],
   "source": [
    "d = np.array([[23,45,11],[12,23,54],[1,23,10]])\n",
    "e = np.array([[3,5,1],[2,3,4],[9,1,5]])\n",
    "\n",
    "np.vstack((d,e))\n"
   ]
  },
  {
   "cell_type": "code",
   "execution_count": 23,
   "id": "9cffdc56-0d0d-4ccc-ace5-90e470f3e65a",
   "metadata": {},
   "outputs": [
    {
     "data": {
      "text/plain": [
       "array([[23, 45, 11,  3,  5,  1],\n",
       "       [12, 23, 54,  2,  3,  4],\n",
       "       [ 1, 23, 10,  9,  1,  5]])"
      ]
     },
     "execution_count": 23,
     "metadata": {},
     "output_type": "execute_result"
    }
   ],
   "source": [
    "np.hstack((d,e))"
   ]
  },
  {
   "cell_type": "markdown",
   "id": "f244787e-ed0f-40be-9d34-a56fb13dea38",
   "metadata": {},
   "source": [
    "Consider the following dataframe for the remaining tasks\n",
    "Sample DataFrame:\n",
    "\n",
    "assessment_results = {'name': ['Anastasia', 'Paul', 'Kathe', 'Joseph', 'Linda', 'Michael', 'Matt', \n",
    "'Laurentine', 'Chirstian', 'Jonas'],\n",
    "\n",
    "'score': [12.5, 10, 16.5, np.nan, 9, 20, 14.5, np.nan, 8, 19],\n",
    "\n",
    "'attempts': [1, 3, 2, 3, 2, 3, 1, 1, 2, 1],\n",
    "\n",
    "'qualify': ['yes', 'no', 'yes', 'no', 'no', 'yes', 'yes', 'no', 'no', 'yes']}\n",
    "\n",
    "labels = ['a', 'b', 'c', 'd', 'e', 'f', 'g', 'h', 'i', 'j']\n"
   ]
  },
  {
   "cell_type": "markdown",
   "id": "6152a608-5119-4932-a0aa-c2f54f84a550",
   "metadata": {},
   "source": [
    "Task 8: Write a Pandas program to get the first 3 rows of a given DataFrame"
   ]
  },
  {
   "cell_type": "code",
   "execution_count": 39,
   "id": "a14e61a8-197e-47e0-9326-6fce4763a1d7",
   "metadata": {},
   "outputs": [
    {
     "data": {
      "text/html": [
       "<div>\n",
       "<style scoped>\n",
       "    .dataframe tbody tr th:only-of-type {\n",
       "        vertical-align: middle;\n",
       "    }\n",
       "\n",
       "    .dataframe tbody tr th {\n",
       "        vertical-align: top;\n",
       "    }\n",
       "\n",
       "    .dataframe thead th {\n",
       "        text-align: right;\n",
       "    }\n",
       "</style>\n",
       "<table border=\"1\" class=\"dataframe\">\n",
       "  <thead>\n",
       "    <tr style=\"text-align: right;\">\n",
       "      <th></th>\n",
       "      <th>name</th>\n",
       "      <th>score</th>\n",
       "      <th>attempts</th>\n",
       "      <th>qualify</th>\n",
       "    </tr>\n",
       "  </thead>\n",
       "  <tbody>\n",
       "    <tr>\n",
       "      <th>0</th>\n",
       "      <td>Anastasia</td>\n",
       "      <td>12.5</td>\n",
       "      <td>1</td>\n",
       "      <td>yes</td>\n",
       "    </tr>\n",
       "    <tr>\n",
       "      <th>1</th>\n",
       "      <td>Paul</td>\n",
       "      <td>10.0</td>\n",
       "      <td>3</td>\n",
       "      <td>no</td>\n",
       "    </tr>\n",
       "    <tr>\n",
       "      <th>2</th>\n",
       "      <td>Kathe</td>\n",
       "      <td>16.5</td>\n",
       "      <td>2</td>\n",
       "      <td>yes</td>\n",
       "    </tr>\n",
       "    <tr>\n",
       "      <th>3</th>\n",
       "      <td>Joseph</td>\n",
       "      <td>NaN</td>\n",
       "      <td>3</td>\n",
       "      <td>no</td>\n",
       "    </tr>\n",
       "    <tr>\n",
       "      <th>4</th>\n",
       "      <td>Linda</td>\n",
       "      <td>9.0</td>\n",
       "      <td>2</td>\n",
       "      <td>no</td>\n",
       "    </tr>\n",
       "    <tr>\n",
       "      <th>5</th>\n",
       "      <td>Michael</td>\n",
       "      <td>20.0</td>\n",
       "      <td>3</td>\n",
       "      <td>yes</td>\n",
       "    </tr>\n",
       "    <tr>\n",
       "      <th>6</th>\n",
       "      <td>Matt</td>\n",
       "      <td>14.5</td>\n",
       "      <td>1</td>\n",
       "      <td>yes</td>\n",
       "    </tr>\n",
       "    <tr>\n",
       "      <th>7</th>\n",
       "      <td>Laurentine</td>\n",
       "      <td>NaN</td>\n",
       "      <td>1</td>\n",
       "      <td>no</td>\n",
       "    </tr>\n",
       "    <tr>\n",
       "      <th>8</th>\n",
       "      <td>Chirstian</td>\n",
       "      <td>8.0</td>\n",
       "      <td>2</td>\n",
       "      <td>no</td>\n",
       "    </tr>\n",
       "    <tr>\n",
       "      <th>9</th>\n",
       "      <td>Jonas</td>\n",
       "      <td>19.0</td>\n",
       "      <td>1</td>\n",
       "      <td>yes</td>\n",
       "    </tr>\n",
       "  </tbody>\n",
       "</table>\n",
       "</div>"
      ],
      "text/plain": [
       "         name  score  attempts qualify\n",
       "0   Anastasia   12.5         1     yes\n",
       "1        Paul   10.0         3      no\n",
       "2       Kathe   16.5         2     yes\n",
       "3      Joseph    NaN         3      no\n",
       "4       Linda    9.0         2      no\n",
       "5     Michael   20.0         3     yes\n",
       "6        Matt   14.5         1     yes\n",
       "7  Laurentine    NaN         1      no\n",
       "8   Chirstian    8.0         2      no\n",
       "9       Jonas   19.0         1     yes"
      ]
     },
     "execution_count": 39,
     "metadata": {},
     "output_type": "execute_result"
    }
   ],
   "source": [
    "import pandas as pd\n",
    "assessment_results = {'name': ['Anastasia', 'Paul', 'Kathe', 'Joseph', 'Linda', 'Michael', 'Matt', \n",
    "'Laurentine', 'Chirstian', 'Jonas'],\n",
    "'score': [12.5, 10, 16.5, np.nan, 9, 20, 14.5, np.nan, 8, 19],\n",
    "'attempts': [1, 3, 2, 3, 2, 3, 1, 1, 2, 1],\n",
    "'qualify': ['yes', 'no', 'yes', 'no', 'no', 'yes', 'yes', 'no', 'no', 'yes']}\n",
    "labels = ['a', 'b', 'c', 'd', 'e', 'f', 'g', 'h', 'i', 'j']\n",
    "frame =pd.DataFrame(assessment_results)\n",
    "frame"
   ]
  },
  {
   "cell_type": "code",
   "execution_count": 26,
   "id": "428c943c-c835-4c83-82c1-022da4218ded",
   "metadata": {},
   "outputs": [
    {
     "data": {
      "text/html": [
       "<div>\n",
       "<style scoped>\n",
       "    .dataframe tbody tr th:only-of-type {\n",
       "        vertical-align: middle;\n",
       "    }\n",
       "\n",
       "    .dataframe tbody tr th {\n",
       "        vertical-align: top;\n",
       "    }\n",
       "\n",
       "    .dataframe thead th {\n",
       "        text-align: right;\n",
       "    }\n",
       "</style>\n",
       "<table border=\"1\" class=\"dataframe\">\n",
       "  <thead>\n",
       "    <tr style=\"text-align: right;\">\n",
       "      <th></th>\n",
       "      <th>name</th>\n",
       "      <th>score</th>\n",
       "      <th>attempts</th>\n",
       "      <th>qualify</th>\n",
       "    </tr>\n",
       "  </thead>\n",
       "  <tbody>\n",
       "    <tr>\n",
       "      <th>0</th>\n",
       "      <td>Anastasia</td>\n",
       "      <td>12.5</td>\n",
       "      <td>1</td>\n",
       "      <td>yes</td>\n",
       "    </tr>\n",
       "    <tr>\n",
       "      <th>1</th>\n",
       "      <td>Paul</td>\n",
       "      <td>10.0</td>\n",
       "      <td>3</td>\n",
       "      <td>no</td>\n",
       "    </tr>\n",
       "    <tr>\n",
       "      <th>2</th>\n",
       "      <td>Kathe</td>\n",
       "      <td>16.5</td>\n",
       "      <td>2</td>\n",
       "      <td>yes</td>\n",
       "    </tr>\n",
       "  </tbody>\n",
       "</table>\n",
       "</div>"
      ],
      "text/plain": [
       "        name  score  attempts qualify\n",
       "0  Anastasia   12.5         1     yes\n",
       "1       Paul   10.0         3      no\n",
       "2      Kathe   16.5         2     yes"
      ]
     },
     "execution_count": 26,
     "metadata": {},
     "output_type": "execute_result"
    }
   ],
   "source": [
    "frame[0:3]"
   ]
  },
  {
   "cell_type": "markdown",
   "id": "0677d800-8f1b-4764-b034-c2110373923c",
   "metadata": {},
   "source": [
    "Task 9: Write a Pandas program to select the rows where the number of attempts in the \n",
    "examination is greater than 2"
   ]
  },
  {
   "cell_type": "code",
   "execution_count": 30,
   "id": "e286910e-3d57-458c-94db-2f07966f87f6",
   "metadata": {},
   "outputs": [
    {
     "data": {
      "text/html": [
       "<div>\n",
       "<style scoped>\n",
       "    .dataframe tbody tr th:only-of-type {\n",
       "        vertical-align: middle;\n",
       "    }\n",
       "\n",
       "    .dataframe tbody tr th {\n",
       "        vertical-align: top;\n",
       "    }\n",
       "\n",
       "    .dataframe thead th {\n",
       "        text-align: right;\n",
       "    }\n",
       "</style>\n",
       "<table border=\"1\" class=\"dataframe\">\n",
       "  <thead>\n",
       "    <tr style=\"text-align: right;\">\n",
       "      <th></th>\n",
       "      <th>name</th>\n",
       "      <th>score</th>\n",
       "      <th>attempts</th>\n",
       "      <th>qualify</th>\n",
       "    </tr>\n",
       "  </thead>\n",
       "  <tbody>\n",
       "    <tr>\n",
       "      <th>1</th>\n",
       "      <td>Paul</td>\n",
       "      <td>10.0</td>\n",
       "      <td>3</td>\n",
       "      <td>no</td>\n",
       "    </tr>\n",
       "    <tr>\n",
       "      <th>3</th>\n",
       "      <td>Joseph</td>\n",
       "      <td>NaN</td>\n",
       "      <td>3</td>\n",
       "      <td>no</td>\n",
       "    </tr>\n",
       "    <tr>\n",
       "      <th>5</th>\n",
       "      <td>Michael</td>\n",
       "      <td>20.0</td>\n",
       "      <td>3</td>\n",
       "      <td>yes</td>\n",
       "    </tr>\n",
       "  </tbody>\n",
       "</table>\n",
       "</div>"
      ],
      "text/plain": [
       "      name  score  attempts qualify\n",
       "1     Paul   10.0         3      no\n",
       "3   Joseph    NaN         3      no\n",
       "5  Michael   20.0         3     yes"
      ]
     },
     "execution_count": 30,
     "metadata": {},
     "output_type": "execute_result"
    }
   ],
   "source": [
    "frame[frame['attempts']>2]"
   ]
  },
  {
   "cell_type": "markdown",
   "id": "64d46db6-ccb2-4ea3-93bd-589f3f60cf6c",
   "metadata": {},
   "source": [
    "Task 10: Write a Pandas program to count the number of rows and columns of a DataFrame."
   ]
  },
  {
   "cell_type": "code",
   "execution_count": 34,
   "id": "6afd93a5-0e9d-40d7-a4b9-7dbd118172bd",
   "metadata": {},
   "outputs": [
    {
     "name": "stdout",
     "output_type": "stream",
     "text": [
      "10rows\n",
      "4cols\n"
     ]
    }
   ],
   "source": [
    "rows, cols = frame.shape\n",
    "print(str(rows) +\"rows\")\n",
    "print(str(cols) +\"cols\")"
   ]
  },
  {
   "cell_type": "markdown",
   "id": "0cd9bdaf-0cff-4577-8dac-c5db214dcddf",
   "metadata": {},
   "source": [
    "Task 11: Write a Pandas program to select the rows the score is between 14 and 20 (inclusive)."
   ]
  },
  {
   "cell_type": "code",
   "execution_count": 37,
   "id": "35b15afd-03b9-43d3-8640-547b8022997a",
   "metadata": {},
   "outputs": [
    {
     "data": {
      "text/html": [
       "<div>\n",
       "<style scoped>\n",
       "    .dataframe tbody tr th:only-of-type {\n",
       "        vertical-align: middle;\n",
       "    }\n",
       "\n",
       "    .dataframe tbody tr th {\n",
       "        vertical-align: top;\n",
       "    }\n",
       "\n",
       "    .dataframe thead th {\n",
       "        text-align: right;\n",
       "    }\n",
       "</style>\n",
       "<table border=\"1\" class=\"dataframe\">\n",
       "  <thead>\n",
       "    <tr style=\"text-align: right;\">\n",
       "      <th></th>\n",
       "      <th>name</th>\n",
       "      <th>score</th>\n",
       "      <th>attempts</th>\n",
       "      <th>qualify</th>\n",
       "    </tr>\n",
       "  </thead>\n",
       "  <tbody>\n",
       "    <tr>\n",
       "      <th>2</th>\n",
       "      <td>Kathe</td>\n",
       "      <td>16.5</td>\n",
       "      <td>2</td>\n",
       "      <td>yes</td>\n",
       "    </tr>\n",
       "    <tr>\n",
       "      <th>5</th>\n",
       "      <td>Michael</td>\n",
       "      <td>20.0</td>\n",
       "      <td>3</td>\n",
       "      <td>yes</td>\n",
       "    </tr>\n",
       "    <tr>\n",
       "      <th>6</th>\n",
       "      <td>Matt</td>\n",
       "      <td>14.5</td>\n",
       "      <td>1</td>\n",
       "      <td>yes</td>\n",
       "    </tr>\n",
       "    <tr>\n",
       "      <th>9</th>\n",
       "      <td>Jonas</td>\n",
       "      <td>19.0</td>\n",
       "      <td>1</td>\n",
       "      <td>yes</td>\n",
       "    </tr>\n",
       "  </tbody>\n",
       "</table>\n",
       "</div>"
      ],
      "text/plain": [
       "      name  score  attempts qualify\n",
       "2    Kathe   16.5         2     yes\n",
       "5  Michael   20.0         3     yes\n",
       "6     Matt   14.5         1     yes\n",
       "9    Jonas   19.0         1     yes"
      ]
     },
     "execution_count": 37,
     "metadata": {},
     "output_type": "execute_result"
    }
   ],
   "source": [
    "frame[(frame['score'] >= 14) & (frame['score'] <= 20)]\n"
   ]
  },
  {
   "cell_type": "markdown",
   "id": "6a3f742a-3bbe-40ed-8567-dc87144a5aaf",
   "metadata": {},
   "source": [
    "Task 12: Write a Pandas program to change the score in row 'c' to 11.5"
   ]
  },
  {
   "cell_type": "code",
   "execution_count": 51,
   "id": "94bacedd-4b22-4eef-aa58-e1a269ae926c",
   "metadata": {},
   "outputs": [
    {
     "data": {
      "text/html": [
       "<div>\n",
       "<style scoped>\n",
       "    .dataframe tbody tr th:only-of-type {\n",
       "        vertical-align: middle;\n",
       "    }\n",
       "\n",
       "    .dataframe tbody tr th {\n",
       "        vertical-align: top;\n",
       "    }\n",
       "\n",
       "    .dataframe thead th {\n",
       "        text-align: right;\n",
       "    }\n",
       "</style>\n",
       "<table border=\"1\" class=\"dataframe\">\n",
       "  <thead>\n",
       "    <tr style=\"text-align: right;\">\n",
       "      <th></th>\n",
       "      <th>name</th>\n",
       "      <th>score</th>\n",
       "      <th>attempts</th>\n",
       "      <th>qualify</th>\n",
       "      <th>label</th>\n",
       "    </tr>\n",
       "  </thead>\n",
       "  <tbody>\n",
       "    <tr>\n",
       "      <th>0</th>\n",
       "      <td>Anastasia</td>\n",
       "      <td>12.5</td>\n",
       "      <td>1</td>\n",
       "      <td>yes</td>\n",
       "      <td>a</td>\n",
       "    </tr>\n",
       "    <tr>\n",
       "      <th>1</th>\n",
       "      <td>Paul</td>\n",
       "      <td>10.0</td>\n",
       "      <td>3</td>\n",
       "      <td>no</td>\n",
       "      <td>b</td>\n",
       "    </tr>\n",
       "    <tr>\n",
       "      <th>2</th>\n",
       "      <td>Kathe</td>\n",
       "      <td>16.5</td>\n",
       "      <td>2</td>\n",
       "      <td>yes</td>\n",
       "      <td>c</td>\n",
       "    </tr>\n",
       "    <tr>\n",
       "      <th>3</th>\n",
       "      <td>Joseph</td>\n",
       "      <td>NaN</td>\n",
       "      <td>3</td>\n",
       "      <td>no</td>\n",
       "      <td>d</td>\n",
       "    </tr>\n",
       "    <tr>\n",
       "      <th>4</th>\n",
       "      <td>Linda</td>\n",
       "      <td>9.0</td>\n",
       "      <td>2</td>\n",
       "      <td>no</td>\n",
       "      <td>e</td>\n",
       "    </tr>\n",
       "    <tr>\n",
       "      <th>5</th>\n",
       "      <td>Michael</td>\n",
       "      <td>20.0</td>\n",
       "      <td>3</td>\n",
       "      <td>yes</td>\n",
       "      <td>f</td>\n",
       "    </tr>\n",
       "    <tr>\n",
       "      <th>6</th>\n",
       "      <td>Matt</td>\n",
       "      <td>14.5</td>\n",
       "      <td>1</td>\n",
       "      <td>yes</td>\n",
       "      <td>g</td>\n",
       "    </tr>\n",
       "    <tr>\n",
       "      <th>7</th>\n",
       "      <td>Laurentine</td>\n",
       "      <td>NaN</td>\n",
       "      <td>1</td>\n",
       "      <td>no</td>\n",
       "      <td>h</td>\n",
       "    </tr>\n",
       "    <tr>\n",
       "      <th>8</th>\n",
       "      <td>Chirstian</td>\n",
       "      <td>8.0</td>\n",
       "      <td>2</td>\n",
       "      <td>no</td>\n",
       "      <td>i</td>\n",
       "    </tr>\n",
       "    <tr>\n",
       "      <th>9</th>\n",
       "      <td>Jonas</td>\n",
       "      <td>19.0</td>\n",
       "      <td>1</td>\n",
       "      <td>yes</td>\n",
       "      <td>j</td>\n",
       "    </tr>\n",
       "  </tbody>\n",
       "</table>\n",
       "</div>"
      ],
      "text/plain": [
       "         name  score  attempts qualify label\n",
       "0   Anastasia   12.5         1     yes     a\n",
       "1        Paul   10.0         3      no     b\n",
       "2       Kathe   16.5         2     yes     c\n",
       "3      Joseph    NaN         3      no     d\n",
       "4       Linda    9.0         2      no     e\n",
       "5     Michael   20.0         3     yes     f\n",
       "6        Matt   14.5         1     yes     g\n",
       "7  Laurentine    NaN         1      no     h\n",
       "8   Chirstian    8.0         2      no     i\n",
       "9       Jonas   19.0         1     yes     j"
      ]
     },
     "execution_count": 51,
     "metadata": {},
     "output_type": "execute_result"
    }
   ],
   "source": [
    "labelframe = pd.DataFrame(labels,columns=['label'])\n",
    "result = frame.join(labelframe)\n",
    "result"
   ]
  },
  {
   "cell_type": "code",
   "execution_count": 52,
   "id": "2f4341ff-7c37-4b1e-8aa6-1074895e8d63",
   "metadata": {},
   "outputs": [
    {
     "data": {
      "text/html": [
       "<div>\n",
       "<style scoped>\n",
       "    .dataframe tbody tr th:only-of-type {\n",
       "        vertical-align: middle;\n",
       "    }\n",
       "\n",
       "    .dataframe tbody tr th {\n",
       "        vertical-align: top;\n",
       "    }\n",
       "\n",
       "    .dataframe thead th {\n",
       "        text-align: right;\n",
       "    }\n",
       "</style>\n",
       "<table border=\"1\" class=\"dataframe\">\n",
       "  <thead>\n",
       "    <tr style=\"text-align: right;\">\n",
       "      <th></th>\n",
       "      <th>name</th>\n",
       "      <th>score</th>\n",
       "      <th>attempts</th>\n",
       "      <th>qualify</th>\n",
       "      <th>label</th>\n",
       "    </tr>\n",
       "  </thead>\n",
       "  <tbody>\n",
       "    <tr>\n",
       "      <th>2</th>\n",
       "      <td>Kathe</td>\n",
       "      <td>16.5</td>\n",
       "      <td>2</td>\n",
       "      <td>yes</td>\n",
       "      <td>c</td>\n",
       "    </tr>\n",
       "  </tbody>\n",
       "</table>\n",
       "</div>"
      ],
      "text/plain": [
       "    name  score  attempts qualify label\n",
       "2  Kathe   16.5         2     yes     c"
      ]
     },
     "execution_count": 52,
     "metadata": {},
     "output_type": "execute_result"
    }
   ],
   "source": [
    "result.loc[result['label'] == 'c']"
   ]
  },
  {
   "cell_type": "code",
   "execution_count": 53,
   "id": "85a099d7-1635-4e94-bd5d-e9623c7537ba",
   "metadata": {},
   "outputs": [
    {
     "data": {
      "text/html": [
       "<div>\n",
       "<style scoped>\n",
       "    .dataframe tbody tr th:only-of-type {\n",
       "        vertical-align: middle;\n",
       "    }\n",
       "\n",
       "    .dataframe tbody tr th {\n",
       "        vertical-align: top;\n",
       "    }\n",
       "\n",
       "    .dataframe thead th {\n",
       "        text-align: right;\n",
       "    }\n",
       "</style>\n",
       "<table border=\"1\" class=\"dataframe\">\n",
       "  <thead>\n",
       "    <tr style=\"text-align: right;\">\n",
       "      <th></th>\n",
       "      <th>name</th>\n",
       "      <th>score</th>\n",
       "      <th>attempts</th>\n",
       "      <th>qualify</th>\n",
       "      <th>label</th>\n",
       "    </tr>\n",
       "  </thead>\n",
       "  <tbody>\n",
       "    <tr>\n",
       "      <th>2</th>\n",
       "      <td>Kathe</td>\n",
       "      <td>11.5</td>\n",
       "      <td>2</td>\n",
       "      <td>yes</td>\n",
       "      <td>c</td>\n",
       "    </tr>\n",
       "  </tbody>\n",
       "</table>\n",
       "</div>"
      ],
      "text/plain": [
       "    name  score  attempts qualify label\n",
       "2  Kathe   11.5         2     yes     c"
      ]
     },
     "execution_count": 53,
     "metadata": {},
     "output_type": "execute_result"
    }
   ],
   "source": [
    "# Update score where label is 'c'\n",
    "result.loc[result['label'] == 'c', 'score'] = 11.5\n",
    "result.loc[result['label'] == 'c']"
   ]
  },
  {
   "cell_type": "raw",
   "id": "a9655bc2-3df4-4352-8352-22866b222d60",
   "metadata": {},
   "source": [
    "Task 13: Write a Pandas program to calculate the mean score for each different student in \n",
    "DataFrame"
   ]
  },
  {
   "cell_type": "code",
   "execution_count": 55,
   "id": "eabfd902-2f06-497d-a346-b9bdeab677f2",
   "metadata": {},
   "outputs": [
    {
     "data": {
      "text/plain": [
       "np.float64(13.6875)"
      ]
     },
     "execution_count": 55,
     "metadata": {},
     "output_type": "execute_result"
    }
   ],
   "source": [
    "frame['score'].mean()"
   ]
  }
 ],
 "metadata": {
  "kernelspec": {
   "display_name": "Python 3 (ipykernel)",
   "language": "python",
   "name": "python3"
  },
  "language_info": {
   "codemirror_mode": {
    "name": "ipython",
    "version": 3
   },
   "file_extension": ".py",
   "mimetype": "text/x-python",
   "name": "python",
   "nbconvert_exporter": "python",
   "pygments_lexer": "ipython3",
   "version": "3.13.5"
  }
 },
 "nbformat": 4,
 "nbformat_minor": 5
}
