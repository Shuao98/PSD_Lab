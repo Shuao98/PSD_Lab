{
 "cells": [
  {
   "cell_type": "markdown",
   "id": "09a7e314-0c91-49c1-a0e9-5194be465b88",
   "metadata": {},
   "source": [
    "# Practical exercise for Custom package "
   ]
  },
  {
   "cell_type": "code",
   "execution_count": 9,
   "id": "6959bfc0-5b4a-4b37-847c-9f6d784c9565",
   "metadata": {},
   "outputs": [
    {
     "ename": "ModuleNotFoundError",
     "evalue": "No module named 'my_package.maths_utils'",
     "output_type": "error",
     "traceback": [
      "\u001b[1;31m---------------------------------------------------------------------------\u001b[0m",
      "\u001b[1;31mModuleNotFoundError\u001b[0m                       Traceback (most recent call last)",
      "Cell \u001b[1;32mIn[9], line 1\u001b[0m\n\u001b[1;32m----> 1\u001b[0m \u001b[38;5;28;01mfrom\u001b[39;00m\u001b[38;5;250m \u001b[39m\u001b[38;5;21;01mmy_package\u001b[39;00m\u001b[38;5;250m \u001b[39m\u001b[38;5;28;01mimport\u001b[39;00m add, subtract, capitalise_words, reverse_string\n\u001b[0;32m      3\u001b[0m \u001b[38;5;28mprint\u001b[39m(\u001b[38;5;124m\"\u001b[39m\u001b[38;5;124m1 Add 2 is \u001b[39m\u001b[38;5;124m\"\u001b[39m,add(\u001b[38;5;241m1\u001b[39m,\u001b[38;5;241m2\u001b[39m))\n\u001b[0;32m      4\u001b[0m \u001b[38;5;28mprint\u001b[39m(\u001b[38;5;124m\"\u001b[39m\u001b[38;5;124m3 subtract 2 is \u001b[39m\u001b[38;5;124m\"\u001b[39m, subtract(\u001b[38;5;241m3\u001b[39m,\u001b[38;5;241m2\u001b[39m))\n",
      "File \u001b[1;32m~\\PSD_Lab\\Lab4\\my_package\\__init__.py:1\u001b[0m\n\u001b[1;32m----> 1\u001b[0m \u001b[38;5;28;01mfrom\u001b[39;00m\u001b[38;5;250m \u001b[39m\u001b[38;5;21;01m.\u001b[39;00m\u001b[38;5;21;01mmaths_utils\u001b[39;00m\u001b[38;5;250m \u001b[39m\u001b[38;5;28;01mimport\u001b[39;00m add, subtract\n\u001b[0;32m      2\u001b[0m \u001b[38;5;28;01mfrom\u001b[39;00m\u001b[38;5;250m \u001b[39m\u001b[38;5;21;01m.\u001b[39;00m\u001b[38;5;21;01mstring_utils\u001b[39;00m\u001b[38;5;250m \u001b[39m\u001b[38;5;28;01mimport\u001b[39;00m capitalise_words,reverse_string\n",
      "\u001b[1;31mModuleNotFoundError\u001b[0m: No module named 'my_package.maths_utils'"
     ]
    }
   ],
   "source": [
    "from my_package import add, subtract, capitalise_words, reverse_string\n",
    "\n",
    "print(\"1 Add 2 is \",add(1,2))\n",
    "print(\"3 subtract 2 is \", subtract(3,2))\n",
    "print(\"After capitalisation:\", capitalise_words(\"germany\"))\n",
    "print(\"Reverse the string:\", reverse_string(\"germany\"))"
   ]
  },
  {
   "cell_type": "code",
   "execution_count": null,
   "id": "5c07530e-c974-4542-959e-1e667d50be68",
   "metadata": {},
   "outputs": [],
   "source": []
  }
 ],
 "metadata": {
  "kernelspec": {
   "display_name": "Python 3 (ipykernel)",
   "language": "python",
   "name": "python3"
  },
  "language_info": {
   "codemirror_mode": {
    "name": "ipython",
    "version": 3
   },
   "file_extension": ".py",
   "mimetype": "text/x-python",
   "name": "python",
   "nbconvert_exporter": "python",
   "pygments_lexer": "ipython3",
   "version": "3.13.5"
  }
 },
 "nbformat": 4,
 "nbformat_minor": 5
}
