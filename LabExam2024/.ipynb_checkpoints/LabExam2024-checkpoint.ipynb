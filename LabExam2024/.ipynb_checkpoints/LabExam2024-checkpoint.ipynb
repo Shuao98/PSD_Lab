{
 "cells": [
  {
   "cell_type": "markdown",
   "id": "7e4ceadc-5a55-4501-830d-79856aa3c713",
   "metadata": {},
   "source": [
    "## Task 1a"
   ]
  },
  {
   "cell_type": "code",
   "execution_count": 1,
   "id": "94b292ba-08c4-4850-a4ab-190da41c8727",
   "metadata": {},
   "outputs": [],
   "source": [
    "import numpy as np\n",
    "import pandas as pd\n",
    "data = pd.read_csv('sales_data.csv' )\n"
   ]
  },
  {
   "cell_type": "code",
   "execution_count": 2,
   "id": "14cd7d53-6975-4211-bbb0-5767b9f3db5f",
   "metadata": {},
   "outputs": [
    {
     "data": {
      "text/html": [
       "<div>\n",
       "<style scoped>\n",
       "    .dataframe tbody tr th:only-of-type {\n",
       "        vertical-align: middle;\n",
       "    }\n",
       "\n",
       "    .dataframe tbody tr th {\n",
       "        vertical-align: top;\n",
       "    }\n",
       "\n",
       "    .dataframe thead th {\n",
       "        text-align: right;\n",
       "    }\n",
       "</style>\n",
       "<table border=\"1\" class=\"dataframe\">\n",
       "  <thead>\n",
       "    <tr style=\"text-align: right;\">\n",
       "      <th></th>\n",
       "      <th>Date</th>\n",
       "      <th>Product</th>\n",
       "      <th>Quantity</th>\n",
       "      <th>Price</th>\n",
       "      <th>Total</th>\n",
       "    </tr>\n",
       "  </thead>\n",
       "  <tbody>\n",
       "    <tr>\n",
       "      <th>0</th>\n",
       "      <td>01/01/2023</td>\n",
       "      <td>Chocolate</td>\n",
       "      <td>5</td>\n",
       "      <td>10.0</td>\n",
       "      <td>50.0</td>\n",
       "    </tr>\n",
       "    <tr>\n",
       "      <th>1</th>\n",
       "      <td>02/01/2023</td>\n",
       "      <td>Biscuits</td>\n",
       "      <td>7</td>\n",
       "      <td>20.0</td>\n",
       "      <td>140.0</td>\n",
       "    </tr>\n",
       "    <tr>\n",
       "      <th>2</th>\n",
       "      <td>03/01/2023</td>\n",
       "      <td>Sweets</td>\n",
       "      <td>9</td>\n",
       "      <td>15.0</td>\n",
       "      <td>135.0</td>\n",
       "    </tr>\n",
       "    <tr>\n",
       "      <th>3</th>\n",
       "      <td>04/01/2023</td>\n",
       "      <td>Water</td>\n",
       "      <td>3</td>\n",
       "      <td>7.5</td>\n",
       "      <td>22.5</td>\n",
       "    </tr>\n",
       "    <tr>\n",
       "      <th>4</th>\n",
       "      <td>05/01/2023</td>\n",
       "      <td>Orange Juice</td>\n",
       "      <td>8</td>\n",
       "      <td>12.5</td>\n",
       "      <td>100.0</td>\n",
       "    </tr>\n",
       "  </tbody>\n",
       "</table>\n",
       "</div>"
      ],
      "text/plain": [
       "         Date       Product  Quantity  Price  Total\n",
       "0  01/01/2023     Chocolate         5   10.0   50.0\n",
       "1  02/01/2023      Biscuits         7   20.0  140.0\n",
       "2  03/01/2023        Sweets         9   15.0  135.0\n",
       "3  04/01/2023         Water         3    7.5   22.5\n",
       "4  05/01/2023  Orange Juice         8   12.5  100.0"
      ]
     },
     "execution_count": 2,
     "metadata": {},
     "output_type": "execute_result"
    }
   ],
   "source": [
    "data.head()"
   ]
  },
  {
   "cell_type": "code",
   "execution_count": 3,
   "id": "1816cdfa-2c45-44d7-aa8c-244657d8d571",
   "metadata": {},
   "outputs": [
    {
     "data": {
      "text/plain": [
       "array(['Chocolate', 'Biscuits', 'Sweets', 'Water', 'Orange Juice', nan],\n",
       "      dtype=object)"
      ]
     },
     "execution_count": 3,
     "metadata": {},
     "output_type": "execute_result"
    }
   ],
   "source": [
    "data['Product'].unique()"
   ]
  },
  {
   "cell_type": "code",
   "execution_count": 4,
   "id": "57a7dbf2-7d7c-4dc3-aa45-97bba5bfd94e",
   "metadata": {},
   "outputs": [
    {
     "data": {
      "text/plain": [
       "Product\n",
       "Water           32\n",
       "Orange Juice    31\n",
       "Sweets          29\n",
       "Biscuits        29\n",
       "Chocolate       24\n",
       "Name: count, dtype: int64"
      ]
     },
     "execution_count": 4,
     "metadata": {},
     "output_type": "execute_result"
    }
   ],
   "source": [
    "data['Product'].value_counts()"
   ]
  },
  {
   "cell_type": "code",
   "execution_count": 5,
   "id": "5a34a814-f646-4367-9ce1-e8d5d0fe5417",
   "metadata": {},
   "outputs": [
    {
     "data": {
      "text/plain": [
       "array([5, 7, 9, 3, 8])"
      ]
     },
     "execution_count": 5,
     "metadata": {},
     "output_type": "execute_result"
    }
   ],
   "source": [
    "data['Quantity'].unique()"
   ]
  },
  {
   "cell_type": "code",
   "execution_count": 6,
   "id": "3bf47351-242b-415e-8ffd-f5c153183150",
   "metadata": {},
   "outputs": [
    {
     "data": {
      "text/plain": [
       "Quantity\n",
       "8    32\n",
       "3    32\n",
       "5    29\n",
       "9    29\n",
       "7    29\n",
       "Name: count, dtype: int64"
      ]
     },
     "execution_count": 6,
     "metadata": {},
     "output_type": "execute_result"
    }
   ],
   "source": [
    "data['Quantity'].value_counts()"
   ]
  },
  {
   "cell_type": "code",
   "execution_count": 7,
   "id": "84563122-63c0-4c16-8f85-95a2cbbcc7b6",
   "metadata": {},
   "outputs": [
    {
     "data": {
      "text/plain": [
       "array([10. , 20. , 15. ,  7.5, 12.5,  nan])"
      ]
     },
     "execution_count": 7,
     "metadata": {},
     "output_type": "execute_result"
    }
   ],
   "source": [
    "data['Price'].unique()"
   ]
  },
  {
   "cell_type": "code",
   "execution_count": 8,
   "id": "f9557852-eba2-4df7-87a3-63eef8866a97",
   "metadata": {},
   "outputs": [
    {
     "data": {
      "text/plain": [
       "Price\n",
       "12.5    32\n",
       "7.5     32\n",
       "15.0    29\n",
       "20.0    29\n",
       "10.0    28\n",
       "Name: count, dtype: int64"
      ]
     },
     "execution_count": 8,
     "metadata": {},
     "output_type": "execute_result"
    }
   ],
   "source": [
    "data['Price'].value_counts()"
   ]
  },
  {
   "cell_type": "code",
   "execution_count": 9,
   "id": "1e24d8cd-4828-46fd-9a1f-0d1c9e2cadf4",
   "metadata": {},
   "outputs": [
    {
     "data": {
      "text/plain": [
       "array([ 50. , 140. , 135. ,  22.5, 100. ,   nan])"
      ]
     },
     "execution_count": 9,
     "metadata": {},
     "output_type": "execute_result"
    }
   ],
   "source": [
    "data['Total'].unique()"
   ]
  },
  {
   "cell_type": "code",
   "execution_count": 10,
   "id": "a181f7f1-751c-491f-a9a0-c1ef8d36c062",
   "metadata": {},
   "outputs": [
    {
     "data": {
      "text/plain": [
       "Total\n",
       "100.0    32\n",
       "22.5     32\n",
       "50.0     29\n",
       "140.0    29\n",
       "135.0    26\n",
       "Name: count, dtype: int64"
      ]
     },
     "execution_count": 10,
     "metadata": {},
     "output_type": "execute_result"
    }
   ],
   "source": [
    "data['Total'].value_counts()"
   ]
  },
  {
   "cell_type": "code",
   "execution_count": 77,
   "id": "1607aa0f-cf77-447e-88b6-f2c26465411b",
   "metadata": {},
   "outputs": [],
   "source": [
    "data.fillna({'Quantity':data['Quantity'].median(),\n",
    "             'Product':'Unknown',\n",
    "             'Price':data['Price'].mean(),\n",
    "             'Total':0.0},inplace=True)"
   ]
  },
  {
   "cell_type": "code",
   "execution_count": 19,
   "id": "d5306420-e8f1-4ad3-a970-2f645c3a61e1",
   "metadata": {},
   "outputs": [
    {
     "data": {
      "text/plain": [
       "0     2023-01-01\n",
       "1     2023-01-02\n",
       "2     2023-01-03\n",
       "3     2023-01-04\n",
       "4     2023-01-05\n",
       "         ...    \n",
       "146   2022-04-06\n",
       "147   2022-04-07\n",
       "148   2022-04-08\n",
       "149   2022-04-09\n",
       "150   2022-04-10\n",
       "Name: Date, Length: 151, dtype: datetime64[ns]"
      ]
     },
     "execution_count": 19,
     "metadata": {},
     "output_type": "execute_result"
    }
   ],
   "source": [
    "data['Date_original']= data['Date']\n",
    "data = pd.read_csv('sales_data.csv',parse_dates=['Date'],dayfirst=True)\n",
    "data['Date']"
   ]
  },
  {
   "cell_type": "code",
   "execution_count": 78,
   "id": "6194fd2d-bed1-44a5-b09d-213e84308c01",
   "metadata": {},
   "outputs": [
    {
     "name": "stdout",
     "output_type": "stream",
     "text": [
      "\n",
      "Incorrect rows:\n",
      "         Date    Product  Quantity  Price  Total\n",
      "70 2023-03-12  Chocolate         5   12.9    0.0\n"
     ]
    }
   ],
   "source": [
    "incorrect_rows = data[data['Total'] != data['Quantity'] * data['Price']]\n",
    "print(\"\\nIncorrect rows:\")\n",
    "print(incorrect_rows)\n"
   ]
  },
  {
   "cell_type": "code",
   "execution_count": 79,
   "id": "9f5b24e4-70b3-4f4d-82f7-47154ff27849",
   "metadata": {},
   "outputs": [],
   "source": [
    "data['Total'] =data['Quantity'] * data['Price']"
   ]
  },
  {
   "cell_type": "markdown",
   "id": "c7910fc3-e5f9-452d-b65c-6f72f709a64f",
   "metadata": {},
   "source": [
    "### Task 1b"
   ]
  },
  {
   "cell_type": "code",
   "execution_count": 15,
   "id": "001d4f90-6da4-49c6-b277-7275a3fa571e",
   "metadata": {},
   "outputs": [
    {
     "data": {
      "text/html": [
       "<div>\n",
       "<style scoped>\n",
       "    .dataframe tbody tr th:only-of-type {\n",
       "        vertical-align: middle;\n",
       "    }\n",
       "\n",
       "    .dataframe tbody tr th {\n",
       "        vertical-align: top;\n",
       "    }\n",
       "\n",
       "    .dataframe thead th {\n",
       "        text-align: right;\n",
       "    }\n",
       "</style>\n",
       "<table border=\"1\" class=\"dataframe\">\n",
       "  <thead>\n",
       "    <tr style=\"text-align: right;\">\n",
       "      <th></th>\n",
       "      <th>Product</th>\n",
       "      <th>Quantity</th>\n",
       "    </tr>\n",
       "  </thead>\n",
       "  <tbody>\n",
       "    <tr>\n",
       "      <th>0</th>\n",
       "      <td>Biscuits</td>\n",
       "      <td>203</td>\n",
       "    </tr>\n",
       "    <tr>\n",
       "      <th>1</th>\n",
       "      <td>Chocolate</td>\n",
       "      <td>120</td>\n",
       "    </tr>\n",
       "    <tr>\n",
       "      <th>2</th>\n",
       "      <td>Orange Juice</td>\n",
       "      <td>248</td>\n",
       "    </tr>\n",
       "    <tr>\n",
       "      <th>3</th>\n",
       "      <td>Sweets</td>\n",
       "      <td>261</td>\n",
       "    </tr>\n",
       "    <tr>\n",
       "      <th>4</th>\n",
       "      <td>Unknown</td>\n",
       "      <td>33</td>\n",
       "    </tr>\n",
       "    <tr>\n",
       "      <th>5</th>\n",
       "      <td>Water</td>\n",
       "      <td>96</td>\n",
       "    </tr>\n",
       "  </tbody>\n",
       "</table>\n",
       "</div>"
      ],
      "text/plain": [
       "        Product  Quantity\n",
       "0      Biscuits       203\n",
       "1     Chocolate       120\n",
       "2  Orange Juice       248\n",
       "3        Sweets       261\n",
       "4       Unknown        33\n",
       "5         Water        96"
      ]
     },
     "execution_count": 15,
     "metadata": {},
     "output_type": "execute_result"
    }
   ],
   "source": [
    "group = data['Quantity'].groupby(data['Product']).sum()\n",
    "group = pd.DataFrame(group)\n",
    "group = group.reset_index()\n",
    "group"
   ]
  },
  {
   "cell_type": "code",
   "execution_count": 16,
   "id": "6e2be9ec-1c51-4f3f-b7d8-bdccafb63fbf",
   "metadata": {},
   "outputs": [
    {
     "data": {
      "image/png": "[encoded data removed]",
      "text/plain": [
       "<Figure size 1000x500 with 1 Axes>"
      ]
     },
     "metadata": {},
     "output_type": "display_data"
    }
   ],
   "source": [
    "import matplotlib.pyplot as plt\n",
    "index = group['Product']\n",
    "values = group['Quantity']\n",
    "plt.figure(figsize=(10, 5))\n",
    "plt.bar(index,values)\n",
    "plt.title('Total Quantity Sold for Each Product')\n",
    "plt.xlabel('Product')\n",
    "plt.ylabel('Total Quantity')\n",
    "plt.tight_layout()\n",
    "plt.show()"
   ]
  },
  {
   "cell_type": "code",
   "execution_count": 20,
   "id": "7f128cc1-d4cc-4f31-8066-c766b8c47a97",
   "metadata": {},
   "outputs": [
    {
     "data": {
      "text/html": [
       "<div>\n",
       "<style scoped>\n",
       "    .dataframe tbody tr th:only-of-type {\n",
       "        vertical-align: middle;\n",
       "    }\n",
       "\n",
       "    .dataframe tbody tr th {\n",
       "        vertical-align: top;\n",
       "    }\n",
       "\n",
       "    .dataframe thead th {\n",
       "        text-align: right;\n",
       "    }\n",
       "</style>\n",
       "<table border=\"1\" class=\"dataframe\">\n",
       "  <thead>\n",
       "    <tr style=\"text-align: right;\">\n",
       "      <th></th>\n",
       "      <th>Date</th>\n",
       "      <th>Product</th>\n",
       "      <th>Quantity</th>\n",
       "      <th>Price</th>\n",
       "      <th>Total</th>\n",
       "    </tr>\n",
       "  </thead>\n",
       "  <tbody>\n",
       "    <tr>\n",
       "      <th>0</th>\n",
       "      <td>2023-01-01</td>\n",
       "      <td>Chocolate</td>\n",
       "      <td>5</td>\n",
       "      <td>10.0</td>\n",
       "      <td>50.0</td>\n",
       "    </tr>\n",
       "    <tr>\n",
       "      <th>1</th>\n",
       "      <td>2023-01-02</td>\n",
       "      <td>Biscuits</td>\n",
       "      <td>7</td>\n",
       "      <td>20.0</td>\n",
       "      <td>140.0</td>\n",
       "    </tr>\n",
       "    <tr>\n",
       "      <th>2</th>\n",
       "      <td>2023-01-03</td>\n",
       "      <td>Sweets</td>\n",
       "      <td>9</td>\n",
       "      <td>15.0</td>\n",
       "      <td>135.0</td>\n",
       "    </tr>\n",
       "    <tr>\n",
       "      <th>3</th>\n",
       "      <td>2023-01-04</td>\n",
       "      <td>Water</td>\n",
       "      <td>3</td>\n",
       "      <td>7.5</td>\n",
       "      <td>22.5</td>\n",
       "    </tr>\n",
       "    <tr>\n",
       "      <th>4</th>\n",
       "      <td>2023-01-05</td>\n",
       "      <td>Orange Juice</td>\n",
       "      <td>8</td>\n",
       "      <td>12.5</td>\n",
       "      <td>100.0</td>\n",
       "    </tr>\n",
       "    <tr>\n",
       "      <th>...</th>\n",
       "      <td>...</td>\n",
       "      <td>...</td>\n",
       "      <td>...</td>\n",
       "      <td>...</td>\n",
       "      <td>...</td>\n",
       "    </tr>\n",
       "    <tr>\n",
       "      <th>95</th>\n",
       "      <td>2023-04-06</td>\n",
       "      <td>Chocolate</td>\n",
       "      <td>5</td>\n",
       "      <td>10.0</td>\n",
       "      <td>50.0</td>\n",
       "    </tr>\n",
       "    <tr>\n",
       "      <th>96</th>\n",
       "      <td>2023-04-07</td>\n",
       "      <td>Biscuits</td>\n",
       "      <td>7</td>\n",
       "      <td>20.0</td>\n",
       "      <td>140.0</td>\n",
       "    </tr>\n",
       "    <tr>\n",
       "      <th>97</th>\n",
       "      <td>2023-04-08</td>\n",
       "      <td>Sweets</td>\n",
       "      <td>9</td>\n",
       "      <td>15.0</td>\n",
       "      <td>135.0</td>\n",
       "    </tr>\n",
       "    <tr>\n",
       "      <th>98</th>\n",
       "      <td>2023-04-09</td>\n",
       "      <td>Water</td>\n",
       "      <td>3</td>\n",
       "      <td>7.5</td>\n",
       "      <td>22.5</td>\n",
       "    </tr>\n",
       "    <tr>\n",
       "      <th>99</th>\n",
       "      <td>2023-04-10</td>\n",
       "      <td>Orange Juice</td>\n",
       "      <td>8</td>\n",
       "      <td>12.5</td>\n",
       "      <td>100.0</td>\n",
       "    </tr>\n",
       "  </tbody>\n",
       "</table>\n",
       "<p>100 rows × 5 columns</p>\n",
       "</div>"
      ],
      "text/plain": [
       "         Date       Product  Quantity  Price  Total\n",
       "0  2023-01-01     Chocolate         5   10.0   50.0\n",
       "1  2023-01-02      Biscuits         7   20.0  140.0\n",
       "2  2023-01-03        Sweets         9   15.0  135.0\n",
       "3  2023-01-04         Water         3    7.5   22.5\n",
       "4  2023-01-05  Orange Juice         8   12.5  100.0\n",
       "..        ...           ...       ...    ...    ...\n",
       "95 2023-04-06     Chocolate         5   10.0   50.0\n",
       "96 2023-04-07      Biscuits         7   20.0  140.0\n",
       "97 2023-04-08        Sweets         9   15.0  135.0\n",
       "98 2023-04-09         Water         3    7.5   22.5\n",
       "99 2023-04-10  Orange Juice         8   12.5  100.0\n",
       "\n",
       "[100 rows x 5 columns]"
      ]
     },
     "execution_count": 20,
     "metadata": {},
     "output_type": "execute_result"
    }
   ],
   "source": [
    "# Filter only year 2023\n",
    "data_2023 = data[data['Date'].dt.year==2023]\n",
    "data_2023 "
   ]
  },
  {
   "cell_type": "code",
   "execution_count": 21,
   "id": "69a1c7b9-767b-45bb-96c0-73a18b432632",
   "metadata": {},
   "outputs": [
    {
     "data": {
      "text/html": [
       "<div>\n",
       "<style scoped>\n",
       "    .dataframe tbody tr th:only-of-type {\n",
       "        vertical-align: middle;\n",
       "    }\n",
       "\n",
       "    .dataframe tbody tr th {\n",
       "        vertical-align: top;\n",
       "    }\n",
       "\n",
       "    .dataframe thead th {\n",
       "        text-align: right;\n",
       "    }\n",
       "</style>\n",
       "<table border=\"1\" class=\"dataframe\">\n",
       "  <thead>\n",
       "    <tr style=\"text-align: right;\">\n",
       "      <th></th>\n",
       "      <th>Total</th>\n",
       "    </tr>\n",
       "    <tr>\n",
       "      <th>Date</th>\n",
       "      <th></th>\n",
       "    </tr>\n",
       "  </thead>\n",
       "  <tbody>\n",
       "    <tr>\n",
       "      <th>2023-01</th>\n",
       "      <td>2735.0</td>\n",
       "    </tr>\n",
       "    <tr>\n",
       "      <th>2023-02</th>\n",
       "      <td>2400.0</td>\n",
       "    </tr>\n",
       "    <tr>\n",
       "      <th>2023-03</th>\n",
       "      <td>2785.0</td>\n",
       "    </tr>\n",
       "    <tr>\n",
       "      <th>2023-04</th>\n",
       "      <td>895.0</td>\n",
       "    </tr>\n",
       "  </tbody>\n",
       "</table>\n",
       "</div>"
      ],
      "text/plain": [
       "          Total\n",
       "Date           \n",
       "2023-01  2735.0\n",
       "2023-02  2400.0\n",
       "2023-03  2785.0\n",
       "2023-04   895.0"
      ]
     },
     "execution_count": 21,
     "metadata": {},
     "output_type": "execute_result"
    }
   ],
   "source": [
    "monthly_sales = data_2023['Total'].groupby(data_2023['Date'].dt.to_period('M')).sum()\n",
    "monthly_sales = pd.DataFrame(monthly_sales)\n",
    "monthly_sales"
   ]
  },
  {
   "cell_type": "code",
   "execution_count": 22,
   "id": "b7ac544c-aa07-4c86-960a-30e43d5c3f41",
   "metadata": {},
   "outputs": [
    {
     "data": {
      "image/png": "[encoded data removed]",
      "text/plain": [
       "<Figure size 1000x500 with 1 Axes>"
      ]
     },
     "metadata": {},
     "output_type": "display_data"
    }
   ],
   "source": [
    "monthly_sales.index = monthly_sales.index.to_timestamp()\n",
    "\n",
    "# Plot the line chart\n",
    "plt.figure(figsize=(10, 5))\n",
    "plt.plot(monthly_sales.index, monthly_sales.values, marker='o', color='royalblue', linewidth=2)\n",
    "plt.title('Total Sales Trend Over the Months of 2023')\n",
    "plt.xlabel('Month')\n",
    "plt.ylabel('Total Sales')\n",
    "plt.grid(True, linestyle='--', alpha=0.6)\n",
    "plt.tight_layout()\n",
    "plt.show()"
   ]
  },
  {
   "cell_type": "markdown",
   "id": "80876e40-773b-4979-ac4f-0413d70fb986",
   "metadata": {},
   "source": [
    "# Task 2a"
   ]
  },
  {
   "cell_type": "code",
   "execution_count": 72,
   "id": "1c1fbb97-935c-44f6-b7ad-eeb4827fbcf8",
   "metadata": {},
   "outputs": [],
   "source": [
    "import sqlite3\n",
    "with sqlite3.connect(\"SalesDB.db\") as db :\n",
    "    cursor = db.cursor()"
   ]
  },
  {
   "cell_type": "code",
   "execution_count": 24,
   "id": "6df74149-5df5-4912-8fcf-1dd86fde30e6",
   "metadata": {},
   "outputs": [
    {
     "data": {
      "text/plain": [
       "<sqlite3.Cursor at 0x23e8c064140>"
      ]
     },
     "execution_count": 24,
     "metadata": {},
     "output_type": "execute_result"
    }
   ],
   "source": [
    "cursor.execute(\"\"\"\n",
    "                CREATE TABLE IF NOT EXISTS sales (\n",
    "                    date DATE,\n",
    "                    product TEXT NOT NULL,\n",
    "                    quantity INTEGER NOT NULL,\n",
    "                    price REAL NOT NULL,\n",
    "                    total REAL NOT NULL\n",
    "                );\n",
    "                \"\"\")\n"
   ]
  },
  {
   "cell_type": "code",
   "execution_count": 80,
   "id": "b295b463-9ffd-49ed-b557-6b3c9eab7a96",
   "metadata": {},
   "outputs": [
    {
     "data": {
      "text/plain": [
       "151"
      ]
     },
     "execution_count": 80,
     "metadata": {},
     "output_type": "execute_result"
    }
   ],
   "source": [
    "conn = sqlite3.connect('SalesDB.db')\n",
    "data.to_sql('sales', conn, if_exists='append', index=False)"
   ]
  },
  {
   "cell_type": "code",
   "execution_count": 82,
   "id": "602bd21b-8052-4341-aa67-555684e13e7d",
   "metadata": {},
   "outputs": [
    {
     "name": "stdout",
     "output_type": "stream",
     "text": [
      "('2023-01-01 00:00:00', 'Chocolate', 5, 10.0, 50.0)\n",
      "('2023-01-02 00:00:00', 'Biscuits', 7, 20.0, 140.0)\n",
      "('2023-01-03 00:00:00', 'Sweets', 9, 15.0, 135.0)\n",
      "('2023-01-04 00:00:00', 'Water', 3, 7.5, 22.5)\n",
      "('2023-01-05 00:00:00', 'Orange Juice', 8, 12.5, 100.0)\n",
      "('2023-01-06 00:00:00', 'Chocolate', 5, 10.0, 50.0)\n",
      "('2023-01-07 00:00:00', 'Biscuits', 7, 20.0, 140.0)\n",
      "('2023-01-08 00:00:00', 'Sweets', 9, 15.0, 135.0)\n",
      "('2023-01-09 00:00:00', 'Water', 3, 7.5, 22.5)\n",
      "('2023-01-10 00:00:00', 'Orange Juice', 8, 12.5, 100.0)\n",
      "('2023-01-11 00:00:00', 'Chocolate', 5, 10.0, 50.0)\n",
      "('2023-01-12 00:00:00', 'Biscuits', 7, 20.0, 140.0)\n",
      "('2023-01-13 00:00:00', 'Sweets', 9, 15.0, 135.0)\n",
      "('2023-01-14 00:00:00', 'Water', 3, 7.5, 22.5)\n",
      "('2023-01-15 00:00:00', 'Orange Juice', 8, 12.5, 100.0)\n",
      "('2023-01-16 00:00:00', 'Chocolate', 5, 10.0, 50.0)\n",
      "('2023-01-17 00:00:00', 'Biscuits', 7, 20.0, 140.0)\n",
      "('2023-01-18 00:00:00', 'Sweets', 9, 15.0, 135.0)\n",
      "('2023-01-19 00:00:00', 'Water', 3, 7.5, 22.5)\n",
      "('2023-01-20 00:00:00', 'Orange Juice', 8, 12.5, 100.0)\n",
      "('2023-01-21 00:00:00', 'Chocolate', 5, 10.0, 50.0)\n",
      "('2023-01-22 00:00:00', 'Biscuits', 7, 20.0, 140.0)\n",
      "('2023-01-23 00:00:00', 'Sweets', 9, 15.0, 135.0)\n",
      "('2023-01-24 00:00:00', 'Water', 3, 7.5, 22.5)\n",
      "('2023-01-25 00:00:00', 'Orange Juice', 8, 12.5, 100.0)\n",
      "('2023-01-26 00:00:00', 'Chocolate', 5, 10.0, 50.0)\n",
      "('2023-01-27 00:00:00', 'Biscuits', 7, 20.0, 140.0)\n",
      "('2023-01-28 00:00:00', 'Sweets', 9, 15.0, 135.0)\n",
      "('2023-01-29 00:00:00', 'Water', 3, 7.5, 22.5)\n",
      "('2023-01-30 00:00:00', 'Orange Juice', 8, 12.5, 100.0)\n",
      "('2023-01-31 00:00:00', 'Chocolate', 5, 10.0, 50.0)\n",
      "('2023-02-01 00:00:00', 'Biscuits', 7, 20.0, 140.0)\n",
      "('2023-02-02 00:00:00', 'Sweets', 9, 15.0, 135.0)\n",
      "('2023-02-03 00:00:00', 'Water', 3, 7.5, 22.5)\n",
      "('2023-02-04 00:00:00', 'Orange Juice', 8, 12.5, 100.0)\n",
      "('2023-02-05 00:00:00', 'Chocolate', 5, 10.0, 50.0)\n",
      "('2023-02-06 00:00:00', 'Biscuits', 7, 20.0, 140.0)\n",
      "('2023-02-07 00:00:00', 'Sweets', 9, 15.0, 135.0)\n",
      "('2023-02-08 00:00:00', 'Water', 3, 7.5, 22.5)\n",
      "('2023-02-09 00:00:00', 'Orange Juice', 8, 12.5, 100.0)\n",
      "('2023-02-10 00:00:00', 'Chocolate', 5, 10.0, 50.0)\n",
      "('2023-02-11 00:00:00', 'Biscuits', 7, 20.0, 140.0)\n",
      "('2023-02-12 00:00:00', 'Sweets', 9, 15.0, 135.0)\n",
      "('2023-02-13 00:00:00', 'Water', 3, 7.5, 22.5)\n",
      "('2023-02-14 00:00:00', 'Orange Juice', 8, 12.5, 100.0)\n",
      "('2023-02-15 00:00:00', 'Chocolate', 5, 10.0, 50.0)\n",
      "('2023-02-16 00:00:00', 'Biscuits', 7, 20.0, 140.0)\n",
      "('2023-02-17 00:00:00', 'Sweets', 9, 15.0, 135.0)\n",
      "('2023-02-18 00:00:00', 'Water', 3, 7.5, 22.5)\n",
      "('2023-02-19 00:00:00', 'Orange Juice', 8, 12.5, 100.0)\n",
      "('2023-02-20 00:00:00', 'Chocolate', 5, 10.0, 50.0)\n",
      "('2023-02-21 00:00:00', 'Biscuits', 7, 20.0, 140.0)\n",
      "('2023-02-22 00:00:00', 'Sweets', 9, 15.0, 135.0)\n",
      "('2023-02-23 00:00:00', 'Water', 3, 7.5, 22.5)\n",
      "('2023-02-24 00:00:00', 'Unknown', 8, 12.5, 100.0)\n",
      "('2023-02-25 00:00:00', 'Chocolate', 5, 10.0, 50.0)\n",
      "('2023-02-26 00:00:00', 'Biscuits', 7, 20.0, 140.0)\n",
      "('2023-02-27 00:00:00', 'Sweets', 9, 15.0, 135.0)\n",
      "('2023-02-28 00:00:00', 'Water', 3, 7.5, 22.5)\n",
      "('2023-03-01 00:00:00', 'Orange Juice', 8, 12.5, 100.0)\n",
      "('2023-03-02 00:00:00', 'Chocolate', 5, 10.0, 50.0)\n",
      "('2023-03-03 00:00:00', 'Biscuits', 7, 20.0, 140.0)\n",
      "('2023-03-04 00:00:00', 'Sweets', 9, 15.0, 135.0)\n",
      "('2023-03-05 00:00:00', 'Water', 3, 7.5, 22.5)\n",
      "('2023-03-06 00:00:00', 'Orange Juice', 8, 12.5, 100.0)\n",
      "('2023-03-07 00:00:00', 'Chocolate', 5, 10.0, 50.0)\n",
      "('2023-03-08 00:00:00', 'Biscuits', 7, 20.0, 140.0)\n",
      "('2023-03-09 00:00:00', 'Sweets', 9, 15.0, 135.0)\n",
      "('2023-03-10 00:00:00', 'Water', 3, 7.5, 22.5)\n",
      "('2023-03-11 00:00:00', 'Orange Juice', 8, 12.5, 100.0)\n",
      "('2023-03-12 00:00:00', 'Chocolate', 5, 12.9, 64.5)\n",
      "('2023-03-13 00:00:00', 'Biscuits', 7, 20.0, 140.0)\n",
      "('2023-03-14 00:00:00', 'Sweets', 9, 15.0, 135.0)\n",
      "('2023-03-15 00:00:00', 'Water', 3, 7.5, 22.5)\n",
      "('2023-03-16 00:00:00', 'Orange Juice', 8, 12.5, 100.0)\n",
      "('2023-03-17 00:00:00', 'Chocolate', 5, 10.0, 50.0)\n",
      "('2023-03-18 00:00:00', 'Biscuits', 7, 20.0, 140.0)\n",
      "('2023-03-19 00:00:00', 'Sweets', 9, 15.0, 135.0)\n",
      "('2023-03-20 00:00:00', 'Water', 3, 7.5, 22.5)\n",
      "('2023-03-21 00:00:00', 'Orange Juice', 8, 12.5, 100.0)\n",
      "('2023-03-22 00:00:00', 'Chocolate', 5, 10.0, 50.0)\n",
      "('2023-03-23 00:00:00', 'Biscuits', 7, 20.0, 140.0)\n",
      "('2023-03-24 00:00:00', 'Sweets', 9, 15.0, 135.0)\n",
      "('2023-03-25 00:00:00', 'Water', 3, 7.5, 22.5)\n",
      "('2023-03-26 00:00:00', 'Orange Juice', 8, 12.5, 100.0)\n",
      "('2023-03-27 00:00:00', 'Unknown', 5, 10.0, 50.0)\n",
      "('2023-03-28 00:00:00', 'Biscuits', 7, 20.0, 140.0)\n",
      "('2023-03-29 00:00:00', 'Sweets', 9, 15.0, 135.0)\n",
      "('2023-03-30 00:00:00', 'Water', 3, 7.5, 22.5)\n",
      "('2023-03-31 00:00:00', 'Orange Juice', 8, 12.5, 100.0)\n",
      "('2023-04-01 00:00:00', 'Chocolate', 5, 10.0, 50.0)\n",
      "('2023-04-02 00:00:00', 'Biscuits', 7, 20.0, 140.0)\n",
      "('2023-04-03 00:00:00', 'Sweets', 9, 15.0, 135.0)\n",
      "('2023-04-04 00:00:00', 'Water', 3, 7.5, 22.5)\n",
      "('2023-04-05 00:00:00', 'Orange Juice', 8, 12.5, 100.0)\n",
      "('2023-04-06 00:00:00', 'Chocolate', 5, 10.0, 50.0)\n",
      "('2023-04-07 00:00:00', 'Biscuits', 7, 20.0, 140.0)\n",
      "('2023-04-08 00:00:00', 'Sweets', 9, 15.0, 135.0)\n",
      "('2023-04-09 00:00:00', 'Water', 3, 7.5, 22.5)\n",
      "('2023-04-10 00:00:00', 'Orange Juice', 8, 12.5, 100.0)\n",
      "('2024-03-20 00:00:00', 'Water', 3, 7.5, 22.5)\n",
      "('2024-03-21 00:00:00', 'Orange Juice', 8, 12.5, 100.0)\n",
      "('2024-03-22 00:00:00', 'Chocolate', 5, 10.0, 50.0)\n",
      "('2024-03-23 00:00:00', 'Biscuits', 7, 20.0, 140.0)\n",
      "('2024-03-24 00:00:00', 'Sweets', 9, 15.0, 135.0)\n",
      "('2024-03-25 00:00:00', 'Water', 3, 7.5, 22.5)\n",
      "('2024-03-26 00:00:00', 'Orange Juice', 8, 12.5, 100.0)\n",
      "('2024-03-27 00:00:00', 'Unknown', 5, 10.0, 50.0)\n",
      "('2024-03-28 00:00:00', 'Biscuits', 7, 20.0, 140.0)\n",
      "('2024-03-29 00:00:00', 'Sweets', 9, 15.0, 135.0)\n",
      "('2024-03-30 00:00:00', 'Water', 3, 7.5, 22.5)\n",
      "('2024-03-31 00:00:00', 'Orange Juice', 8, 12.5, 100.0)\n",
      "('2024-04-01 00:00:00', 'Chocolate', 5, 10.0, 50.0)\n",
      "('2024-04-02 00:00:00', 'Biscuits', 7, 20.0, 140.0)\n",
      "('2024-04-03 00:00:00', 'Sweets', 9, 15.0, 135.0)\n",
      "('2024-04-04 00:00:00', 'Water', 3, 7.5, 22.5)\n",
      "('2024-04-05 00:00:00', 'Orange Juice', 8, 12.5, 100.0)\n",
      "('2024-04-06 00:00:00', 'Unknown', 5, 10.0, 50.0)\n",
      "('2024-04-07 00:00:00', 'Biscuits', 7, 20.0, 140.0)\n",
      "('2024-04-08 00:00:00', 'Sweets', 9, 15.0, 135.0)\n",
      "('2024-04-09 00:00:00', 'Water', 3, 7.5, 22.5)\n",
      "('2024-04-10 00:00:00', 'Orange Juice', 8, 12.5, 100.0)\n",
      "('2022-04-04 00:00:00', 'Water', 3, 7.5, 22.5)\n",
      "('2022-04-05 00:00:00', 'Orange Juice', 8, 12.5, 100.0)\n",
      "('2022-04-06 00:00:00', 'Chocolate', 5, 10.0, 50.0)\n",
      "('2022-04-07 00:00:00', 'Biscuits', 7, 20.0, 140.0)\n",
      "('2022-04-08 00:00:00', 'Sweets', 9, 15.0, 135.0)\n",
      "('2022-04-09 00:00:00', 'Water', 3, 7.5, 22.5)\n",
      "('2022-04-10 00:00:00', 'Orange Juice', 8, 12.5, 100.0)\n",
      "('2022-03-20 00:00:00', 'Water', 3, 7.5, 22.5)\n",
      "('2022-03-21 00:00:00', 'Orange Juice', 8, 12.5, 100.0)\n",
      "('2022-03-22 00:00:00', 'Chocolate', 5, 10.0, 50.0)\n",
      "('2022-03-23 00:00:00', 'Biscuits', 7, 20.0, 140.0)\n",
      "('2022-03-24 00:00:00', 'Sweets', 9, 15.0, 135.0)\n",
      "('2022-03-25 00:00:00', 'Water', 3, 7.5, 22.5)\n",
      "('2022-03-26 00:00:00', 'Orange Juice', 8, 12.5, 100.0)\n",
      "('2022-03-27 00:00:00', 'Unknown', 5, 10.0, 50.0)\n",
      "('2022-03-28 00:00:00', 'Biscuits', 7, 20.0, 140.0)\n",
      "('2022-03-29 00:00:00', 'Sweets', 9, 15.0, 135.0)\n",
      "('2022-03-30 00:00:00', 'Water', 3, 7.5, 22.5)\n",
      "('2022-03-31 00:00:00', 'Orange Juice', 8, 12.5, 100.0)\n",
      "('2022-04-01 00:00:00', 'Chocolate', 5, 10.0, 50.0)\n",
      "('2022-04-02 00:00:00', 'Biscuits', 7, 20.0, 140.0)\n",
      "('2022-04-03 00:00:00', 'Sweets', 9, 15.0, 135.0)\n",
      "('2022-04-04 00:00:00', 'Water', 3, 7.5, 22.5)\n",
      "('2022-04-05 00:00:00', 'Orange Juice', 8, 12.5, 100.0)\n",
      "('2022-04-06 00:00:00', 'Unknown', 5, 10.0, 50.0)\n",
      "('2022-04-07 00:00:00', 'Biscuits', 7, 20.0, 140.0)\n",
      "('2022-04-08 00:00:00', 'Sweets', 9, 15.0, 135.0)\n",
      "('2022-04-09 00:00:00', 'Water', 3, 7.5, 22.5)\n",
      "('2022-04-10 00:00:00', 'Orange Juice', 8, 12.5, 100.0)\n"
     ]
    }
   ],
   "source": [
    "with sqlite3.connect(\"SalesDB.db\") as db :\n",
    "    cursor = db.cursor()\n",
    "cursor.execute(\"SELECT * FROM sales\")\n",
    "\n",
    "rows = cursor.fetchall()\n",
    "for row in rows:\n",
    "    print(row)\n",
    "\n",
    "db.close()"
   ]
  },
  {
   "cell_type": "markdown",
   "id": "b9dca1e6-9d23-474b-9bf1-3abba1c79d18",
   "metadata": {},
   "source": [
    "Total Sales Calculation: Write a query to calculate the total sales for the year 2023 and display the result. [3 marks]"
   ]
  },
  {
   "cell_type": "code",
   "execution_count": 83,
   "id": "9cf9ae03-f963-4651-bfd8-d60d6f807d90",
   "metadata": {},
   "outputs": [
    {
     "name": "stdout",
     "output_type": "stream",
     "text": [
      "(8964.5,)\n"
     ]
    }
   ],
   "source": [
    "with sqlite3.connect(\"SalesDB.db\") as db :\n",
    "    cursor = db.cursor()\n",
    "cursor.execute(\"SELECT SUM(total) FROM sales WHERE date >= '2023-01-01' AND date <='2023-12-31'\")\n",
    "rows = cursor.fetchall()\n",
    "for row in rows:\n",
    "    print(row)\n"
   ]
  },
  {
   "cell_type": "markdown",
   "id": "54d459b9-fcd4-4abe-a1b0-ce60612320f7",
   "metadata": {},
   "source": [
    "Product Sales Summary: Write a query to list each product and its total quantity sold in 2023. Display the result in descending order of quantity."
   ]
  },
  {
   "cell_type": "code",
   "execution_count": 85,
   "id": "cc90f127-b095-4d9e-8e21-abadf8d0e1bb",
   "metadata": {},
   "outputs": [
    {
     "name": "stdout",
     "output_type": "stream",
     "text": [
      "('Sweets', 180)\n",
      "('Orange Juice', 152)\n",
      "('Biscuits', 140)\n",
      "('Chocolate', 95)\n",
      "('Water', 60)\n",
      "('Unknown', 13)\n"
     ]
    }
   ],
   "source": [
    "cursor.execute(\"SELECT product,SUM(quantity) FROM sales WHERE date >= '2023-01-01' AND date <='2023-12-31' GROUP BY product ORDER BY SUM(quantity) DESC\")\n",
    "rows = cursor.fetchall()\n",
    "for row in rows:\n",
    "    print(row)\n",
    "cursor.close()\n",
    "conn.close()"
   ]
  },
  {
   "cell_type": "markdown",
   "id": "5fee3d84-b44c-4250-bbed-ed38cbda1052",
   "metadata": {},
   "source": [
    "## Python Task 3: Basic Neural Network Implementation [12 marks]\n",
    "\n",
    "In this task, you will define a simple fully connected neural network using PyTorch. You will train the network on synthetic data, evaluate its performance by tracking the loss during training, and visualize the results.\n",
    "\n",
    "**Instructions:**\n",
    "\n",
    "**Neural Network Definition:** Define a class SimpleNN that extends torch.nn.Module.\n",
    "\n",
    "The network should have the following layers:\n",
    "\n",
    "**Input Layer:** 10 input features.\n",
    "\n",
    "**Hidden Layer 1:** A fully connected layer with 5 neurons and ReLU activation.\n",
    "\n",
    "**Hidden Layer 2:** A fully connected layer with 3 neurons and ReLU activation.\n",
    "\n",
    "**Output Layer:** A fully connected layer with 1 neuron and Sigmoid activation.\n",
    "\n",
    "### Task 3a: Model Initialization **[4 marks]**\n",
    "\n",
    "Instantiate the SimpleNN model.\n",
    "\n",
    "Use torch.nn.MSELoss() as the loss function.\n",
    "\n",
    "Use torch.optim.SGD as the optimizer with a learning rate of 0.01."
   ]
  },
  {
   "cell_type": "code",
   "execution_count": 88,
   "id": "236b6e57-1720-4b16-affe-c3b9699e8cb6",
   "metadata": {},
   "outputs": [
    {
     "name": "stdout",
     "output_type": "stream",
     "text": [
      "Defaulting to user installation because normal site-packages is not writeable\n",
      "Collecting torch\n",
      "  Downloading torch-2.9.0-cp313-cp313-win_amd64.whl.metadata (30 kB)\n",
      "Collecting torchvision\n",
      "  Downloading torchvision-0.24.0-cp313-cp313-win_amd64.whl.metadata (5.9 kB)\n",
      "Collecting torchaudio\n",
      "  Downloading torchaudio-2.9.0-cp313-cp313-win_amd64.whl.metadata (6.9 kB)\n",
      "Requirement already satisfied: filelock in c:\\programdata\\anaconda3\\lib\\site-packages (from torch) (3.17.0)\n",
      "Requirement already satisfied: typing-extensions>=4.10.0 in c:\\programdata\\anaconda3\\lib\\site-packages (from torch) (4.12.2)\n",
      "Requirement already satisfied: sympy>=1.13.3 in c:\\programdata\\anaconda3\\lib\\site-packages (from torch) (1.13.3)\n",
      "Requirement already satisfied: networkx>=2.5.1 in c:\\programdata\\anaconda3\\lib\\site-packages (from torch) (3.4.2)\n",
      "Requirement already satisfied: jinja2 in c:\\programdata\\anaconda3\\lib\\site-packages (from torch) (3.1.6)\n",
      "Requirement already satisfied: fsspec>=0.8.5 in c:\\programdata\\anaconda3\\lib\\site-packages (from torch) (2025.3.2)\n",
      "Requirement already satisfied: setuptools in c:\\programdata\\anaconda3\\lib\\site-packages (from torch) (72.1.0)\n",
      "Requirement already satisfied: numpy in c:\\programdata\\anaconda3\\lib\\site-packages (from torchvision) (2.1.3)\n",
      "Requirement already satisfied: pillow!=8.3.*,>=5.3.0 in c:\\programdata\\anaconda3\\lib\\site-packages (from torchvision) (11.1.0)\n",
      "Requirement already satisfied: mpmath<1.4,>=1.1.0 in c:\\programdata\\anaconda3\\lib\\site-packages (from sympy>=1.13.3->torch) (1.3.0)\n",
      "Requirement already satisfied: MarkupSafe>=2.0 in c:\\programdata\\anaconda3\\lib\\site-packages (from jinja2->torch) (3.0.2)\n",
      "Downloading torch-2.9.0-cp313-cp313-win_amd64.whl (109.3 MB)\n",
      "   ---------------------------------------- 0.0/109.3 MB ? eta -:--:--\n",
      "   ---- ----------------------------------- 12.1/109.3 MB 68.2 MB/s eta 0:00:02\n",
      "   ---------- ----------------------------- 28.3/109.3 MB 73.7 MB/s eta 0:00:02\n",
      "   ---------------- ----------------------- 43.8/109.3 MB 74.3 MB/s eta 0:00:01\n",
      "   ------------------- -------------------- 52.4/109.3 MB 66.3 MB/s eta 0:00:01\n",
      "   ---------------------- ----------------- 60.6/109.3 MB 60.5 MB/s eta 0:00:01\n",
      "   ------------------------ --------------- 67.9/109.3 MB 56.7 MB/s eta 0:00:01\n",
      "   -------------------------- ------------- 71.8/109.3 MB 51.0 MB/s eta 0:00:01\n",
      "   --------------------------- ------------ 76.3/109.3 MB 47.0 MB/s eta 0:00:01\n",
      "   ----------------------------- ---------- 81.0/109.3 MB 44.1 MB/s eta 0:00:01\n",
      "   ------------------------------- -------- 85.7/109.3 MB 41.9 MB/s eta 0:00:01\n",
      "   --------------------------------- ------ 90.7/109.3 MB 40.1 MB/s eta 0:00:01\n",
      "   ---------------------------------- ----- 95.4/109.3 MB 38.9 MB/s eta 0:00:01\n",
      "   ----------------------------------- --- 100.4/109.3 MB 37.7 MB/s eta 0:00:01\n",
      "   ------------------------------------- - 105.4/109.3 MB 36.7 MB/s eta 0:00:01\n",
      "   --------------------------------------  109.1/109.3 MB 35.9 MB/s eta 0:00:01\n",
      "   --------------------------------------- 109.3/109.3 MB 34.5 MB/s eta 0:00:00\n",
      "Downloading torchvision-0.24.0-cp313-cp313-win_amd64.whl (4.3 MB)\n",
      "   ---------------------------------------- 0.0/4.3 MB ? eta -:--:--\n",
      "   -------------------------- ------------- 2.9/4.3 MB 14.7 MB/s eta 0:00:01\n",
      "   ---------------------------------------- 4.3/4.3 MB 14.1 MB/s eta 0:00:00\n",
      "Downloading torchaudio-2.9.0-cp313-cp313-win_amd64.whl (665 kB)\n",
      "   ---------------------------------------- 0.0/665.3 kB ? eta -:--:--\n",
      "   --------------------------------------- 665.3/665.3 kB 14.1 MB/s eta 0:00:00\n",
      "Installing collected packages: torch, torchvision, torchaudio\n",
      "\n",
      "   ---------------------------------------- 0/3 [torch]\n",
      "   ---------------------------------------- 0/3 [torch]\n",
      "   ---------------------------------------- 0/3 [torch]\n",
      "   ---------------------------------------- 0/3 [torch]\n",
      "   ---------------------------------------- 0/3 [torch]\n",
      "   ---------------------------------------- 0/3 [torch]\n",
      "   ---------------------------------------- 0/3 [torch]\n",
      "   ---------------------------------------- 0/3 [torch]\n",
      "   ---------------------------------------- 0/3 [torch]\n",
      "   ---------------------------------------- 0/3 [torch]\n",
      "   ---------------------------------------- 0/3 [torch]\n",
      "   ---------------------------------------- 0/3 [torch]\n",
      "   ---------------------------------------- 0/3 [torch]\n",
      "   ---------------------------------------- 0/3 [torch]\n",
      "   ---------------------------------------- 0/3 [torch]\n",
      "   ---------------------------------------- 0/3 [torch]\n",
      "   ---------------------------------------- 0/3 [torch]\n",
      "   ---------------------------------------- 0/3 [torch]\n",
      "   ---------------------------------------- 0/3 [torch]\n",
      "   ---------------------------------------- 0/3 [torch]\n",
      "   ---------------------------------------- 0/3 [torch]\n",
      "   ---------------------------------------- 0/3 [torch]\n",
      "   ---------------------------------------- 0/3 [torch]\n",
      "   ---------------------------------------- 0/3 [torch]\n",
      "   ---------------------------------------- 0/3 [torch]\n",
      "   ---------------------------------------- 0/3 [torch]\n",
      "   ---------------------------------------- 0/3 [torch]\n",
      "   ---------------------------------------- 0/3 [torch]\n",
      "   ---------------------------------------- 0/3 [torch]\n",
      "   ---------------------------------------- 0/3 [torch]\n",
      "   ---------------------------------------- 0/3 [torch]\n",
      "   ---------------------------------------- 0/3 [torch]\n",
      "   ---------------------------------------- 0/3 [torch]\n",
      "   ---------------------------------------- 0/3 [torch]\n",
      "   ---------------------------------------- 0/3 [torch]\n",
      "   ---------------------------------------- 0/3 [torch]\n",
      "   ---------------------------------------- 0/3 [torch]\n",
      "   ---------------------------------------- 0/3 [torch]\n",
      "   ---------------------------------------- 0/3 [torch]\n",
      "   ---------------------------------------- 0/3 [torch]\n",
      "   ---------------------------------------- 0/3 [torch]\n",
      "   ---------------------------------------- 0/3 [torch]\n",
      "   ---------------------------------------- 0/3 [torch]\n",
      "   ---------------------------------------- 0/3 [torch]\n",
      "   ---------------------------------------- 0/3 [torch]\n",
      "   ---------------------------------------- 0/3 [torch]\n",
      "   ---------------------------------------- 0/3 [torch]\n",
      "   ---------------------------------------- 0/3 [torch]\n",
      "   ---------------------------------------- 0/3 [torch]\n",
      "   ---------------------------------------- 0/3 [torch]\n",
      "   ---------------------------------------- 0/3 [torch]\n",
      "   ---------------------------------------- 0/3 [torch]\n",
      "   ---------------------------------------- 0/3 [torch]\n",
      "   ---------------------------------------- 0/3 [torch]\n",
      "   ---------------------------------------- 0/3 [torch]\n",
      "   ---------------------------------------- 0/3 [torch]\n",
      "   ---------------------------------------- 0/3 [torch]\n",
      "   ---------------------------------------- 0/3 [torch]\n",
      "   ---------------------------------------- 0/3 [torch]\n",
      "   ---------------------------------------- 0/3 [torch]\n",
      "   ---------------------------------------- 0/3 [torch]\n",
      "   ---------------------------------------- 0/3 [torch]\n",
      "   ---------------------------------------- 0/3 [torch]\n",
      "   ---------------------------------------- 0/3 [torch]\n",
      "   ---------------------------------------- 0/3 [torch]\n",
      "   ---------------------------------------- 0/3 [torch]\n",
      "   ---------------------------------------- 0/3 [torch]\n",
      "   ---------------------------------------- 0/3 [torch]\n",
      "   ---------------------------------------- 0/3 [torch]\n",
      "   ---------------------------------------- 0/3 [torch]\n",
      "   ---------------------------------------- 0/3 [torch]\n",
      "   ---------------------------------------- 0/3 [torch]\n",
      "   ---------------------------------------- 0/3 [torch]\n",
      "   ---------------------------------------- 0/3 [torch]\n",
      "   ---------------------------------------- 0/3 [torch]\n",
      "   ---------------------------------------- 0/3 [torch]\n",
      "   ---------------------------------------- 0/3 [torch]\n",
      "   ---------------------------------------- 0/3 [torch]\n",
      "   ---------------------------------------- 0/3 [torch]\n",
      "   ---------------------------------------- 0/3 [torch]\n",
      "   ---------------------------------------- 0/3 [torch]\n",
      "   ---------------------------------------- 0/3 [torch]\n",
      "   ---------------------------------------- 0/3 [torch]\n",
      "   ---------------------------------------- 0/3 [torch]\n",
      "   ---------------------------------------- 0/3 [torch]\n",
      "   ---------------------------------------- 0/3 [torch]\n",
      "   ---------------------------------------- 0/3 [torch]\n",
      "   ---------------------------------------- 0/3 [torch]\n",
      "   ---------------------------------------- 0/3 [torch]\n",
      "   ---------------------------------------- 0/3 [torch]\n",
      "   ---------------------------------------- 0/3 [torch]\n",
      "   ---------------------------------------- 0/3 [torch]\n",
      "   ---------------------------------------- 0/3 [torch]\n",
      "   ---------------------------------------- 0/3 [torch]\n",
      "   ---------------------------------------- 0/3 [torch]\n",
      "   ---------------------------------------- 0/3 [torch]\n",
      "   ---------------------------------------- 0/3 [torch]\n",
      "   ---------------------------------------- 0/3 [torch]\n",
      "   ---------------------------------------- 0/3 [torch]\n",
      "   ---------------------------------------- 0/3 [torch]\n",
      "   ---------------------------------------- 0/3 [torch]\n",
      "   ---------------------------------------- 0/3 [torch]\n",
      "   ---------------------------------------- 0/3 [torch]\n",
      "   ---------------------------------------- 0/3 [torch]\n",
      "   ---------------------------------------- 0/3 [torch]\n",
      "   ---------------------------------------- 0/3 [torch]\n",
      "   ---------------------------------------- 0/3 [torch]\n",
      "   ---------------------------------------- 0/3 [torch]\n",
      "   ---------------------------------------- 0/3 [torch]\n",
      "   ---------------------------------------- 0/3 [torch]\n",
      "   ---------------------------------------- 0/3 [torch]\n",
      "   ---------------------------------------- 0/3 [torch]\n",
      "   ---------------------------------------- 0/3 [torch]\n",
      "   ---------------------------------------- 0/3 [torch]\n",
      "   ---------------------------------------- 0/3 [torch]\n",
      "   ---------------------------------------- 0/3 [torch]\n",
      "   ---------------------------------------- 0/3 [torch]\n",
      "   ---------------------------------------- 0/3 [torch]\n",
      "   ---------------------------------------- 0/3 [torch]\n",
      "   ---------------------------------------- 0/3 [torch]\n",
      "   ---------------------------------------- 0/3 [torch]\n",
      "   ---------------------------------------- 0/3 [torch]\n",
      "   ---------------------------------------- 0/3 [torch]\n",
      "   ---------------------------------------- 0/3 [torch]\n",
      "   ---------------------------------------- 0/3 [torch]\n",
      "   ---------------------------------------- 0/3 [torch]\n",
      "   ---------------------------------------- 0/3 [torch]\n",
      "   ---------------------------------------- 0/3 [torch]\n",
      "   ---------------------------------------- 0/3 [torch]\n",
      "   ---------------------------------------- 0/3 [torch]\n",
      "   ---------------------------------------- 0/3 [torch]\n",
      "   ---------------------------------------- 0/3 [torch]\n",
      "   ---------------------------------------- 0/3 [torch]\n",
      "   ---------------------------------------- 0/3 [torch]\n",
      "   ---------------------------------------- 0/3 [torch]\n",
      "   ---------------------------------------- 0/3 [torch]\n",
      "   ---------------------------------------- 0/3 [torch]\n",
      "   ---------------------------------------- 0/3 [torch]\n",
      "   ---------------------------------------- 0/3 [torch]\n",
      "   ---------------------------------------- 0/3 [torch]\n",
      "   ---------------------------------------- 0/3 [torch]\n",
      "   ---------------------------------------- 0/3 [torch]\n",
      "   ---------------------------------------- 0/3 [torch]\n",
      "   ---------------------------------------- 0/3 [torch]\n",
      "   ---------------------------------------- 0/3 [torch]\n",
      "   ---------------------------------------- 0/3 [torch]\n",
      "   ---------------------------------------- 0/3 [torch]\n",
      "   ---------------------------------------- 0/3 [torch]\n",
      "   ---------------------------------------- 0/3 [torch]\n",
      "   ---------------------------------------- 0/3 [torch]\n",
      "   ---------------------------------------- 0/3 [torch]\n",
      "   ---------------------------------------- 0/3 [torch]\n",
      "   ---------------------------------------- 0/3 [torch]\n",
      "   ---------------------------------------- 0/3 [torch]\n",
      "   ---------------------------------------- 0/3 [torch]\n",
      "   ---------------------------------------- 0/3 [torch]\n",
      "   ---------------------------------------- 0/3 [torch]\n",
      "   ---------------------------------------- 0/3 [torch]\n",
      "   ---------------------------------------- 0/3 [torch]\n",
      "   ---------------------------------------- 0/3 [torch]\n",
      "   ---------------------------------------- 0/3 [torch]\n",
      "   ---------------------------------------- 0/3 [torch]\n",
      "   ---------------------------------------- 0/3 [torch]\n",
      "   ---------------------------------------- 0/3 [torch]\n",
      "   ---------------------------------------- 0/3 [torch]\n",
      "   ---------------------------------------- 0/3 [torch]\n",
      "   ---------------------------------------- 0/3 [torch]\n",
      "   ---------------------------------------- 0/3 [torch]\n",
      "   ---------------------------------------- 0/3 [torch]\n",
      "   ---------------------------------------- 0/3 [torch]\n",
      "   ---------------------------------------- 0/3 [torch]\n",
      "   ---------------------------------------- 0/3 [torch]\n",
      "   ---------------------------------------- 0/3 [torch]\n",
      "   ---------------------------------------- 0/3 [torch]\n",
      "   ---------------------------------------- 0/3 [torch]\n",
      "   ---------------------------------------- 0/3 [torch]\n",
      "   ---------------------------------------- 0/3 [torch]\n",
      "   ---------------------------------------- 0/3 [torch]\n",
      "   ---------------------------------------- 0/3 [torch]\n",
      "   ---------------------------------------- 0/3 [torch]\n",
      "   ---------------------------------------- 0/3 [torch]\n",
      "   ---------------------------------------- 0/3 [torch]\n",
      "   ---------------------------------------- 0/3 [torch]\n",
      "   ---------------------------------------- 0/3 [torch]\n",
      "   ---------------------------------------- 0/3 [torch]\n",
      "   ---------------------------------------- 0/3 [torch]\n",
      "   ---------------------------------------- 0/3 [torch]\n",
      "   ---------------------------------------- 0/3 [torch]\n",
      "   ---------------------------------------- 0/3 [torch]\n",
      "   ---------------------------------------- 0/3 [torch]\n",
      "   ---------------------------------------- 0/3 [torch]\n",
      "   ------------- -------------------------- 1/3 [torchvision]\n",
      "   ------------- -------------------------- 1/3 [torchvision]\n",
      "   ------------- -------------------------- 1/3 [torchvision]\n",
      "   ------------- -------------------------- 1/3 [torchvision]\n",
      "   ------------- -------------------------- 1/3 [torchvision]\n",
      "   ------------- -------------------------- 1/3 [torchvision]\n",
      "   ------------- -------------------------- 1/3 [torchvision]\n",
      "   ------------- -------------------------- 1/3 [torchvision]\n",
      "   ------------- -------------------------- 1/3 [torchvision]\n",
      "   ------------- -------------------------- 1/3 [torchvision]\n",
      "   ------------- -------------------------- 1/3 [torchvision]\n",
      "   ------------- -------------------------- 1/3 [torchvision]\n",
      "   ------------- -------------------------- 1/3 [torchvision]\n",
      "   ------------- -------------------------- 1/3 [torchvision]\n",
      "   -------------------------- ------------- 2/3 [torchaudio]\n",
      "   -------------------------- ------------- 2/3 [torchaudio]\n",
      "   -------------------------- ------------- 2/3 [torchaudio]\n",
      "   -------------------------- ------------- 2/3 [torchaudio]\n",
      "   -------------------------- ------------- 2/3 [torchaudio]\n",
      "   -------------------------- ------------- 2/3 [torchaudio]\n",
      "   ---------------------------------------- 3/3 [torchaudio]\n",
      "\n",
      "Successfully installed torch-2.9.0 torchaudio-2.9.0 torchvision-0.24.0\n",
      "Note: you may need to restart the kernel to use updated packages.\n"
     ]
    },
    {
     "name": "stderr",
     "output_type": "stream",
     "text": [
      "  WARNING: The scripts torchfrtrace.exe and torchrun.exe are installed in 'C:\\Users\\3108098B\\AppData\\Roaming\\Python\\Python313\\Scripts' which is not on PATH.\n",
      "  Consider adding this directory to PATH or, if you prefer to suppress this warning, use --no-warn-script-location.\n"
     ]
    }
   ],
   "source": [
    "# pip install torch torchvision torchaudio\n"
   ]
  },
  {
   "cell_type": "code",
   "execution_count": 89,
   "id": "2db31e76-4dc6-4c18-a6bf-6e008ad86fbf",
   "metadata": {},
   "outputs": [
    {
     "name": "stdout",
     "output_type": "stream",
     "text": [
      "2.9.0+cpu\n"
     ]
    }
   ],
   "source": [
    "import torch\n",
    "print(torch.__version__)"
   ]
  },
  {
   "cell_type": "code",
   "execution_count": 95,
   "id": "0b0c3055-6355-4eae-a8d2-40a92d3124c8",
   "metadata": {},
   "outputs": [
    {
     "name": "stdout",
     "output_type": "stream",
     "text": [
      "SimpleNN(\n",
      "  (fc1): Linear(in_features=10, out_features=5, bias=True)\n",
      "  (fc2): Linear(in_features=5, out_features=3, bias=True)\n",
      "  (fc3): Linear(in_features=3, out_features=1, bias=True)\n",
      ")\n"
     ]
    }
   ],
   "source": [
    "import torch.nn as nn\n",
    "class SimpleNN(nn.Module):\n",
    "    def __init__(self):\n",
    "        super(SimpleNN,self).__init__()\n",
    "        self.fc1 = nn.Linear(10,5)  #Input Layer\n",
    "        self.fc2 = nn.Linear(5,3) # Hidden Layer 1\n",
    "        self.fc3 = nn.Linear(3,1) # Hidden Layer 2\n",
    "    def forward(self,x):\n",
    "        x = torch.relu(self.fc1)\n",
    "        x = torch.relu(self.fc2)\n",
    "        x = torch.sigmoid(self.fc3)\n",
    "        return x\n",
    "model = SimpleNN()\n",
    "print(model)"
   ]
  },
  {
   "cell_type": "code",
   "execution_count": 96,
   "id": "bc2e58cb-57a1-4100-8263-40a1e485b38c",
   "metadata": {},
   "outputs": [],
   "source": [
    "import torch.optim as optim\n",
    "import torch.nn.functional as F\n",
    "# Loss function: Mean Squared Error\n",
    "criterion = nn.MSELoss()\n",
    "\n",
    "# Optimizer: Stochastic Gradient Descent\n",
    "optimizer = optim.SGD(model.parameters(), lr=0.01)"
   ]
  },
  {
   "cell_type": "markdown",
   "id": "b9ad275d-33ec-4bad-a092-5fc9d43030d0",
   "metadata": {},
   "source": [
    "### Task 3b: Data Generation **[2 mark]**\n",
    "\n",
    "Generate synthetic data with 100 samples, each having 10 features. The target should be a tensor with 100 values.\n",
    "\n",
    "Use torch.randn to generate the synthetic input data and target values."
   ]
  },
  {
   "cell_type": "code",
   "execution_count": 97,
   "id": "bddf00ec-a247-42cd-87cd-740e4a0ced9f",
   "metadata": {},
   "outputs": [
    {
     "name": "stdout",
     "output_type": "stream",
     "text": [
      "Input shape: torch.Size([100, 10])\n",
      "Target shape: torch.Size([100, 1])\n",
      "First 5 input samples:\n",
      " tensor([[ 1.9269,  1.4873,  0.9007, -2.1055,  0.6784, -1.2345, -0.0431, -1.6047,\n",
      "         -0.7521,  1.6487],\n",
      "        [-0.3925, -1.4036, -0.7279, -0.5594, -0.7688,  0.7624,  1.6423, -0.1596,\n",
      "         -0.4974,  0.4396],\n",
      "        [-0.7581,  1.0783,  0.8008,  1.6806,  1.2791,  1.2964,  0.6105,  1.3347,\n",
      "         -0.2316,  0.0418],\n",
      "        [-0.2516,  0.8599, -1.3847, -0.8712, -0.2234,  1.7174,  0.3189, -0.4245,\n",
      "          0.3057, -0.7746],\n",
      "        [-1.5576,  0.9956, -0.8798, -0.6011, -1.2742,  2.1228, -1.2347, -0.4879,\n",
      "         -0.9138, -0.6581]])\n",
      "First 5 target values:\n",
      " tensor([[ 0.1011],\n",
      "        [-1.3095],\n",
      "        [-0.4104],\n",
      "        [ 0.4681],\n",
      "        [-0.2346]])\n"
     ]
    }
   ],
   "source": [
    "# Set random seed for reproducibility\n",
    "torch.manual_seed(42)\n",
    "\n",
    "# Generate synthetic input data: 100 samples, 10 features\n",
    "X = torch.randn(100, 10)\n",
    "\n",
    "# Generate synthetic target values: 100 samples, 1 output\n",
    "y = torch.randn(100, 1)\n",
    "\n",
    "# Check shapes\n",
    "print(\"Input shape:\", X.shape)   # Should be (100, 10)\n",
    "print(\"Target shape:\", y.shape)  # Should be (100, 1)\n",
    "\n",
    "# Optionally, view first few samples\n",
    "print(\"First 5 input samples:\\n\", X[:5])\n",
    "print(\"First 5 target values:\\n\", y[:5])\n"
   ]
  },
  {
   "cell_type": "markdown",
   "id": "d655ded9-e101-4e53-94ef-3db9cc2cdd3b",
   "metadata": {},
   "source": [
    "### Taks 3c: Training the Network **[3 marks]**\n",
    "\n",
    "Train the network for 20 epochs.\n",
    "\n",
    "During each epoch, compute the loss, perform backpropagation, and update the model's weights.\n",
    "\n",
    "Record the training loss for each epoch."
   ]
  },
  {
   "cell_type": "code",
   "execution_count": 98,
   "id": "8e49bc2b-eb06-4fef-974f-4bb93fd0058b",
   "metadata": {},
   "outputs": [
    {
     "ename": "TypeError",
     "evalue": "relu(): argument 'input' (position 1) must be Tensor, not Linear",
     "output_type": "error",
     "traceback": [
      "\u001b[1;31m---------------------------------------------------------------------------\u001b[0m",
      "\u001b[1;31mTypeError\u001b[0m                                 Traceback (most recent call last)",
      "Cell \u001b[1;32mIn[98], line 6\u001b[0m\n\u001b[0;32m      3\u001b[0m running_loss \u001b[38;5;241m=\u001b[39m\u001b[38;5;241m0.0\u001b[39m\n\u001b[0;32m      5\u001b[0m \u001b[38;5;66;03m# Forward pass\u001b[39;00m\n\u001b[1;32m----> 6\u001b[0m outputs \u001b[38;5;241m=\u001b[39m model(X)\n\u001b[0;32m      7\u001b[0m \u001b[38;5;66;03m#Compute Loss\u001b[39;00m\n\u001b[0;32m      8\u001b[0m loss \u001b[38;5;241m=\u001b[39m criterion(outputs, y)\n",
      "File \u001b[1;32m~\\AppData\\Roaming\\Python\\Python313\\site-packages\\torch\\nn\\modules\\module.py:1775\u001b[0m, in \u001b[0;36mModule._wrapped_call_impl\u001b[1;34m(self, *args, **kwargs)\u001b[0m\n\u001b[0;32m   1773\u001b[0m     \u001b[38;5;28;01mreturn\u001b[39;00m \u001b[38;5;28mself\u001b[39m\u001b[38;5;241m.\u001b[39m_compiled_call_impl(\u001b[38;5;241m*\u001b[39margs, \u001b[38;5;241m*\u001b[39m\u001b[38;5;241m*\u001b[39mkwargs)  \u001b[38;5;66;03m# type: ignore[misc]\u001b[39;00m\n\u001b[0;32m   1774\u001b[0m \u001b[38;5;28;01melse\u001b[39;00m:\n\u001b[1;32m-> 1775\u001b[0m     \u001b[38;5;28;01mreturn\u001b[39;00m \u001b[38;5;28mself\u001b[39m\u001b[38;5;241m.\u001b[39m_call_impl(\u001b[38;5;241m*\u001b[39margs, \u001b[38;5;241m*\u001b[39m\u001b[38;5;241m*\u001b[39mkwargs)\n",
      "File \u001b[1;32m~\\AppData\\Roaming\\Python\\Python313\\site-packages\\torch\\nn\\modules\\module.py:1786\u001b[0m, in \u001b[0;36mModule._call_impl\u001b[1;34m(self, *args, **kwargs)\u001b[0m\n\u001b[0;32m   1781\u001b[0m \u001b[38;5;66;03m# If we don't have any hooks, we want to skip the rest of the logic in\u001b[39;00m\n\u001b[0;32m   1782\u001b[0m \u001b[38;5;66;03m# this function, and just call forward.\u001b[39;00m\n\u001b[0;32m   1783\u001b[0m \u001b[38;5;28;01mif\u001b[39;00m \u001b[38;5;129;01mnot\u001b[39;00m (\u001b[38;5;28mself\u001b[39m\u001b[38;5;241m.\u001b[39m_backward_hooks \u001b[38;5;129;01mor\u001b[39;00m \u001b[38;5;28mself\u001b[39m\u001b[38;5;241m.\u001b[39m_backward_pre_hooks \u001b[38;5;129;01mor\u001b[39;00m \u001b[38;5;28mself\u001b[39m\u001b[38;5;241m.\u001b[39m_forward_hooks \u001b[38;5;129;01mor\u001b[39;00m \u001b[38;5;28mself\u001b[39m\u001b[38;5;241m.\u001b[39m_forward_pre_hooks\n\u001b[0;32m   1784\u001b[0m         \u001b[38;5;129;01mor\u001b[39;00m _global_backward_pre_hooks \u001b[38;5;129;01mor\u001b[39;00m _global_backward_hooks\n\u001b[0;32m   1785\u001b[0m         \u001b[38;5;129;01mor\u001b[39;00m _global_forward_hooks \u001b[38;5;129;01mor\u001b[39;00m _global_forward_pre_hooks):\n\u001b[1;32m-> 1786\u001b[0m     \u001b[38;5;28;01mreturn\u001b[39;00m forward_call(\u001b[38;5;241m*\u001b[39margs, \u001b[38;5;241m*\u001b[39m\u001b[38;5;241m*\u001b[39mkwargs)\n\u001b[0;32m   1788\u001b[0m result \u001b[38;5;241m=\u001b[39m \u001b[38;5;28;01mNone\u001b[39;00m\n\u001b[0;32m   1789\u001b[0m called_always_called_hooks \u001b[38;5;241m=\u001b[39m \u001b[38;5;28mset\u001b[39m()\n",
      "Cell \u001b[1;32mIn[95], line 9\u001b[0m, in \u001b[0;36mSimpleNN.forward\u001b[1;34m(self, x)\u001b[0m\n\u001b[0;32m      8\u001b[0m \u001b[38;5;28;01mdef\u001b[39;00m\u001b[38;5;250m \u001b[39m\u001b[38;5;21mforward\u001b[39m(\u001b[38;5;28mself\u001b[39m,x):\n\u001b[1;32m----> 9\u001b[0m     x \u001b[38;5;241m=\u001b[39m torch\u001b[38;5;241m.\u001b[39mrelu(\u001b[38;5;28mself\u001b[39m\u001b[38;5;241m.\u001b[39mfc1)\n\u001b[0;32m     10\u001b[0m     x \u001b[38;5;241m=\u001b[39m torch\u001b[38;5;241m.\u001b[39mrelu(\u001b[38;5;28mself\u001b[39m\u001b[38;5;241m.\u001b[39mfc2)\n\u001b[0;32m     11\u001b[0m     x \u001b[38;5;241m=\u001b[39m torch\u001b[38;5;241m.\u001b[39msigmoid(\u001b[38;5;28mself\u001b[39m\u001b[38;5;241m.\u001b[39mfc3)\n",
      "\u001b[1;31mTypeError\u001b[0m: relu(): argument 'input' (position 1) must be Tensor, not Linear"
     ]
    }
   ],
   "source": [
    "loss_history = []\n",
    "for epoch in range(1,20):\n",
    "    running_loss =0.0\n",
    "\n",
    "    # Forward pass\n",
    "    outputs = model(X)\n",
    "    #Compute Loss\n",
    "    loss = criterion(outputs, y)\n",
    "\n",
    "    #Backward pass and optimization\n",
    "    loss.backward()\n",
    "    optimizer.step()\n",
    "\n",
    "    #update running loss\n",
    "    running_loss +=loss.item()\n",
    "    loss_history.append(loss.item())\n",
    "    print(f\"Epoch{epoch}, Loss: {running_loss}\")\n",
    "\n",
    "\n"
   ]
  },
  {
   "cell_type": "code",
   "execution_count": null,
   "id": "62222a37-5675-4ba4-89e5-ac823a1361d3",
   "metadata": {},
   "outputs": [],
   "source": [
    "# --- Optional: Plot training loss ---\n",
    "import matplotlib.pyplot as plt\n",
    "\n",
    "plt.plot(range(1, num_epochs+1), loss_history, marker='o')\n",
    "plt.xlabel(\"Epoch\")\n",
    "plt.ylabel(\"MSE Loss\")\n",
    "plt.title(\"Training Loss over Epochs\")\n",
    "plt.grid(True)\n",
    "plt.show()"
   ]
  }
 ],
 "metadata": {
  "kernelspec": {
   "display_name": "Python 3 (ipykernel)",
   "language": "python",
   "name": "python3"
  },
  "language_info": {
   "codemirror_mode": {
    "name": "ipython",
    "version": 3
   },
   "file_extension": ".py",
   "mimetype": "text/x-python",
   "name": "python",
   "nbconvert_exporter": "python",
   "pygments_lexer": "ipython3",
   "version": "3.13.5"
  }
 },
 "nbformat": 4,
 "nbformat_minor": 5
}
