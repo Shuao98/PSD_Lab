{
 "cells": [
  {
   "cell_type": "code",
   "execution_count": 2,
   "id": "00836774-9fcf-4cb3-ab70-eef02334b0cb",
   "metadata": {},
   "outputs": [
    {
     "name": "stdout",
     "output_type": "stream",
     "text": [
      "Defaulting to user installation because normal site-packages is not writeable\n",
      "Requirement already satisfied: torch in c:\\users\\3108098b\\appdata\\roaming\\python\\python313\\site-packages (2.9.0)\n",
      "Requirement already satisfied: torchvision in c:\\users\\3108098b\\appdata\\roaming\\python\\python313\\site-packages (0.24.0)\n",
      "Requirement already satisfied: filelock in c:\\programdata\\anaconda3\\lib\\site-packages (from torch) (3.17.0)\n",
      "Requirement already satisfied: typing-extensions>=4.10.0 in c:\\programdata\\anaconda3\\lib\\site-packages (from torch) (4.12.2)\n",
      "Requirement already satisfied: sympy>=1.13.3 in c:\\programdata\\anaconda3\\lib\\site-packages (from torch) (1.13.3)\n",
      "Requirement already satisfied: networkx>=2.5.1 in c:\\programdata\\anaconda3\\lib\\site-packages (from torch) (3.4.2)\n",
      "Requirement already satisfied: jinja2 in c:\\programdata\\anaconda3\\lib\\site-packages (from torch) (3.1.6)\n",
      "Requirement already satisfied: fsspec>=0.8.5 in c:\\programdata\\anaconda3\\lib\\site-packages (from torch) (2025.3.2)\n",
      "Requirement already satisfied: setuptools in c:\\programdata\\anaconda3\\lib\\site-packages (from torch) (72.1.0)\n",
      "Requirement already satisfied: numpy in c:\\programdata\\anaconda3\\lib\\site-packages (from torchvision) (2.1.3)\n",
      "Requirement already satisfied: pillow!=8.3.*,>=5.3.0 in c:\\programdata\\anaconda3\\lib\\site-packages (from torchvision) (11.1.0)\n",
      "Requirement already satisfied: mpmath<1.4,>=1.1.0 in c:\\programdata\\anaconda3\\lib\\site-packages (from sympy>=1.13.3->torch) (1.3.0)\n",
      "Requirement already satisfied: MarkupSafe>=2.0 in c:\\programdata\\anaconda3\\lib\\site-packages (from jinja2->torch) (3.0.2)\n",
      "Note: you may need to restart the kernel to use updated packages.\n"
     ]
    }
   ],
   "source": [
    "# pip install torch torchvision"
   ]
  },
  {
   "cell_type": "code",
   "execution_count": 3,
   "id": "b3e807c7-be0e-4c58-a364-2488a690c47a",
   "metadata": {},
   "outputs": [
    {
     "name": "stdout",
     "output_type": "stream",
     "text": [
      "2.9.0+cpu\n"
     ]
    }
   ],
   "source": [
    "import torch \n",
    "print(torch.__version__)"
   ]
  },
  {
   "cell_type": "markdown",
   "id": "0416adf6-d5ce-4de5-abd6-54e3316138ad",
   "metadata": {},
   "source": [
    "import torch.nn as nn\n",
    "class SimpleNN(nn.Module):\n",
    "    def __init__(self):\n",
    "        super(SimpleNN,self).__init__()\n",
    "        self.fc1 = nn.Linear(784,128)  #Input Layer\n",
    "        self.fc2 = nn.Linear(128,64) # Hidden Layer 1\n",
    "        self.fc3 = nn.Linear(64,10) # Hidden Layer 2\n",
    "    def forward(self,x):\n",
    "        x = torch.relu(self.fc1(x))\n",
    "        x = torch.relu(self.fc2(x))\n",
    "        x = torch.softmax(self.fc3(x),dim=1)\n",
    "        return x\n",
    "model = SimpleNN()\n",
    "print(model)"
   ]
  },
  {
   "cell_type": "code",
   "execution_count": 20,
   "id": "9b9fd263-5f5b-4633-984d-8549b66e7bb6",
   "metadata": {},
   "outputs": [
    {
     "name": "stdout",
     "output_type": "stream",
     "text": [
      "Epoch1, Loss: 2.3625173128763834\n",
      "Epoch2, Loss: 2.3625173128763834\n",
      "Epoch3, Loss: 2.3625173128763834\n",
      "Epoch4, Loss: 2.3625173128763834\n",
      "Epoch5, Loss: 2.3625173128763834\n"
     ]
    }
   ],
   "source": [
    "import torch.optim as optim\n",
    "import torch.nn.functional as F\n",
    "from torchvision import datasets, transforms\n",
    "\n",
    "# Load MNIST dataset\n",
    "transform = transforms.Compose([transforms.ToTensor()])\n",
    "trainset = datasets.MNIST(root='./data', train=True, download=True, transform=transform)\n",
    "trainloader = torch.utils.data.DataLoader(trainset, batch_size=32,shuffle=True)\n",
    "\n",
    "# Define the loss function and optimizer\n",
    "criterion = nn.CrossEntropyLoss()\n",
    "optimizer = optim.SGD(model.parameters(), lr=0.01)\n",
    "\n",
    "for epoch in range(1,6):\n",
    "    running_loss = 0.0\n",
    "    for images,labels in trainloader:\n",
    "        images = images.view(images.shape[0],-1)\n",
    "\n",
    "        # optimizer.zero.grad()\n",
    "        outputs = model(images)\n",
    "        loss = criterion(outputs,labels)\n",
    "        loss.backward()\n",
    "        optimizer.step()\n",
    "        running_loss+=loss.item()\n",
    "    print(f\"Epoch{epoch}, Loss: {running_loss/len(trainloader)}\")\n",
    "        \n",
    "        "
   ]
  },
  {
   "cell_type": "code",
   "execution_count": 21,
   "id": "5acd6618-717c-464c-a6c5-bb9fe110cb1a",
   "metadata": {},
   "outputs": [
    {
     "name": "stdout",
     "output_type": "stream",
     "text": [
      "Accuracy: 9.863333333333333%\n"
     ]
    }
   ],
   "source": [
    "testset = datasets.MNIST(root='./data', train=True, download=True, transform=transform)\n",
    "testloader = torch.utils.data.DataLoader(trainset, batch_size=32,shuffle=False)\n",
    "correct =0\n",
    "total = 0\n",
    "with torch.no_grad():\n",
    "    for images,labels in testloader:\n",
    "        images = images.view(images.shape[0],-1)\n",
    "\n",
    "        # optimizer.zero.grad()\n",
    "        outputs = model(images)\n",
    "        _, predicted = torch.max(outputs.data,1)\n",
    "        total+=labels.size(0)\n",
    "        correct+=(predicted==labels).sum().item()\n",
    "    print(f\"Accuracy: {100*correct/total}%\")"
   ]
  },
  {
   "cell_type": "markdown",
   "id": "628cea96-6aee-43e1-9ff7-bad7c0c90b0c",
   "metadata": {},
   "source": [
    "### Practice Task 1"
   ]
  },
  {
   "cell_type": "markdown",
   "id": "279e6087-9652-4dfa-a98a-e900c82f9d7a",
   "metadata": {},
   "source": [
    "Step 1: Data Generation\n",
    "\n",
    "generate feature data X with 120 samples and 8 features:"
   ]
  },
  {
   "cell_type": "code",
   "execution_count": 22,
   "id": "c38f7e5a-3dd7-42be-b12e-9a0494e159ff",
   "metadata": {},
   "outputs": [],
   "source": [
    "import torch \n",
    "X = torch.randn(120,8)"
   ]
  },
  {
   "cell_type": "code",
   "execution_count": null,
   "id": "0b91388a-0009-497c-a1e5-f1f7997bbf1f",
   "metadata": {},
   "outputs": [],
   "source": [
    "Create a learni"
   ]
  }
 ],
 "metadata": {
  "kernelspec": {
   "display_name": "Python 3 (ipykernel)",
   "language": "python",
   "name": "python3"
  },
  "language_info": {
   "codemirror_mode": {
    "name": "ipython",
    "version": 3
   },
   "file_extension": ".py",
   "mimetype": "text/x-python",
   "name": "python",
   "nbconvert_exporter": "python",
   "pygments_lexer": "ipython3",
   "version": "3.13.5"
  }
 },
 "nbformat": 4,
 "nbformat_minor": 5
}
