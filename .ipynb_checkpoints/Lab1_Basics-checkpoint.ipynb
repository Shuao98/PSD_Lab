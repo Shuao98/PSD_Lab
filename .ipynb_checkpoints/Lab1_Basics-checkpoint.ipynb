{
 "cells": [
  {
   "cell_type": "code",
   "execution_count": null,
   "id": "5a99e516",
   "metadata": {
    "vscode": {
     "languageId": "plaintext"
    }
   },
   "outputs": [],
   "source": [
    "# Exercise: Day old Bread\n",
    "# price  is £ 3.49\n",
    "price = 3.49\n",
    "\n",
    "# Day old bread discounted by 60 percent\n",
    "discount = 0.60\n",
    "\n",
    "# Ask user input the number of loaves of day bread\n",
    "num = int(input(\"How many loaves of day old bread is being purchased from you? \"))\n",
    "\n",
    "# Calc total price and discount amount\n",
    "dis_amount = price * num *discount\n",
    "total_before = price * num \n",
    "total = total_before - dis_amount\n",
    "\n",
    "# Display in 2 dp\n",
    "print(\"Regular Price: \", \"%7.2f\" %price)\n",
    "print(\"Number       : \", \"%7.2f\" %num)\n",
    "print(\"Price        : \", \"%7.2f\" %total_before)\n",
    "print(\"Discount     : \", \"%7.2f\" %dis_amount)\n",
    "print(\"Total Price  : \", \"%7.2f\" %total)\n"
   ]
  },
  {
   "cell_type": "code",
   "execution_count": null,
   "id": "2aa1b576",
   "metadata": {
    "vscode": {
     "languageId": "plaintext"
    }
   },
   "outputs": [],
   "source": [
    "# Exercise: Length and Slicing (23)\n",
    "# type in the first line of their favourite song\n",
    "first_line = input(\"Enter the first line of their favourite song:\")\n",
    "\n",
    "# display the length of that string\n",
    "lengthOfStr = len(first_line)\n",
    "print(\"The first line contains \", lengthOfStr , \"characters\")\n",
    "\n",
    "# ask a starting number and an ending number\n",
    "start_num = int(input(\"Enter the starting number: \"))\n",
    "end_num = int(input(\"Enter the ending number: \"))\n",
    "# if end_num <= lengthOfStr:\n",
    "#     print(\"Your number is out of range.\")\n",
    "#     end_num = int(input(\"Enter the ending number: \"))\n",
    "# else: \n",
    "\n",
    "# display just that section of the text\n",
    "section = first_line[start_num-1:end_num]\n",
    "print(\"Final word: \", section)"
   ]
  },
  {
   "cell_type": "code",
   "execution_count": null,
   "id": "2755cfc5",
   "metadata": {
    "vscode": {
     "languageId": "plaintext"
    }
   },
   "outputs": [],
   "source": [
    "\n",
    "# Exercise: Upper or Lower case name\n",
    "# enter their first name\n",
    "first_name = input(\"Enter your first name: \")\n",
    "\n",
    "# the length of the first name is under five characters\n",
    "# ask them to enter their surname\n",
    "# join them together (without a space) and display the name in upper case\n",
    "lengthOfFirst = len(first_name)\n",
    "if lengthOfFirst <5 :\n",
    "    surname = input(\"Enter your surname: \")\n",
    "    fullname = first_name+surname\n",
    "    print(\"Name:\", str.upper(fullname))\n",
    "\n",
    "# If the length of their first name is five or more characters, \n",
    "# display their first name in lower case.\n",
    "else:\n",
    "    print(\"Name:\", str.lower(first_name))"
   ]
  },
  {
   "cell_type": "code",
   "execution_count": null,
   "id": "3d0de613",
   "metadata": {
    "vscode": {
     "languageId": "plaintext"
    }
   },
   "outputs": [],
   "source": [
    "\n",
    "# Exercise: Pig Latin\n",
    "word= input(\"Enter your word: \")\n",
    "firstChar = word[0]\n",
    "rest = word[1:len(word)]\n",
    "\n",
    "# if firstChar != \"a\" or firstChar != \"e\" or firstChar != \"i\" or firstChar != \"o\" or firstChar != \"u\":\n",
    "if firstChar in ['a', 'e', 'i', 'o', 'u']: \n",
    "    final = word+\"way\"\n",
    "    print(str.lower(final))   \n",
    "    \n",
    "else:\n",
    "    final = rest+firstChar+\"ay\"\n",
    "    print(str.lower(final))"
   ]
  }
 ],
 "metadata": {
  "language_info": {
   "name": "python"
  }
 },
 "nbformat": 4,
 "nbformat_minor": 5
}
