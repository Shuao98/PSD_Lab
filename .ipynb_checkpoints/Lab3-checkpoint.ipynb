{
 "cells": [
  {
   "cell_type": "markdown",
   "id": "5e2ce5ad-cd08-4cb3-b8d8-0d83bd9b86b5",
   "metadata": {},
   "source": [
    "# Lab 3"
   ]
  },
  {
   "cell_type": "markdown",
   "id": "5d190659-1e47-4fd5-a9e1-6c62bac5a55c",
   "metadata": {},
   "source": [
    "Exercise 1 – Display the following menu to the user: \n",
    "\n",
    "1) Create a new file \n",
    "2) Display the file \n",
    "3) Add a new item to the file \n",
    "\n",
    "Make a selection to 1, 2 or 3 \n",
    "\n",
    "Ask the user to enter 1, 2 or 3. If they select anything other than 1, 2 and 3, it should display a suitable error message. If they select 1, ask the user to enter a school subject and save it to a new file called “Subjects.txt”. It should overwrite any existing file with a new file. If they select 2, display the contents of “Subjects.txt” file. If they select 3, ask the user to enter a new subject and save it to the file and then display the entire content of the file. Run the programme several times to test the options. "
   ]
  },
  {
   "cell_type": "code",
   "execution_count": 6,
   "id": "ca9b21a5-6c5f-4513-96ef-b3f8ef74283c",
   "metadata": {},
   "outputs": [
    {
     "name": "stdout",
     "output_type": "stream",
     "text": [
      "\n",
      "    1)Create a new file \n",
      "    2)Display the file \n",
      "    3)Add a new item to the file \n",
      "    4)Quit\n",
      "    Enter your option:\n",
      "    \n"
     ]
    },
    {
     "name": "stdin",
     "output_type": "stream",
     "text": [
      "Enter your option: 1\n",
      "Enter a school subject: English\n"
     ]
    },
    {
     "name": "stdout",
     "output_type": "stream",
     "text": [
      "\n",
      "    1)Create a new file \n",
      "    2)Display the file \n",
      "    3)Add a new item to the file \n",
      "    4)Quit\n",
      "    Enter your option:\n",
      "    \n"
     ]
    },
    {
     "name": "stdin",
     "output_type": "stream",
     "text": [
      "Enter your option: 2\n"
     ]
    },
    {
     "name": "stdout",
     "output_type": "stream",
     "text": [
      "English\n",
      "\n",
      "\n",
      "    1)Create a new file \n",
      "    2)Display the file \n",
      "    3)Add a new item to the file \n",
      "    4)Quit\n",
      "    Enter your option:\n",
      "    \n"
     ]
    },
    {
     "name": "stdin",
     "output_type": "stream",
     "text": [
      "Enter your option: 3\n",
      "Enter a school subject: Maths\n"
     ]
    },
    {
     "name": "stdout",
     "output_type": "stream",
     "text": [
      "English\n",
      "\n",
      "Maths\n",
      "\n",
      "\n",
      "    1)Create a new file \n",
      "    2)Display the file \n",
      "    3)Add a new item to the file \n",
      "    4)Quit\n",
      "    Enter your option:\n",
      "    \n"
     ]
    },
    {
     "name": "stdin",
     "output_type": "stream",
     "text": [
      "Enter your option: 3\n",
      "Enter a school subject: Malay\n"
     ]
    },
    {
     "name": "stdout",
     "output_type": "stream",
     "text": [
      "English\n",
      "\n",
      "Maths\n",
      "\n",
      "Malay\n",
      "\n",
      "\n",
      "    1)Create a new file \n",
      "    2)Display the file \n",
      "    3)Add a new item to the file \n",
      "    4)Quit\n",
      "    Enter your option:\n",
      "    \n"
     ]
    },
    {
     "name": "stdin",
     "output_type": "stream",
     "text": [
      "Enter your option: 3\n",
      "Enter a school subject: Chinese\n"
     ]
    },
    {
     "name": "stdout",
     "output_type": "stream",
     "text": [
      "English\n",
      "\n",
      "Maths\n",
      "\n",
      "Malay\n",
      "\n",
      "Chinese\n",
      "\n",
      "\n",
      "    1)Create a new file \n",
      "    2)Display the file \n",
      "    3)Add a new item to the file \n",
      "    4)Quit\n",
      "    Enter your option:\n",
      "    \n"
     ]
    },
    {
     "name": "stdin",
     "output_type": "stream",
     "text": [
      "Enter your option: 2\n"
     ]
    },
    {
     "name": "stdout",
     "output_type": "stream",
     "text": [
      "English\n",
      "\n",
      "Maths\n",
      "\n",
      "Malay\n",
      "\n",
      "Chinese\n",
      "\n",
      "\n",
      "    1)Create a new file \n",
      "    2)Display the file \n",
      "    3)Add a new item to the file \n",
      "    4)Quit\n",
      "    Enter your option:\n",
      "    \n"
     ]
    },
    {
     "name": "stdin",
     "output_type": "stream",
     "text": [
      "Enter your option: 4\n"
     ]
    }
   ],
   "source": [
    "import csv\n",
    "file = open(\"Subjects.txt\",\"w\")\n",
    "print('''\n",
    "    1)Create a new file \n",
    "    2)Display the file \n",
    "    3)Add a new item to the file \n",
    "    4)Quit\n",
    "    Enter your option:\n",
    "    ''')\n",
    "option = int(input(\"Enter your option:\"))\n",
    "while option !=4:\n",
    "    if option ==1:\n",
    "        file = open(\"Subjects.txt\",\"w\")\n",
    "        sub = input(\"Enter a school subject:\")\n",
    "        file.write(str(sub+\"\\n\"))\n",
    "        file.close()\n",
    "    elif option ==2:\n",
    "        file = open(\"Subjects.txt\",\"r\")\n",
    "        for row in file:\n",
    "            print(row)\n",
    "        file.close()\n",
    "    elif option ==3:\n",
    "        file = open(\"Subjects.txt\",\"a\")\n",
    "        sub = input(\"Enter a school subject:\")\n",
    "        file.write(str(sub+\"\\n\"))\n",
    "        file = open(\"Subjects.txt\",\"r\")\n",
    "        for row in file:\n",
    "            print(row)\n",
    "        file.close()\n",
    "    else:\n",
    "        print(\"Wrong Options. Re-enter again.\")\n",
    "    print('''\n",
    "    1)Create a new file \n",
    "    2)Display the file \n",
    "    3)Add a new item to the file \n",
    "    4)Quit\n",
    "    Enter your option:\n",
    "    ''')\n",
    "    option = int(input(\"Enter your option:\"))"
   ]
  },
  {
   "cell_type": "markdown",
   "id": "8f6f8299-b2b4-4b06-889b-fc7adbab4ddb",
   "metadata": {},
   "source": [
    "Exercise 2 -  Create a simple maths quiz that will ask the user for their name and then generate two random questions. Store their name, the questions that were asked, their answers and their final score in a .csv file. Whenever the programme is run it should add to the csv file, and not overwrite anything. "
   ]
  },
  {
   "cell_type": "code",
   "execution_count": 10,
   "id": "184a1ca1-4600-42f0-b94b-fe78b4e0af8d",
   "metadata": {},
   "outputs": [
    {
     "name": "stdout",
     "output_type": "stream",
     "text": [
      "Simple maths quiz\n"
     ]
    },
    {
     "name": "stdin",
     "output_type": "stream",
     "text": [
      "Enter your name: beh\n"
     ]
    },
    {
     "name": "stdout",
     "output_type": "stream",
     "text": [
      "10+1=\n"
     ]
    },
    {
     "name": "stdin",
     "output_type": "stream",
     "text": [
      "Answer: 11\n"
     ]
    },
    {
     "name": "stdout",
     "output_type": "stream",
     "text": [
      "8+9=\n"
     ]
    },
    {
     "name": "stdin",
     "output_type": "stream",
     "text": [
      "Answer: 17\n"
     ]
    },
    {
     "name": "stdout",
     "output_type": "stream",
     "text": [
      "beh\n",
      "\n",
      "10+1= 11\n",
      "\n",
      "8+9= 17\n",
      "\n",
      "score:2out of 2 marks\n",
      "\n"
     ]
    }
   ],
   "source": [
    "import random\n",
    "\n",
    "print(\"Simple maths quiz\")\n",
    "name = input(\"Enter your name:\")\n",
    "score=0\n",
    "file = open(\"Score.txt\",\"a\")\n",
    "file.write(str(name)+\"\\n\")\n",
    "for i in range(0,2):\n",
    "    num1 = random.randint(1,10)\n",
    "    num2 = random.randint(1,10)\n",
    "    answer = num1+num2\n",
    "    question = str(num1) +\"+\"+str(num2) +\"=\"\n",
    "    print(question)\n",
    "    user_answer = int(input(\"Answer:\"))\n",
    "    if answer == user_answer:\n",
    "        score+=1\n",
    "    file.write(str(question + \" \"+str(user_answer)+\"\\n\"))\n",
    "\n",
    "file.write(str(\"score:\"+str(score) +\"out of 2 marks\")+\"\\n\")\n",
    "file.close()\n",
    "    \n",
    "file = open(\"Score.txt\",\"r\")\n",
    "for row in file:\n",
    "    print(row)\n",
    "file.close()\n",
    "\n"
   ]
  },
  {
   "cell_type": "markdown",
   "id": "feb7ad1a-ca10-49db-86ab-8a0e72f9a9a4",
   "metadata": {},
   "source": [
    "Exercise 3 - (Function and .csv files) Create the following menu: \n",
    "\n",
    "1) Add to file \n",
    "2) View all records \n",
    "3) Quit programme \n",
    "Enter the number of your selection: \n",
    "\n",
    "If the user selects 1, allow them to add to a file called Salaries.csv which will store their name and salary. If they select 2 it should display all records in the Salaries.csv file. If they select 3 it should stop the programme. If they select an incorrect option, they should see an error message. They should keep returning to the menu until they select option 3. "
   ]
  },
  {
   "cell_type": "code",
   "execution_count": 11,
   "id": "fc88ecbf-c493-47b5-a13a-ced1151b7c90",
   "metadata": {},
   "outputs": [
    {
     "name": "stdout",
     "output_type": "stream",
     "text": [
      "\n",
      "    1) Add to file \n",
      "    2) View all records \n",
      "    3) Quit programme \n",
      "    Enter the number of your selection: \n",
      "    \n"
     ]
    },
    {
     "name": "stdin",
     "output_type": "stream",
     "text": [
      "Enter your option: 1\n",
      "Enter your name: Beh\n",
      "Salary: 15\n"
     ]
    },
    {
     "name": "stdout",
     "output_type": "stream",
     "text": [
      "\n",
      "        1) Add to file \n",
      "        2) View all records \n",
      "        3) Quit programme \n",
      "        Enter the number of your selection: \n",
      "        \n"
     ]
    },
    {
     "name": "stdin",
     "output_type": "stream",
     "text": [
      "Enter your option: 2\n"
     ]
    },
    {
     "name": "stdout",
     "output_type": "stream",
     "text": [
      "Beh, 15\n",
      "\n",
      "\n",
      "        1) Add to file \n",
      "        2) View all records \n",
      "        3) Quit programme \n",
      "        Enter the number of your selection: \n",
      "        \n"
     ]
    },
    {
     "name": "stdin",
     "output_type": "stream",
     "text": [
      "Enter your option: 1\n",
      "Enter your name: Zhong\n",
      "Salary: 10\n"
     ]
    },
    {
     "name": "stdout",
     "output_type": "stream",
     "text": [
      "\n",
      "        1) Add to file \n",
      "        2) View all records \n",
      "        3) Quit programme \n",
      "        Enter the number of your selection: \n",
      "        \n"
     ]
    },
    {
     "name": "stdin",
     "output_type": "stream",
     "text": [
      "Enter your option: 2\n"
     ]
    },
    {
     "name": "stdout",
     "output_type": "stream",
     "text": [
      "Beh, 15\n",
      "\n",
      "Zhong, 10\n",
      "\n",
      "\n",
      "        1) Add to file \n",
      "        2) View all records \n",
      "        3) Quit programme \n",
      "        Enter the number of your selection: \n",
      "        \n"
     ]
    },
    {
     "name": "stdin",
     "output_type": "stream",
     "text": [
      "Enter your option: 3\n"
     ]
    }
   ],
   "source": [
    "file = open(\"Salaries.csv\",\"w\")\n",
    "print('''\n",
    "    1) Add to file \n",
    "    2) View all records \n",
    "    3) Quit programme \n",
    "    Enter the number of your selection: \n",
    "    ''')\n",
    "option = int(input(\"Enter your option:\"))\n",
    "while option !=3:\n",
    "    if option ==1:\n",
    "        file = open(\"Salaries.csv\",\"a\")\n",
    "        name = input(\"Enter your name:\")\n",
    "        salary = int(input(\"Salary:\"))\n",
    "        file.write(str(name+\", \"+str(salary)+\"\\n\"))\n",
    "        file.close()\n",
    "    elif option ==2:\n",
    "        file = open(\"Salaries.csv\",\"r\")\n",
    "        for row in file:\n",
    "            print(row)\n",
    "        file.close()\n",
    "    else:\n",
    "        print(\"Wrong Options. Re-enter again.\")\n",
    "    print('''\n",
    "        1) Add to file \n",
    "        2) View all records \n",
    "        3) Quit programme \n",
    "        Enter the number of your selection: \n",
    "        ''')\n",
    "    option = int(input(\"Enter your option:\"))\n",
    "\n"
   ]
  },
  {
   "cell_type": "markdown",
   "id": "643d011b-afcf-4801-b7ed-5f3d62595e7a",
   "metadata": {},
   "source": [
    "Exercise 4 – (function and csv) In Python, it is not technically possible to directly delete a record from a .csv file. Instead, you need to save the file to a temporary list in Python, make the changes to the list and then overwrite the original file with the temporary list. \n",
    "\n",
    "Change the previous programme to allow you to do this. Your menu should now look like this: \n",
    "\n",
    "1) Add to file \n",
    "2) View all records \n",
    "3) Delete a record \n",
    "4) Quit programme "
   ]
  },
  {
   "cell_type": "code",
   "execution_count": 15,
   "id": "09c64932-7a96-4d66-9399-b610fed5d6bf",
   "metadata": {},
   "outputs": [
    {
     "name": "stdout",
     "output_type": "stream",
     "text": [
      "\n",
      "    1) Add to file \n",
      "    2) View all records \n",
      "    3) Delete a record\n",
      "    4) Quit programme \n",
      "    Enter the number of your selection: \n",
      "    \n"
     ]
    },
    {
     "name": "stdin",
     "output_type": "stream",
     "text": [
      "Enter your option: 2\n"
     ]
    },
    {
     "name": "stdout",
     "output_type": "stream",
     "text": [
      "Beh, 15\n",
      "\n",
      "yin#, 14\n",
      "\n",
      "\n",
      "        1) Add to file \n",
      "        2) View all records\n",
      "        3) Delete a record\n",
      "        4) Quit programme \n",
      "        Enter the number of your selection: \n",
      "        \n"
     ]
    },
    {
     "name": "stdin",
     "output_type": "stream",
     "text": [
      "Enter your option: 1\n",
      "Enter your name: shu\n",
      "Salary: 15\n"
     ]
    },
    {
     "name": "stdout",
     "output_type": "stream",
     "text": [
      "\n",
      "        1) Add to file \n",
      "        2) View all records\n",
      "        3) Delete a record\n",
      "        4) Quit programme \n",
      "        Enter the number of your selection: \n",
      "        \n"
     ]
    },
    {
     "name": "stdin",
     "output_type": "stream",
     "text": [
      "Enter your option: 3\n",
      "Enter the name to delete:  shu\n"
     ]
    },
    {
     "name": "stdout",
     "output_type": "stream",
     "text": [
      "Record(s) with name 'shu' deleted (if existed).\n",
      "\n",
      "        1) Add to file \n",
      "        2) View all records\n",
      "        3) Delete a record\n",
      "        4) Quit programme \n",
      "        Enter the number of your selection: \n",
      "        \n"
     ]
    },
    {
     "name": "stdin",
     "output_type": "stream",
     "text": [
      "Enter your option: 2\n"
     ]
    },
    {
     "name": "stdout",
     "output_type": "stream",
     "text": [
      "Beh, 15\n",
      "\n",
      "yin#, 14\n",
      "\n",
      "\n",
      "        1) Add to file \n",
      "        2) View all records\n",
      "        3) Delete a record\n",
      "        4) Quit programme \n",
      "        Enter the number of your selection: \n",
      "        \n"
     ]
    },
    {
     "name": "stdin",
     "output_type": "stream",
     "text": [
      "Enter your option: 4\n"
     ]
    }
   ],
   "source": [
    "print('''\n",
    "    1) Add to file \n",
    "    2) View all records \n",
    "    3) Delete a record\n",
    "    4) Quit programme \n",
    "    Enter the number of your selection: \n",
    "    ''')\n",
    "option = int(input(\"Enter your option:\"))\n",
    "while option !=4:\n",
    "    if option ==1:\n",
    "        file = open(\"Salaries.csv\",\"a\")\n",
    "        name = input(\"Enter your name:\")\n",
    "        salary = int(input(\"Salary:\"))\n",
    "        file.write(str(name+\", \"+str(salary)+\"\\n\"))\n",
    "        file.close()\n",
    "        \n",
    "    elif option ==2:\n",
    "        file = open(\"Salaries.csv\",\"r\")\n",
    "        for row in file:\n",
    "            print(row)\n",
    "        file.close()\n",
    "        \n",
    "    elif option ==3:\n",
    "        try:\n",
    "            with open(\"Salaries.csv\", \"r\") as file:\n",
    "                reader = list(csv.reader(file))\n",
    "    \n",
    "            name = input(\"Enter the name to delete: \")\n",
    "    \n",
    "            new_list = [row for row in reader if row and row[0] != name]\n",
    "    \n",
    "            with open(\"Salaries.csv\", \"w\", newline=\"\") as file:\n",
    "                writer = csv.writer(file)\n",
    "                writer.writerows(new_list)\n",
    "    \n",
    "            print(f\"Record(s) with name '{name}' deleted (if existed).\")\n",
    "    \n",
    "        except FileNotFoundError:\n",
    "            print(\"No records found to delete.\")\n",
    "    else:\n",
    "        print(\"Wrong Options. Re-enter again.\")\n",
    "    print('''\n",
    "        1) Add to file \n",
    "        2) View all records\n",
    "        3) Delete a record\n",
    "        4) Quit programme \n",
    "        Enter the number of your selection: \n",
    "        ''')\n",
    "    option = int(input(\"Enter your option:\"))\n"
   ]
  },
  {
   "cell_type": "markdown",
   "id": "2b695798-4e51-40bb-abe2-186f2f35a329",
   "metadata": {},
   "source": [
    "Exercise 5 - Sum a Collection of Numbers \n",
    "\n",
    "Create a program that sums all of the numbers entered by the user while ignoring any input that is not a valid number. Your program should display the current sum after each number is entered. It should display an appropriate message after each non-numeric input, and then continue to sum any additional numbers entered by the user. Exit the program when the user enters a blank line. Ensures that your program works correctly for both integer and floating-point numbers. "
   ]
  },
  {
   "cell_type": "code",
   "execution_count": 17,
   "id": "9680bcb3-0ff6-45fd-b8bd-9efc9baddd55",
   "metadata": {},
   "outputs": [
    {
     "name": "stdin",
     "output_type": "stream",
     "text": [
      "Enter a number (blank line to quit):  1\n"
     ]
    },
    {
     "name": "stdout",
     "output_type": "stream",
     "text": [
      "Current sum: 1.0\n"
     ]
    },
    {
     "name": "stdin",
     "output_type": "stream",
     "text": [
      "Enter a number (blank line to quit):  2\n"
     ]
    },
    {
     "name": "stdout",
     "output_type": "stream",
     "text": [
      "Current sum: 3.0\n"
     ]
    },
    {
     "name": "stdin",
     "output_type": "stream",
     "text": [
      "Enter a number (blank line to quit):  3\n"
     ]
    },
    {
     "name": "stdout",
     "output_type": "stream",
     "text": [
      "Current sum: 6.0\n"
     ]
    },
    {
     "name": "stdin",
     "output_type": "stream",
     "text": [
      "Enter a number (blank line to quit):  4\n"
     ]
    },
    {
     "name": "stdout",
     "output_type": "stream",
     "text": [
      "Current sum: 10.0\n"
     ]
    },
    {
     "name": "stdin",
     "output_type": "stream",
     "text": [
      "Enter a number (blank line to quit):  5\n"
     ]
    },
    {
     "name": "stdout",
     "output_type": "stream",
     "text": [
      "Current sum: 15.0\n"
     ]
    },
    {
     "name": "stdin",
     "output_type": "stream",
     "text": [
      "Enter a number (blank line to quit):  abv\n"
     ]
    },
    {
     "name": "stdout",
     "output_type": "stream",
     "text": [
      "Invalid input! Please enter a valid number.\n"
     ]
    },
    {
     "name": "stdin",
     "output_type": "stream",
     "text": [
      "Enter a number (blank line to quit):  4\n"
     ]
    },
    {
     "name": "stdout",
     "output_type": "stream",
     "text": [
      "Current sum: 19.0\n"
     ]
    },
    {
     "name": "stdin",
     "output_type": "stream",
     "text": [
      "Enter a number (blank line to quit):   \n"
     ]
    },
    {
     "name": "stdout",
     "output_type": "stream",
     "text": [
      "Programme ended. Final sum: 19.0\n"
     ]
    }
   ],
   "source": [
    "def sum_numbers():\n",
    "    total = 0.0  # store running sum\n",
    "\n",
    "    while True:\n",
    "        user_input = input(\"Enter a number (blank line to quit): \")\n",
    "\n",
    "        # exit condition\n",
    "        if user_input.strip() == \"\":\n",
    "            print(\"Programme ended. Final sum:\", total)\n",
    "            break\n",
    "\n",
    "        try:\n",
    "            number = float(user_input)   # works for both int and float\n",
    "            total += number\n",
    "            print(\"Current sum:\", total)\n",
    "        except ValueError:\n",
    "            print(\"Invalid input! Please enter a valid number.\")\n",
    "\n",
    "# Run the program\n",
    "sum_numbers()\n"
   ]
  },
  {
   "cell_type": "markdown",
   "id": "7fe48822-9ef0-4b61-8ee2-0f3870aec57a",
   "metadata": {},
   "source": [
    "## SQlite3: \n",
    "\n",
    "Exercise 17 – Create an SQL database called PhoneBook1 that contains a table called Names with the following data: "
   ]
  },
  {
   "cell_type": "code",
   "execution_count": 22,
   "id": "1994e49e-4543-49fe-b8f7-e348637e0359",
   "metadata": {},
   "outputs": [],
   "source": [
    "import sqlite3 \n",
    "with sqlite3.connect(\"PhoneBook1.db\") as db: \n",
    " cursor=db.cursor() \n",
    "cursor.execute(\"\"\"CREATE TABLE IF NOT EXISTS names(\n",
    "\tid integer PRIMARY KEY, \n",
    "\tfirst_name text NOT NULL, \n",
    "\tsurname text NOT NULL, \n",
    "\tphone_num integer);\"\"\") \n",
    "cursor.execute(\"\"\"INSERT INTO names(id,first_name, surname,phone_num) \n",
    "  VALUES(1,\"Simon\" ,\"Pierre\",\"01426789056\")\"\"\")\n",
    "cursor.execute(\"\"\"INSERT INTO names(id,first_name, surname,phone_num) \n",
    "  VALUES(2,\"Katarina\"  ,\"Iglesias\",\"02034567078\")\"\"\")\n",
    "cursor.execute(\"\"\"INSERT INTO names(id,first_name, surname,phone_num) \n",
    "  VALUES(3,\"Derrick\"   ,\"Brown\",\"0122345 8765\")\"\"\")\n",
    "cursor.execute(\"\"\"INSERT INTO names(id,first_name, surname,phone_num) \n",
    "  VALUES(4,\"John\"  ,\"Smith\",\"0112653 2312\")\"\"\")\n",
    "cursor.execute(\"\"\"INSERT INTO names(id,first_name, surname,phone_num) \n",
    "  VALUES(5,\"Mark\" ,\"Isaac\",\"01416571383\")\"\"\")\n",
    "db.commit() \n",
    "db.close()"
   ]
  },
  {
   "cell_type": "markdown",
   "id": "1c8142d5-89de-4696-a94d-c9026be4add1",
   "metadata": {},
   "source": [
    "Exercise 18 – Using the phonebook database, write a programme that will display the following menu \n",
    "\n",
    "Main menu \n",
    "\n",
    "1) View phone book \n",
    "2) Add to phone book \n",
    "3) Search for surname \n",
    "4) Delete person from phone book \n",
    "5) Quit \n",
    "Enter your selection \n",
    "\n",
    "If the user selects 1, they should be able to view the entire phonebook. If they select 2, it should allow them to add a new person to the phonebook. If they select 3, it should ask them for a surname and then display only the record of people with the same surname. If they select 4, it should ask for an ID and then delete that record from the table. If they select 5, it should end the programme. Finally, the programme should display a suitable message if they enter an incorrect selection from the menu. They should return to the menu after each action until they select 5. "
   ]
  },
  {
   "cell_type": "code",
   "execution_count": 23,
   "id": "ad4a60e3-5c94-464e-8ab3-766e39804b6c",
   "metadata": {},
   "outputs": [
    {
     "name": "stdout",
     "output_type": "stream",
     "text": [
      "\n",
      "    1) View phone book \n",
      "    2) Add to phone book \n",
      "    3) Search for surname \n",
      "    4) Delete person from phone book \n",
      "    5) Quit\n",
      "    \n"
     ]
    },
    {
     "name": "stdin",
     "output_type": "stream",
     "text": [
      "Enter your option:  1\n"
     ]
    },
    {
     "name": "stdout",
     "output_type": "stream",
     "text": [
      "(1, 'Simon', 'Pierre', 1426789056)\n",
      "(2, 'Katarina', 'Iglesias', 2034567078)\n",
      "(3, 'Derrick', 'Brown', '0122345 8765')\n",
      "(4, 'John', 'Smith', '0112653 2312')\n",
      "(5, 'Mark', 'Isaac', 1416571383)\n",
      "\n",
      "    1) View phone book \n",
      "    2) Add to phone book \n",
      "    3) Search for surname \n",
      "    4) Delete person from phone book \n",
      "    5) Quit\n",
      "    \n"
     ]
    },
    {
     "name": "stdin",
     "output_type": "stream",
     "text": [
      "Enter your option:  2\n",
      "Enter ID number:  6\n",
      "Enter first name:  Beh\n",
      "Enter Surname: Shuao\n",
      "Enter phone number:  12345678\n"
     ]
    },
    {
     "name": "stdout",
     "output_type": "stream",
     "text": [
      "Record added successfully.\n",
      "\n",
      "    1) View phone book \n",
      "    2) Add to phone book \n",
      "    3) Search for surname \n",
      "    4) Delete person from phone book \n",
      "    5) Quit\n",
      "    \n"
     ]
    },
    {
     "name": "stdin",
     "output_type": "stream",
     "text": [
      "Enter your option:  1\n"
     ]
    },
    {
     "name": "stdout",
     "output_type": "stream",
     "text": [
      "(1, 'Simon', 'Pierre', 1426789056)\n",
      "(2, 'Katarina', 'Iglesias', 2034567078)\n",
      "(3, 'Derrick', 'Brown', '0122345 8765')\n",
      "(4, 'John', 'Smith', '0112653 2312')\n",
      "(5, 'Mark', 'Isaac', 1416571383)\n",
      "(6, 'Beh', 'Shuao', 12345678)\n",
      "\n",
      "    1) View phone book \n",
      "    2) Add to phone book \n",
      "    3) Search for surname \n",
      "    4) Delete person from phone book \n",
      "    5) Quit\n",
      "    \n"
     ]
    },
    {
     "name": "stdin",
     "output_type": "stream",
     "text": [
      "Enter your option:  3\n",
      "Enter Surname: john\n"
     ]
    },
    {
     "name": "stdout",
     "output_type": "stream",
     "text": [
      "\n",
      "    1) View phone book \n",
      "    2) Add to phone book \n",
      "    3) Search for surname \n",
      "    4) Delete person from phone book \n",
      "    5) Quit\n",
      "    \n"
     ]
    },
    {
     "name": "stdin",
     "output_type": "stream",
     "text": [
      "Enter your option:  3\n",
      "Enter Surname: shuao#\n"
     ]
    },
    {
     "name": "stdout",
     "output_type": "stream",
     "text": [
      "\n",
      "    1) View phone book \n",
      "    2) Add to phone book \n",
      "    3) Search for surname \n",
      "    4) Delete person from phone book \n",
      "    5) Quit\n",
      "    \n"
     ]
    },
    {
     "name": "stdin",
     "output_type": "stream",
     "text": [
      "Enter your option:  3\n",
      "Enter Surname: shuao\n"
     ]
    },
    {
     "name": "stdout",
     "output_type": "stream",
     "text": [
      "\n",
      "    1) View phone book \n",
      "    2) Add to phone book \n",
      "    3) Search for surname \n",
      "    4) Delete person from phone book \n",
      "    5) Quit\n",
      "    \n"
     ]
    },
    {
     "name": "stdin",
     "output_type": "stream",
     "text": [
      "Enter your option:  3\n",
      "Enter Surname: Shuao\n"
     ]
    },
    {
     "name": "stdout",
     "output_type": "stream",
     "text": [
      "(6, 'Beh', 'Shuao', 12345678)\n",
      "\n",
      "    1) View phone book \n",
      "    2) Add to phone book \n",
      "    3) Search for surname \n",
      "    4) Delete person from phone book \n",
      "    5) Quit\n",
      "    \n"
     ]
    },
    {
     "name": "stdin",
     "output_type": "stream",
     "text": [
      "Enter your option:  4\n",
      "Enter ID number to delete:  6\n"
     ]
    },
    {
     "name": "stdout",
     "output_type": "stream",
     "text": [
      "Record with ID 6 deleted successfully.\n",
      "\n",
      "    1) View phone book \n",
      "    2) Add to phone book \n",
      "    3) Search for surname \n",
      "    4) Delete person from phone book \n",
      "    5) Quit\n",
      "    \n"
     ]
    },
    {
     "name": "stdin",
     "output_type": "stream",
     "text": [
      "Enter your option:  1\n"
     ]
    },
    {
     "name": "stdout",
     "output_type": "stream",
     "text": [
      "(1, 'Simon', 'Pierre', 1426789056)\n",
      "(2, 'Katarina', 'Iglesias', 2034567078)\n",
      "(3, 'Derrick', 'Brown', '0122345 8765')\n",
      "(4, 'John', 'Smith', '0112653 2312')\n",
      "(5, 'Mark', 'Isaac', 1416571383)\n",
      "\n",
      "    1) View phone book \n",
      "    2) Add to phone book \n",
      "    3) Search for surname \n",
      "    4) Delete person from phone book \n",
      "    5) Quit\n",
      "    \n"
     ]
    },
    {
     "name": "stdin",
     "output_type": "stream",
     "text": [
      "Enter your option:  5\n"
     ]
    },
    {
     "name": "stdout",
     "output_type": "stream",
     "text": [
      "Programme ended.\n"
     ]
    }
   ],
   "source": [
    "import sqlite3\n",
    "\n",
    "# Connect to database (creates file if it doesn't exist)\n",
    "db = sqlite3.connect(\"PhoneBook1.db\")\n",
    "cursor = db.cursor()\n",
    "\n",
    "# Create table if not exists\n",
    "cursor.execute(\"\"\"CREATE TABLE IF NOT EXISTS names(\n",
    "    id INTEGER PRIMARY KEY,\n",
    "    first_name TEXT NOT NULL,\n",
    "    surname TEXT NOT NULL,\n",
    "    phone_num TEXT NOT NULL\n",
    ")\"\"\")\n",
    "db.commit()\n",
    "\n",
    "def menu():\n",
    "    print('''\n",
    "    1) View phone book \n",
    "    2) Add to phone book \n",
    "    3) Search for surname \n",
    "    4) Delete person from phone book \n",
    "    5) Quit\n",
    "    ''')\n",
    "\n",
    "def add_record():\n",
    "    newID = input (\"Enter ID number: \")\n",
    "    newFirstname = input(\"Enter first name: \")\n",
    "    newSurname = input(\"Enter Surname:\")\n",
    "    newPhone = input(\"Enter phone number: \")\n",
    "    cursor.execute(\"\"\"INSERT INTO names(id, first_name, surname, phone_num)\n",
    "      VALUES(?, ?, ?, ?)\"\"\", (newID, newFirstname, newSurname, newPhone)) \n",
    "    db.commit() \n",
    "    print(\"Record added successfully.\")\n",
    "\n",
    "def view_records():\n",
    "    cursor.execute(\"SELECT * FROM names\") \n",
    "    for x in cursor.fetchall():\n",
    "        print(x) \n",
    "\n",
    "\n",
    "def delete_record():\n",
    "    delID = input(\"Enter ID number to delete: \")\n",
    "    cursor.execute(\"DELETE FROM names WHERE id=?\", (delID,))\n",
    "    db.commit()\n",
    "    if cursor.rowcount > 0:\n",
    "        print(f\"Record with ID {delID} deleted successfully.\")\n",
    "    else:\n",
    "        print(f\"No record found with ID {delID}.\")\n",
    "\n",
    "def search_record():\n",
    "    newSurname = input(\"Enter Surname:\")\n",
    "    cursor.execute(\"SELECT * FROM names WHERE surname=?\", (newSurname,)) \n",
    "    for x in cursor.fetchall():\n",
    "       print (x) \n",
    "\n",
    "# Main Program Loop\n",
    "option = 0\n",
    "while option != 5:\n",
    "    menu()\n",
    "    try:\n",
    "        option = int(input(\"Enter your option: \"))\n",
    "    except ValueError:\n",
    "        print(\"Invalid input. Please enter a number (1–5).\")\n",
    "        continue\n",
    "\n",
    "    if option == 1:\n",
    "        view_records()\n",
    "    elif option == 2:\n",
    "        add_record()\n",
    "    elif option == 3:\n",
    "        search_record()\n",
    "    elif option == 4:\n",
    "        delete_record()\n",
    "    elif option == 5:\n",
    "        print(\"Programme ended.\")\n",
    "    else:\n",
    "        print(\"Wrong option. Re-enter again.\")\n",
    "db.close()"
   ]
  }
 ],
 "metadata": {
  "kernelspec": {
   "display_name": "Python 3 (ipykernel)",
   "language": "python",
   "name": "python3"
  },
  "language_info": {
   "codemirror_mode": {
    "name": "ipython",
    "version": 3
   },
   "file_extension": ".py",
   "mimetype": "text/x-python",
   "name": "python",
   "nbconvert_exporter": "python",
   "pygments_lexer": "ipython3",
   "version": "3.13.5"
  }
 },
 "nbformat": 4,
 "nbformat_minor": 5
}
