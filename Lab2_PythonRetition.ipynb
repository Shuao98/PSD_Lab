{
 "cells": [
  {
   "cell_type": "markdown",
   "id": "b612eb33-d21b-4323-9443-3c4a98b64c8a",
   "metadata": {},
   "source": [
    "# Python Repetition"
   ]
  },
  {
   "cell_type": "code",
   "execution_count": 2,
   "id": "235d21f4-1630-42d3-bc1f-205f3064fae3",
   "metadata": {},
   "outputs": [
    {
     "name": "stdin",
     "output_type": "stream",
     "text": [
      "Enter your name: beh\n",
      "Enter a number: 2\n"
     ]
    },
    {
     "name": "stdout",
     "output_type": "stream",
     "text": [
      "beh\n",
      "beh\n"
     ]
    }
   ],
   "source": [
    "# For Loops Exercise\n",
    "name = input(\"Enter your name:\")\n",
    "num = int(input(\"Enter a number:\"))\n",
    "\n",
    "if num < 10:\n",
    "    for i in range(0, num):\n",
    "        print(name)\n",
    "else: \n",
    "    for i in range(0,3):\n",
    "        print(\"Too High\")"
   ]
  },
  {
   "cell_type": "code",
   "execution_count": 5,
   "id": "8c5e9c9a-9b23-445e-8890-23d050e4d3fd",
   "metadata": {},
   "outputs": [
    {
     "name": "stdin",
     "output_type": "stream",
     "text": [
      "Enter a number: 5\n",
      "Do you want to include this number(Y/N): y\n",
      "Enter a number: 5\n",
      "Do you want to include this number(Y/N): y\n",
      "Enter a number: 4\n",
      "Do you want to include this number(Y/N): n\n",
      "Enter a number: 4\n",
      "Do you want to include this number(Y/N): n\n",
      "Enter a number: 4\n",
      "Do you want to include this number(Y/N): n\n"
     ]
    },
    {
     "name": "stdout",
     "output_type": "stream",
     "text": [
      "Total is 10\n"
     ]
    }
   ],
   "source": [
    "total = 0\n",
    "\n",
    "for i in range(0,5):\n",
    "    num = int(input(\"Enter a number:\"))\n",
    "    included = input(\"Do you want to include this number(Y/N):\")\n",
    "    if included.lower()==\"y\":\n",
    "        total+=num\n",
    "\n",
    "print(f\"Total is {total}\")        "
   ]
  },
  {
   "cell_type": "code",
   "execution_count": 6,
   "id": "b5ae6f22-c083-48c7-9bb2-6221a53b512a",
   "metadata": {},
   "outputs": [
    {
     "name": "stdin",
     "output_type": "stream",
     "text": [
      "Enter a direction (up or down): up\n",
      "Enter a top number: 4\n"
     ]
    },
    {
     "name": "stdout",
     "output_type": "stream",
     "text": [
      "1\n",
      "2\n",
      "3\n",
      "4\n"
     ]
    }
   ],
   "source": [
    "direction = input(\"Enter a direction (up or down):\")\n",
    "if direction.lower() == \"up\":\n",
    "    num = int(input(\"Enter a top number:\"))\n",
    "    for i in range(0,num):\n",
    "        print(i+1)\n",
    "elif direction.lower() == \"down\":\n",
    "    num = int(input(\"Enter a number below 20:\"))\n",
    "    if num < 20:\n",
    "        for i in range(20,num-1,-1):\n",
    "            print(i)\n",
    "    else:\n",
    "        print(\"The number is greater than 20\")\n",
    "else:\n",
    "    print(\"I don’t understand\")"
   ]
  },
  {
   "cell_type": "code",
   "execution_count": 7,
   "id": "4b6be3cb-e744-45c8-805f-545ca2d6c784",
   "metadata": {},
   "outputs": [
    {
     "name": "stdin",
     "output_type": "stream",
     "text": [
      "Enter a number: 12\n",
      "Enter a number: 12\n",
      "Do you want to add another number(Y/n) y\n",
      "Enter a number: 33\n",
      "Do you want to add another number(Y/n) y\n",
      "Enter a number: 45\n",
      "Do you want to add another number(Y/n) n\n"
     ]
    },
    {
     "name": "stdout",
     "output_type": "stream",
     "text": [
      "Total is 102\n"
     ]
    }
   ],
   "source": [
    "# While Loop exercises\n",
    "total =0\n",
    "num = int(input(\"Enter a number:\"))\n",
    "num2 = int(input(\"Enter a number:\"))\n",
    "total = num+num2\n",
    "again = input(\"Do you want to add another number(Y/n)\")\n",
    "while again.lower()==\"y\": \n",
    "    n = int(input(\"Enter a number:\"))\n",
    "    total+=n\n",
    "    again = input(\"Do you want to add another number(Y/n)\")\n",
    "print(f\"Total is {total}\")   "
   ]
  },
  {
   "cell_type": "code",
   "execution_count": 8,
   "id": "04f14148-d894-4282-9b60-5921311b035f",
   "metadata": {},
   "outputs": [
    {
     "name": "stdin",
     "output_type": "stream",
     "text": [
      "Enter a number: 40\n"
     ]
    },
    {
     "name": "stdout",
     "output_type": "stream",
     "text": [
      "the guess is too low\n"
     ]
    },
    {
     "name": "stdin",
     "output_type": "stream",
     "text": [
      "Enter a number: 55\n"
     ]
    },
    {
     "name": "stdout",
     "output_type": "stream",
     "text": [
      "the guess is too high\n"
     ]
    },
    {
     "name": "stdin",
     "output_type": "stream",
     "text": [
      "Enter a number: 50\n"
     ]
    },
    {
     "name": "stdout",
     "output_type": "stream",
     "text": [
      "Well done, you took 3 attempts\n"
     ]
    }
   ],
   "source": [
    "compnum=50\n",
    "num = int(input(\"Enter a number:\"))\n",
    "count=1\n",
    "while num!=compnum:\n",
    "    if num > compnum:\n",
    "        print(\"the guess is too high\")\n",
    "    else:\n",
    "        print(\"the guess is too low\")\n",
    "    count+=1\n",
    "    num = int(input(\"Enter a number:\"))\n",
    "print(f\"Well done, you took {count} attempts\")"
   ]
  },
  {
   "cell_type": "code",
   "execution_count": 9,
   "id": "ea6e709a-4138-4563-a4cb-0dbadc7aa9bf",
   "metadata": {},
   "outputs": [
    {
     "name": "stdout",
     "output_type": "stream",
     "text": [
      "There are 10 green bottles hanging on the wall, 10 green bottle hanging on the wall, and is 1 green bottle should accidentally fall.\n"
     ]
    },
    {
     "name": "stdin",
     "output_type": "stream",
     "text": [
      "how many green bottles will be hanging on the wall? 8\n"
     ]
    },
    {
     "name": "stdout",
     "output_type": "stream",
     "text": [
      "No, try again\n",
      "There are 9 green bottles hanging on the wall, 9 green bottle hanging on the wall, and is 1 green bottle should accidentally fall.\n"
     ]
    },
    {
     "name": "stdin",
     "output_type": "stream",
     "text": [
      "how many green bottles will be hanging on the wall? 7\n"
     ]
    },
    {
     "name": "stdout",
     "output_type": "stream",
     "text": [
      "No, try again\n",
      "There are 8 green bottles hanging on the wall, 8 green bottle hanging on the wall, and is 1 green bottle should accidentally fall.\n"
     ]
    },
    {
     "name": "stdin",
     "output_type": "stream",
     "text": [
      "how many green bottles will be hanging on the wall? 6\n"
     ]
    },
    {
     "name": "stdout",
     "output_type": "stream",
     "text": [
      "No, try again\n",
      "There are 7 green bottles hanging on the wall, 7 green bottle hanging on the wall, and is 1 green bottle should accidentally fall.\n"
     ]
    },
    {
     "name": "stdin",
     "output_type": "stream",
     "text": [
      "how many green bottles will be hanging on the wall? 4\n"
     ]
    },
    {
     "name": "stdout",
     "output_type": "stream",
     "text": [
      "No, try again\n",
      "There are 6 green bottles hanging on the wall, 6 green bottle hanging on the wall, and is 1 green bottle should accidentally fall.\n"
     ]
    },
    {
     "name": "stdin",
     "output_type": "stream",
     "text": [
      "how many green bottles will be hanging on the wall? 6\n"
     ]
    },
    {
     "name": "stdout",
     "output_type": "stream",
     "text": [
      "There will be 6 green bottles hanging on the wall\n"
     ]
    }
   ],
   "source": [
    "num=10\n",
    "print(f\"There are {num} green bottles hanging on the wall, {num} green bottle hanging on the wall, and is 1 green bottle should accidentally fall.\")\n",
    "guess = int(input(\"how many green bottles will be hanging on the wall?\"))\n",
    "while guess!=num:\n",
    "    num-=1\n",
    "    print(\"No, try again\")\n",
    "    print(f\"There are {num} green bottles hanging on the wall, {num} green bottle hanging on the wall, and is 1 green bottle should accidentally fall.\")\n",
    "    guess = int(input(\"how many green bottles will be hanging on the wall?\"))\n",
    "    if num == 0:\n",
    "        print(\"There are no more green bottles hanging on the wall\")\n",
    "        break\n",
    "print(f\"There will be {num} green bottles hanging on the wall\")\n",
    "    "
   ]
  },
  {
   "cell_type": "code",
   "execution_count": 10,
   "id": "2e2ce7eb-e5f1-4f72-9759-995f9d3b7bf4",
   "metadata": {},
   "outputs": [
    {
     "name": "stdin",
     "output_type": "stream",
     "text": [
      "Enter a number: 12\n"
     ]
    },
    {
     "name": "stdout",
     "output_type": "stream",
     "text": [
      "1\n",
      "2\n",
      "3\n",
      "4\n",
      "5\n",
      "6\n",
      "7\n",
      "8\n",
      "9\n",
      "10\n",
      "11\n",
      "12\n"
     ]
    }
   ],
   "source": [
    "# Function Exercises\n",
    "def num():\n",
    "    num = int(input(\"Enter a number:\"))\n",
    "    return num\n",
    "\n",
    "def count(num):\n",
    "    for i in range(1,num+1):\n",
    "        print(i)\n",
    "\n",
    "num = num()\n",
    "count(num)"
   ]
  },
  {
   "cell_type": "code",
   "execution_count": 11,
   "id": "81f14d6a-07f8-4c8d-a47b-67b5eb09d20c",
   "metadata": {},
   "outputs": [
    {
     "name": "stdout",
     "output_type": "stream",
     "text": [
      " \n",
      "    1) Add Name to a list\n",
      "    2) Change the name in the list\n",
      "    3) Delete a name form the list\n",
      "    4) View name in the list\n",
      "    5) Quit\n",
      "    \n"
     ]
    },
    {
     "name": "stdin",
     "output_type": "stream",
     "text": [
      "Enter your option: 1\n",
      "Enter your name: beh\n"
     ]
    },
    {
     "name": "stdout",
     "output_type": "stream",
     "text": [
      " \n",
      "    1) Add Name to a list\n",
      "    2) Change the name in the list\n",
      "    3) Delete a name form the list\n",
      "    4) View name in the list\n",
      "    5) Quit\n",
      "    \n"
     ]
    },
    {
     "name": "stdin",
     "output_type": "stream",
     "text": [
      "Enter your option: 1\n",
      "Enter your name: shu\n"
     ]
    },
    {
     "name": "stdout",
     "output_type": "stream",
     "text": [
      " \n",
      "    1) Add Name to a list\n",
      "    2) Change the name in the list\n",
      "    3) Delete a name form the list\n",
      "    4) View name in the list\n",
      "    5) Quit\n",
      "    \n"
     ]
    },
    {
     "name": "stdin",
     "output_type": "stream",
     "text": [
      "Enter your option: 1\n",
      "Enter your name: ao\n"
     ]
    },
    {
     "name": "stdout",
     "output_type": "stream",
     "text": [
      " \n",
      "    1) Add Name to a list\n",
      "    2) Change the name in the list\n",
      "    3) Delete a name form the list\n",
      "    4) View name in the list\n",
      "    5) Quit\n",
      "    \n"
     ]
    },
    {
     "name": "stdin",
     "output_type": "stream",
     "text": [
      "Enter your option: 2\n",
      "Enter the name you want to changed: beh\n",
      "Enter a new name: beh123\n"
     ]
    },
    {
     "name": "stdout",
     "output_type": "stream",
     "text": [
      " \n",
      "    1) Add Name to a list\n",
      "    2) Change the name in the list\n",
      "    3) Delete a name form the list\n",
      "    4) View name in the list\n",
      "    5) Quit\n",
      "    \n"
     ]
    },
    {
     "name": "stdin",
     "output_type": "stream",
     "text": [
      "Enter your option: 4\n"
     ]
    },
    {
     "name": "stdout",
     "output_type": "stream",
     "text": [
      "Name List:\n",
      "1 ) beh123\n",
      "2 ) shu\n",
      "3 ) ao\n",
      " \n",
      "    1) Add Name to a list\n",
      "    2) Change the name in the list\n",
      "    3) Delete a name form the list\n",
      "    4) View name in the list\n",
      "    5) Quit\n",
      "    \n"
     ]
    },
    {
     "name": "stdin",
     "output_type": "stream",
     "text": [
      "Enter your option: 3\n",
      "Enter your name: ao\n"
     ]
    },
    {
     "name": "stdout",
     "output_type": "stream",
     "text": [
      " \n",
      "    1) Add Name to a list\n",
      "    2) Change the name in the list\n",
      "    3) Delete a name form the list\n",
      "    4) View name in the list\n",
      "    5) Quit\n",
      "    \n"
     ]
    },
    {
     "name": "stdin",
     "output_type": "stream",
     "text": [
      "Enter your option: 4\n"
     ]
    },
    {
     "name": "stdout",
     "output_type": "stream",
     "text": [
      "Name List:\n",
      "1 ) beh123\n",
      "2 ) shu\n",
      " \n",
      "    1) Add Name to a list\n",
      "    2) Change the name in the list\n",
      "    3) Delete a name form the list\n",
      "    4) View name in the list\n",
      "    5) Quit\n",
      "    \n"
     ]
    },
    {
     "name": "stdin",
     "output_type": "stream",
     "text": [
      "Enter your option: 5\n"
     ]
    }
   ],
   "source": [
    "# def get_data():\n",
    "#     name = input(\"Enter your name:\")\n",
    "#     age = int(input(\"Enter your age:\"))\n",
    "#     data_tuple = (name, age)\n",
    "#     return data_tuple\n",
    "\n",
    "def menu():\n",
    "    print(''' \n",
    "    1) Add Name to a list\n",
    "    2) Change the name in the list\n",
    "    3) Delete a name form the list\n",
    "    4) View name in the list\n",
    "    5) Quit\n",
    "    ''')\n",
    "    option = int(input(\"Enter your option:\"))\n",
    "    return option\n",
    "\n",
    "option=menu()\n",
    "name_list = []\n",
    "\n",
    "while option!=5:\n",
    "    if option ==1:\n",
    "        name = input(\"Enter your name:\")\n",
    "        name_list.append(name)\n",
    "\n",
    "    elif option==2:\n",
    "        name = input(\"Enter the name you want to changed:\")\n",
    "        for i in range(0, len(name_list)):\n",
    "            if name_list[i] == name:\n",
    "                new_name = input(\"Enter a new name:\")\n",
    "                name_list[i] =new_name\n",
    "                \n",
    "    elif option==3:\n",
    "        name = input(\"Enter your name:\")\n",
    "        for i in range(0, len(name_list)):\n",
    "            if name_list[i] == name:\n",
    "                name_list.remove(name)   \n",
    "        \n",
    "    elif option==4:\n",
    "        print(\"Name List:\")\n",
    "        for i in range(0, len(name_list)):\n",
    "            print(f\"{i+1} ) {name_list[i]}\")\n",
    "\n",
    "    else:\n",
    "        print(\"Please enter a valid option\")\n",
    "    option = menu()\n"
   ]
  },
  {
   "cell_type": "code",
   "execution_count": 13,
   "id": "dd4667a5-9436-49d8-8fce-7747e41cce05",
   "metadata": {},
   "outputs": [
    {
     "name": "stdout",
     "output_type": "stream",
     "text": [
      "berry\n"
     ]
    }
   ],
   "source": [
    "# Random Exercises\n",
    "import random\n",
    "fruit = random.choice([\"apple\",\"orange\",\"pineapple\",\"watermelon\",\"berry\"])\n",
    "print(fruit)"
   ]
  },
  {
   "cell_type": "code",
   "execution_count": 14,
   "id": "f19f11e6-1431-42df-8b67-7f5ea50ef5aa",
   "metadata": {},
   "outputs": [
    {
     "name": "stdin",
     "output_type": "stream",
     "text": [
      "Choose head(h) or tail(t):  h\n"
     ]
    },
    {
     "name": "stdout",
     "output_type": "stream",
     "text": [
      "Bad Luck\n",
      "The computer selected t\n"
     ]
    }
   ],
   "source": [
    "selected = random.choice([\"h\",\"t\"])\n",
    "guess = input(\"Choose head(h) or tail(t): \")\n",
    "if (guess.lower() == selected):\n",
    "    print(\"You win\")\n",
    "else:\n",
    "    print(\"Bad Luck\")\n",
    "print(f\"The computer selected {selected}\")"
   ]
  },
  {
   "cell_type": "code",
   "execution_count": 15,
   "id": "ca581f40-f686-4ffd-9bf7-448d1e0b2105",
   "metadata": {},
   "outputs": [
    {
     "name": "stdin",
     "output_type": "stream",
     "text": [
      "Enter a number between 1 and 5:  2\n"
     ]
    },
    {
     "name": "stdout",
     "output_type": "stream",
     "text": [
      "Too Low\n"
     ]
    },
    {
     "name": "stdin",
     "output_type": "stream",
     "text": [
      "Enter a number between 1 and 5: 3\n"
     ]
    },
    {
     "name": "stdout",
     "output_type": "stream",
     "text": [
      "Correct\n"
     ]
    }
   ],
   "source": [
    "num = random.randint(1,5)\n",
    "guess = int(input(\"Enter a number between 1 and 5: \"))\n",
    "if guess== num:\n",
    "    print(\"Well Done\")\n",
    "elif guess> num:\n",
    "    print(\"Too High\")\n",
    "    guess = int(input(\"Enter a number between 1 and 5:\"))\n",
    "    if guess== num:\n",
    "        print(\"Correct\")\n",
    "    else:\n",
    "        print(\"You Lose\")\n",
    "elif guess< num:\n",
    "    print(\"Too Low\")\n",
    "    guess = int(input(\"Enter a number between 1 and 5:\"))\n",
    "    if guess== num:\n",
    "        print(\"Correct\")\n",
    "    else:\n",
    "        print(\"You Lose\")"
   ]
  },
  {
   "cell_type": "code",
   "execution_count": 17,
   "id": "128dfecc-ce7e-4797-9a66-ca9b38f15d32",
   "metadata": {},
   "outputs": [
    {
     "name": "stdout",
     "output_type": "stream",
     "text": [
      "['red', 'blue', 'green', 'yellow', 'pink']\n"
     ]
    },
    {
     "name": "stdin",
     "output_type": "stream",
     "text": [
      "Enter a colour: red\n"
     ]
    },
    {
     "name": "stdout",
     "output_type": "stream",
     "text": [
      "Pink is always suitable for girls\n",
      "['red', 'blue', 'green', 'yellow', 'pink']\n"
     ]
    },
    {
     "name": "stdin",
     "output_type": "stream",
     "text": [
      "Enter a colour: pink\n"
     ]
    },
    {
     "name": "stdout",
     "output_type": "stream",
     "text": [
      "Well Done\n"
     ]
    }
   ],
   "source": [
    "colour_list=[\"red\",\"blue\",\"green\",\"yellow\",\"pink\"]\n",
    "colour = random.choice(colour_list)\n",
    "print(colour_list)\n",
    "guess = input(\"Enter a colour:\")\n",
    "\n",
    "while colour!= guess:\n",
    "    if colour == \"red\":\n",
    "        print(\"You must like red\")\n",
    "    elif colour== \"blue\":\n",
    "        print(\"“You are probably feeling BLUE right now\")\n",
    "    elif colour == \"green\":\n",
    "        print(\"I bet you are GREEN with envy\")\n",
    "    elif colour == \"yellow\":\n",
    "        print(\"The sun is always YELLOW in the sky\")\n",
    "    elif colour ==\"pink\":\n",
    "        print(\"Pink is always suitable for girls\")\n",
    "    print(colour_list)\n",
    "    guess = input(\"Enter a colour:\")\n",
    "print(\"Well Done\")\n"
   ]
  },
  {
   "cell_type": "code",
   "execution_count": 18,
   "id": "6927e26a-8c27-409d-a3f1-80881ee36450",
   "metadata": {},
   "outputs": [],
   "source": [
    "# Turtle Graphics exercises\n",
    "import turtle\n",
    "turtle.shape(\"turtle\")\n",
    "for i in range(0,5):\n",
    "    turtle.forward(100)\n",
    "    turtle.right(72)\n",
    "\n",
    "turtle.exitonclick()\n"
   ]
  },
  {
   "cell_type": "code",
   "execution_count": 20,
   "id": "4321586b-a03f-4b7f-b632-5f274b6a5268",
   "metadata": {},
   "outputs": [],
   "source": [
    "\n",
    "r = 50\n",
    "turtle.circle(r)\n",
    "turtle.exitonclick()"
   ]
  },
  {
   "cell_type": "code",
   "execution_count": 22,
   "id": "3141ee3f-d6c8-4b85-932b-deda66361a4c",
   "metadata": {},
   "outputs": [],
   "source": [
    "colour_list=[\"red\",\"blue\",\"green\",\"yellow\",\"pink\"]\n",
    "colour = random.choice(colour_list)\n",
    "# iterating the loop 8 times\n",
    "for i in range(8):\n",
    "  \n",
    "    # moving turtle 100 units forward\n",
    "    turtle.forward(100)\n",
    "    \n",
    "    # turning turtle 45 degrees so \n",
    "    # as to make perfect angle for an octagon\n",
    "    turtle.left(45)\n",
    "\n",
    "    turtle.color(random.choice(colour_list))\n",
    "turtle.exitonclick()"
   ]
  },
  {
   "cell_type": "code",
   "execution_count": 25,
   "id": "78614bc9-297e-41ab-b6d1-18d049d0a4fe",
   "metadata": {},
   "outputs": [],
   "source": [
    "for i in range(random.randint(1,10)):\n",
    "    turtle.forward(random.randint(1,200))\n",
    "    turtle.left(random.randint(1,360))\n",
    "\n",
    "turtle.exitonclick()"
   ]
  },
  {
   "cell_type": "code",
   "execution_count": 28,
   "id": "196b6c9c-70a7-4975-9f3e-eee0ad3ae0ab",
   "metadata": {},
   "outputs": [
    {
     "name": "stdout",
     "output_type": "stream",
     "text": [
      "123\n",
      "345\n",
      "567\n",
      "789\n"
     ]
    },
    {
     "name": "stdin",
     "output_type": "stream",
     "text": [
      "Enter a number: 123\n"
     ]
    },
    {
     "name": "stdout",
     "output_type": "stream",
     "text": [
      "The position is 1\n"
     ]
    }
   ],
   "source": [
    "# Data structure – List Exercise\n",
    "\n",
    "our_list = [123, 345, 567, 789]\n",
    "\n",
    "for i in range(0, len(our_list)):\n",
    "    print(our_list[i])\n",
    "\n",
    "num = int(input(\"Enter a number:\"))\n",
    "\n",
    "count = 0\n",
    "for i in range(0, len(our_list)-1):\n",
    "    if num == our_list[i]:\n",
    "        print(f\"The position is {i+1}\")\n",
    "        count+=1\n",
    "if count ==0:\n",
    "    print(\"That’s not in the list\")"
   ]
  },
  {
   "cell_type": "code",
   "execution_count": 30,
   "id": "22745e54-7462-4434-85c9-ee0577d9ba21",
   "metadata": {},
   "outputs": [
    {
     "name": "stdin",
     "output_type": "stream",
     "text": [
      "Enter a name: beh\n",
      "Enter a name: shu\n",
      "Enter a name: zoe\n",
      "Do you want to add another name (Y/n): y\n",
      "Enter a name: zhuie\n",
      "Do you want to add another name (Y/n): y\n",
      "Enter a name: ziwei\n",
      "Do you want to add another name (Y/n): n\n"
     ]
    },
    {
     "name": "stdout",
     "output_type": "stream",
     "text": [
      "There are 5 invited in the party\n"
     ]
    }
   ],
   "source": [
    "our_list = []\n",
    "for i in range(0,3):\n",
    "    name = input(\"Enter a name:\")\n",
    "    our_list.append(name)\n",
    "\n",
    "again = input(\"Do you want to add another name (Y/n):\")\n",
    "while again.lower() == \"y\":\n",
    "    name = input(\"Enter a name:\")\n",
    "    our_list.append(name)\n",
    "    again = input(\"Do you want to add another name (Y/n):\")\n",
    "\n",
    "print(f\"There are {len(our_list)} invited in the party\")"
   ]
  },
  {
   "cell_type": "code",
   "execution_count": 41,
   "id": "899d6d86-cba7-4608-8efd-0eb05aebb9c6",
   "metadata": {},
   "outputs": [
    {
     "name": "stdin",
     "output_type": "stream",
     "text": [
      "Enter your favourite food: aa\n",
      "Enter your favourite food: ee\n",
      "Enter your favourite food: rr\n",
      "Enter your favourite food: ttt\n",
      "Enter your favourite food: yy\n"
     ]
    },
    {
     "name": "stdout",
     "output_type": "stream",
     "text": [
      "The list is full: {1: 'aa', 2: 'ee', 3: 'rr', 4: 'ttt', 5: 'yy'}\n"
     ]
    },
    {
     "name": "stdin",
     "output_type": "stream",
     "text": [
      "Any food you want to remove: rr\n"
     ]
    },
    {
     "name": "stdout",
     "output_type": "stream",
     "text": [
      "The remaining list:\n",
      "1) aa\n",
      "2) ee\n",
      "4) ttt\n",
      "5) yy\n"
     ]
    }
   ],
   "source": [
    "# Data structure – Dictionary Exercises\n",
    "food ={}\n",
    "for i in range(1,6):\n",
    "    food[i] = input(\"Enter your favourite food:\")\n",
    "print(f\"The list is full: {food}\")\n",
    "removal = input(\"Any food you want to remove:\")\n",
    "\n",
    "count=7\n",
    "for i in range(1,6):\n",
    "    if removal == food[i]:\n",
    "        count = i\n",
    "if count!=7: \n",
    "    food.pop(count)\n",
    "print(f\"The remaining list:\")\n",
    "for i in sorted(food.keys()):\n",
    "    print(f\"{i}) {food[i]}\")"
   ]
  },
  {
   "cell_type": "code",
   "execution_count": 43,
   "id": "0c045eb6-5b1b-47e1-8e6d-1e32b016c13e",
   "metadata": {},
   "outputs": [
    {
     "name": "stdout",
     "output_type": "stream",
     "text": [
      "('Malaysia', 'UK', 'US', 'Singapore', 'China')\n"
     ]
    },
    {
     "name": "stdin",
     "output_type": "stream",
     "text": [
      "Enter one of the countries: uk\n"
     ]
    },
    {
     "name": "stdout",
     "output_type": "stream",
     "text": [
      "The position is 2\n"
     ]
    },
    {
     "name": "stdin",
     "output_type": "stream",
     "text": [
      "Enter a number: 2\n"
     ]
    },
    {
     "name": "stdout",
     "output_type": "stream",
     "text": [
      "The country on the position 2 is UK\n"
     ]
    }
   ],
   "source": [
    "# Data structure – tuple exercises\n",
    "countries_tuples = (\"Malaysia\",\"UK\",\"US\",\"Singapore\",\"China\")\n",
    "print(countries_tuples)\n",
    "\n",
    "user = input(\"Enter one of the countries:\")\n",
    "for i in range(0,len(countries_tuples)):\n",
    "    if user.lower() == countries_tuples[i].lower():\n",
    "        print(f\"The position is {i+1}\")\n",
    "num = int(input(\"Enter a number:\"))\n",
    "if num < len(countries_tuples):\n",
    "    print(f\"The country on the position {num} is {countries_tuples[num-1]}\")"
   ]
  },
  {
   "cell_type": "code",
   "execution_count": 46,
   "id": "134bddb8-0b47-431f-9827-f398d8a48509",
   "metadata": {},
   "outputs": [
    {
     "name": "stdin",
     "output_type": "stream",
     "text": [
      "Enter a number: 1\n",
      "Enter a number: 2\n",
      "Enter a number: 3\n",
      "Enter a number: 4\n",
      "Enter a number: 5\n"
     ]
    },
    {
     "name": "stdout",
     "output_type": "stream",
     "text": [
      "[5, 4, 3, 2, 1]\n"
     ]
    }
   ],
   "source": [
    "# Numeric Arrays\n",
    "arr =[]\n",
    "for i in range(0,5):\n",
    "    num = int(input(\"Enter a number:\"))\n",
    "    arr.append(num)\n",
    "arr.reverse()\n",
    "print(arr)              "
   ]
  },
  {
   "cell_type": "code",
   "execution_count": 48,
   "id": "162432ee-14ab-47c0-8c63-810821e814a7",
   "metadata": {},
   "outputs": [
    {
     "name": "stdout",
     "output_type": "stream",
     "text": [
      "13\n",
      "46\n",
      "0\n",
      "19\n",
      "14\n"
     ]
    }
   ],
   "source": [
    "arr = []\n",
    "for i in range(0,5):\n",
    "    num = random.randint(0,100)\n",
    "    arr.append(num)\n",
    "\n",
    "for i in range(0, len(arr)):\n",
    "    print(arr[i])"
   ]
  },
  {
   "cell_type": "code",
   "execution_count": 51,
   "id": "f65895aa-28d6-442a-846e-25bcb48a9d7a",
   "metadata": {},
   "outputs": [
    {
     "name": "stdin",
     "output_type": "stream",
     "text": [
      "Enter a number: 1\n",
      "Enter a number: 2\n",
      "Enter a number: 3\n"
     ]
    },
    {
     "name": "stdout",
     "output_type": "stream",
     "text": [
      "1\n",
      "2\n",
      "3\n",
      "9\n",
      "14\n",
      "51\n",
      "65\n",
      "75\n"
     ]
    }
   ],
   "source": [
    "from array import *\n",
    "arr1=[]\n",
    "arr2=[]\n",
    "for i in range(0,3):\n",
    "    arr1.append(int(input(\"Enter a number:\")))\n",
    "for i in range(0,5):\n",
    "    arr2.append(random.randint(1,100))\n",
    "\n",
    "new_arr = arr1 +arr2\n",
    "new_arr = sorted(new_arr)\n",
    "for i in range(0, len(new_arr)):\n",
    "    print(new_arr[i])"
   ]
  },
  {
   "cell_type": "code",
   "execution_count": 54,
   "id": "58fbd8b7-3e78-415e-b43e-03563c57932d",
   "metadata": {},
   "outputs": [
    {
     "name": "stdin",
     "output_type": "stream",
     "text": [
      "Enter a number: 1\n",
      "Enter a number: 2\n",
      "Enter a number: 3\n",
      "Enter a number: 4\n",
      "Enter a number: 5\n"
     ]
    },
    {
     "name": "stdout",
     "output_type": "stream",
     "text": [
      "[1, 2, 3, 4, 5]\n"
     ]
    },
    {
     "name": "stdin",
     "output_type": "stream",
     "text": [
      "Enter the number you want to remove: 3\n"
     ]
    },
    {
     "name": "stdout",
     "output_type": "stream",
     "text": [
      "array('i', [1, 2, 4, 5])\n"
     ]
    }
   ],
   "source": [
    "arr1=[]\n",
    "for i in range(0,5):\n",
    "    arr1.append(int(input(\"Enter a number:\")))\n",
    "arr1 = sorted(arr1)\n",
    "print(arr1)\n",
    "getRid = int(input(\"Enter the number you want to remove:\"))\n",
    "arr1.remove(getRid)\n",
    "newArr = array('i',[])\n",
    "for i in range(0,len(arr1)):\n",
    "    newArr.append(arr1[i])\n",
    "print(newArr)"
   ]
  },
  {
   "cell_type": "code",
   "execution_count": 61,
   "id": "797f07a9-1bae-4305-b863-944dfa8490f9",
   "metadata": {},
   "outputs": [
    {
     "name": "stdout",
     "output_type": "stream",
     "text": [
      "Array is [38, 39, 57, 53, 14]\n"
     ]
    },
    {
     "name": "stdin",
     "output_type": "stream",
     "text": [
      "Select the number: 10\n"
     ]
    },
    {
     "name": "stdout",
     "output_type": "stream",
     "text": [
      "Enter a relevant number!\n"
     ]
    },
    {
     "name": "stdin",
     "output_type": "stream",
     "text": [
      "Select the number: 10\n"
     ]
    },
    {
     "name": "stdout",
     "output_type": "stream",
     "text": [
      "Enter a relevant number!\n"
     ]
    },
    {
     "name": "stdin",
     "output_type": "stream",
     "text": [
      "Select the number: 57\n"
     ]
    },
    {
     "name": "stdout",
     "output_type": "stream",
     "text": [
      "The position of the number is 3\n"
     ]
    }
   ],
   "source": [
    "arr2=[]\n",
    "for i in range(0,5):\n",
    "    arr2.append(random.randint(1,100))\n",
    "print(f\"Array is {arr2}\")\n",
    "num = int(input(\"Select the number:\"))\n",
    "count =len(arr2)\n",
    "while count==len(arr2):\n",
    "    for i in range(0,len(arr2)):\n",
    "        if num == arr2[i]:\n",
    "            print(f\"The position of the number is {i+1}\")\n",
    "            count= i\n",
    "            break\n",
    "    if count==len(arr2):\n",
    "        print(\"Enter a relevant number!\")\n",
    "        num = int(input(\"Select the number:\"))\n"
   ]
  },
  {
   "cell_type": "code",
   "execution_count": 69,
   "id": "55954127-4c5d-49f7-902f-09fc93c5dd3d",
   "metadata": {},
   "outputs": [
    {
     "name": "stdout",
     "output_type": "stream",
     "text": [
      "[82.03, 32.0, 61.02, 8.93, 13.75]\n"
     ]
    },
    {
     "name": "stdin",
     "output_type": "stream",
     "text": [
      "Enter the number betweem 2 and 5: 2\n"
     ]
    },
    {
     "name": "stdout",
     "output_type": "stream",
     "text": [
      "new Array:[41.02, 16.0, 30.51, 4.46, 6.88]\n"
     ]
    }
   ],
   "source": [
    "arr2=[]\n",
    "for i in range(0,5):\n",
    "    number1=random.random()\n",
    "    number1 = number1*100\n",
    "    arr2.append(round(number1,2))\n",
    "print(arr2)\n",
    "num = int(input(\"Enter the number betweem 2 and 5:\"))\n",
    "\n",
    "while num not in range(2,5):\n",
    "    print(\"Wrong number!\")\n",
    "    num = int(input(\"Enter the number betweem 2 and 5:\"))\n",
    "\n",
    "for i in range(0, len(arr2)):\n",
    "    arr2[i] = round( arr2[i] / num,2)\n",
    "print(f\"new Array:{arr2}\")"
   ]
  },
  {
   "cell_type": "code",
   "execution_count": 71,
   "id": "41dfad81-b47d-49de-9db7-51aa8f43d33e",
   "metadata": {},
   "outputs": [
    {
     "name": "stdout",
     "output_type": "stream",
     "text": [
      "[2, 5, 8]\n",
      "[3, 7, 4]\n",
      "[1, 6, 9]\n",
      "[4, 2, 0]\n"
     ]
    },
    {
     "name": "stdin",
     "output_type": "stream",
     "text": [
      "Enter the number betweem 1 and 3: 1\n",
      "Enter the number betweem 1 and 4: 2\n"
     ]
    },
    {
     "name": "stdout",
     "output_type": "stream",
     "text": [
      "The values at row 1 and column 2 is 5\n"
     ]
    }
   ],
   "source": [
    "# 2 D Lists and Dictionaries\n",
    "matrix =[[2,5,8],[3,7,4],[1,6,9],[4,2,0]]\n",
    "for i in range(0, len(matrix)):\n",
    "    print(matrix[i])\n",
    "\n",
    "row = int(input(\"Enter the number betweem 1 and 4:\"))\n",
    "column = int(input(\"Enter the number betweem 1 and 3:\"))\n",
    "print(f\"The values at row {row} and column {column} is {matrix[row-1][column-1]}\")"
   ]
  },
  {
   "cell_type": "code",
   "execution_count": 74,
   "id": "75c871dd-0ccb-4508-a0d1-dfde5a81c5c8",
   "metadata": {},
   "outputs": [
    {
     "name": "stdout",
     "output_type": "stream",
     "text": [
      "[2, 5, 8]\n",
      "[3, 7, 4]\n",
      "[1, 6, 9]\n",
      "[4, 2, 0]\n"
     ]
    },
    {
     "name": "stdin",
     "output_type": "stream",
     "text": [
      "Enter the number betweem 1 and 3: 2\n"
     ]
    },
    {
     "name": "stdout",
     "output_type": "stream",
     "text": [
      "This row consists of [3, 7, 4]\n"
     ]
    },
    {
     "name": "stdin",
     "output_type": "stream",
     "text": [
      "Enter a new number : 10\n"
     ]
    },
    {
     "name": "stdout",
     "output_type": "stream",
     "text": [
      "This row consists of [3, 7, 4, 10]\n"
     ]
    }
   ],
   "source": [
    "matrix =[[2,5,8],[3,7,4],[1,6,9],[4,2,0]]\n",
    "for i in range(0, len(matrix)):\n",
    "    print(matrix[i])\n",
    "    \n",
    "row = int(input(\"Enter the number betweem 1 and 4:\"))\n",
    "if row <=4 and row>=1:\n",
    "    print(f\"This row consists of {matrix[row-1]}\")\n",
    "num= int(input(\"Enter a new number :\"))\n",
    "matrix[row-1].append(num)\n",
    "print(f\"This row consists of {matrix[row-1]}\")"
   ]
  },
  {
   "cell_type": "code",
   "execution_count": 76,
   "id": "bcdcbc20-2c5e-4b74-a17c-8ee9b184f55d",
   "metadata": {},
   "outputs": [
    {
     "name": "stdout",
     "output_type": "stream",
     "text": [
      "[2, 5, 8]\n",
      "[3, 7, 4]\n",
      "[1, 6, 9]\n",
      "[4, 2, 0]\n"
     ]
    },
    {
     "name": "stdin",
     "output_type": "stream",
     "text": [
      "Enter the number betweem 1 and 4: 2\n"
     ]
    },
    {
     "name": "stdout",
     "output_type": "stream",
     "text": [
      "This row consists of [3, 7, 4]\n"
     ]
    },
    {
     "name": "stdin",
     "output_type": "stream",
     "text": [
      "Enter the number betweem 1 and 3: 3\n"
     ]
    },
    {
     "name": "stdout",
     "output_type": "stream",
     "text": [
      "The values at row 2 and column 3 is 4\n"
     ]
    },
    {
     "name": "stdin",
     "output_type": "stream",
     "text": [
      "Do you want to change this number(Y/n): n\n"
     ]
    },
    {
     "name": "stdout",
     "output_type": "stream",
     "text": [
      "This row consists of [3, 7, 4]\n"
     ]
    }
   ],
   "source": [
    "matrix =[[2,5,8],[3,7,4],[1,6,9],[4,2,0]]\n",
    "for i in range(0, len(matrix)):\n",
    "    print(matrix[i])\n",
    "    \n",
    "row = int(input(\"Enter the number betweem 1 and 4:\"))\n",
    "if row <=4 and row>=1:\n",
    "    print(f\"This row consists of {matrix[row-1]}\")\n",
    "column = int(input(\"Enter the number betweem 1 and 3:\"))\n",
    "if column <=3 and column>=1:\n",
    "    print(f\"The values at row {row} and column {column} is {matrix[row-1][column-1]}\")\n",
    "\n",
    "confirm = input(\"Do you want to change this number(Y/n):\")\n",
    "if confirm.lower()==\"y\":\n",
    "    num= int(input(\"Enter a new number :\"))\n",
    "    matrix[row-1][column-1] = num\n",
    "print(f\"This row consists of {matrix[row-1]}\")"
   ]
  },
  {
   "cell_type": "code",
   "execution_count": 79,
   "id": "7bc4b6b2-66cd-4267-9eaf-981f84129b73",
   "metadata": {},
   "outputs": [
    {
     "name": "stdin",
     "output_type": "stream",
     "text": [
      "Enter your name: beh\n",
      "Enter your age: 12\n",
      "Enter your shoe size: 34\n",
      "Enter your name: shu\n",
      "Enter your age: 12\n",
      "Enter your shoe size: 35\n",
      "Enter your name: ao\n",
      "Enter your age: 12\n",
      "Enter your shoe size: 34\n",
      "Enter your name: zhu\n",
      "Enter your age: 24\n",
      "Enter your shoe size: 36\n"
     ]
    },
    {
     "name": "stdout",
     "output_type": "stream",
     "text": [
      "Name List:\n",
      "beh 12\n",
      "shu 12\n",
      "ao 12\n",
      "zhu 24\n"
     ]
    }
   ],
   "source": [
    "new_list={}\n",
    "for i in range(0,4):\n",
    "    name= input(\"Enter your name:\")\n",
    "    age= int(input(\"Enter your age:\"))\n",
    "    size= int(input(\"Enter your shoe size:\"))\n",
    "    new_list[name]={\"age\":age,\"size\":size}\n",
    "print(\"Name List:\")\n",
    "for name in new_list:\n",
    "    print((name),new_list[name][\"age\"])"
   ]
  },
  {
   "cell_type": "code",
   "execution_count": 81,
   "id": "e0ddd6a5-d971-469c-afbd-5f7e4bc8c27e",
   "metadata": {},
   "outputs": [
    {
     "name": "stdin",
     "output_type": "stream",
     "text": [
      "Enter your name: beh\n",
      "Enter your age: 12\n",
      "Enter your shoe size: 34\n",
      "Enter your name: shu\n",
      "Enter your age: 13\n",
      "Enter your shoe size: 35\n",
      "Enter your name: ao\n",
      "Enter your age: 14\n",
      "Enter your shoe size: 36\n",
      "Enter your name: zhu\n",
      "Enter your age: 17\n",
      "Enter your shoe size: 38\n"
     ]
    },
    {
     "name": "stdout",
     "output_type": "stream",
     "text": [
      "Name List:\n",
      "beh 12\n",
      "shu 13\n",
      "ao 14\n",
      "zhu 17\n"
     ]
    },
    {
     "name": "stdin",
     "output_type": "stream",
     "text": [
      "Enter a name you want to remove: zhu\n"
     ]
    },
    {
     "name": "stdout",
     "output_type": "stream",
     "text": [
      "Name List:\n",
      "beh 12\n",
      "shu 13\n",
      "ao 14\n"
     ]
    }
   ],
   "source": [
    "new_list={}\n",
    "for i in range(0,4):\n",
    "    name= input(\"Enter your name:\")\n",
    "    age= int(input(\"Enter your age:\"))\n",
    "    size= int(input(\"Enter your shoe size:\"))\n",
    "    new_list[name]={\"age\":age,\"size\":size}\n",
    "print(\"Name List:\")\n",
    "for name in new_list:\n",
    "    print((name),new_list[name][\"age\"])\n",
    "getRid = input(\"Enter a name you want to remove:\")\n",
    "\n",
    "count=0\n",
    "for name in new_list:\n",
    "    if name == getRid:\n",
    "        count+=1\n",
    "new_list.pop(getRid)\n",
    "        \n",
    "print(\"Name List:\")\n",
    "for name in new_list:\n",
    "    print((name),new_list[name][\"age\"])        "
   ]
  }
 ],
 "metadata": {
  "kernelspec": {
   "display_name": "Python 3 (ipykernel)",
   "language": "python",
   "name": "python3"
  },
  "language_info": {
   "codemirror_mode": {
    "name": "ipython",
    "version": 3
   },
   "file_extension": ".py",
   "mimetype": "text/x-python",
   "name": "python",
   "nbconvert_exporter": "python",
   "pygments_lexer": "ipython3",
   "version": "3.13.5"
  }
 },
 "nbformat": 4,
 "nbformat_minor": 5
}
