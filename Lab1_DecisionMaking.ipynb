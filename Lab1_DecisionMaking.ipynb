{
 "cells": [
  {
   "cell_type": "code",
   "execution_count": 2,
   "id": "248c7d50",
   "metadata": {
    "vscode": {
     "languageId": "plaintext"
    }
   },
   "outputs": [
    {
     "name": "stdin",
     "output_type": "stream",
     "text": [
      "Is it raining? (Y/n)  Y\n",
      "Is it windy? (Y/n)  Y\n"
     ]
    },
    {
     "name": "stdout",
     "output_type": "stream",
     "text": [
      "It’s too windy for an umbrella\n"
     ]
    }
   ],
   "source": [
    "# Exercise: Umbrella or no umbrella\n",
    "raining = input(\"Is it raining? (Y/n) \")\n",
    "\n",
    "if str.lower(raining) == \"y\":\n",
    "    windy = input(\"Is it windy? (Y/n) \")\n",
    "    if str.lower(windy) == \"y\":\n",
    "        print(\"It’s too windy for an umbrella\")\n",
    "    else:\n",
    "        print(\"Take an umbrella\")\n",
    "else:\n",
    "    print(\"Enjoy your day\")\n",
    "\n"
   ]
  },
  {
   "cell_type": "code",
   "execution_count": 3,
   "id": "b8e84082-e95a-4c3c-9ac4-eac708f475bb",
   "metadata": {},
   "outputs": [
    {
     "name": "stdin",
     "output_type": "stream",
     "text": [
      "Enter your age:  20\n"
     ]
    },
    {
     "name": "stdout",
     "output_type": "stream",
     "text": [
      "you can vote\n"
     ]
    }
   ],
   "source": [
    "# Exercise: Your age\n",
    "age=int(input(\"Enter your age: \"))\n",
    "if age>= 18:\n",
    "    print(\"you can vote\")\n",
    "elif age==17:\n",
    "    print(\"You can learn how to drive\")\n",
    "elif age==16:\n",
    "    print(\"you can buy a lottery ticket\")\n",
    "else:\n",
    "    print(\"You can go Trick-or-Treating\")\n"
   ]
  },
  {
   "cell_type": "code",
   "execution_count": 5,
   "id": "7d0c08ac",
   "metadata": {
    "vscode": {
     "languageId": "plaintext"
    }
   },
   "outputs": [
    {
     "name": "stdin",
     "output_type": "stream",
     "text": [
      "Enter a number:  12\n"
     ]
    },
    {
     "name": "stdout",
     "output_type": "stream",
     "text": [
      "12  is a even number.\n"
     ]
    }
   ],
   "source": [
    "# Exercise: Even or Odd\n",
    "num = int(input(\"Enter a number: \"))\n",
    "if(num %2 ==0):\n",
    "    print(num, \" is a even number.\")\n",
    "else:\n",
    "    print(num, \" is a odd number.\") \n",
    "\n"
   ]
  },
  {
   "cell_type": "code",
   "execution_count": 6,
   "id": "43743270-a789-4ca7-96f8-6c398ba8d01a",
   "metadata": {},
   "outputs": [
    {
     "name": "stdin",
     "output_type": "stream",
     "text": [
      "Enter a character:  A\n"
     ]
    },
    {
     "name": "stdout",
     "output_type": "stream",
     "text": [
      "A is a consonant\n"
     ]
    }
   ],
   "source": [
    "# Exercise: Vowel or Consonant\n",
    "character = input(\"Enter a character: \")\n",
    "if character in ['a', 'e', 'i', 'o', 'u']: \n",
    "    print(character,\"is a vowel\")\n",
    "else:\n",
    "    print(character,\"is a consonant\")"
   ]
  },
  {
   "cell_type": "code",
   "execution_count": 7,
   "id": "7dd4a0a2",
   "metadata": {
    "vscode": {
     "languageId": "plaintext"
    }
   },
   "outputs": [
    {
     "name": "stdin",
     "output_type": "stream",
     "text": [
      "Enter number of sides:  5\n"
     ]
    },
    {
     "name": "stdout",
     "output_type": "stream",
     "text": [
      "Pentagon\n"
     ]
    }
   ],
   "source": [
    "# Exercise: Name the shape\n",
    "shapedist ={\n",
    "    \"3\":\"Triangle\", \n",
    "    \"4\" :\"Square\", \n",
    "    \"5\" :\"Pentagon\", \n",
    "    \"6\" :\"Hexagon\", \n",
    "    \"7\" :\"Heptagon\", \n",
    "    \"8\" :\"Octagon\",\n",
    "    \"9\" :\"Nonagon\", \n",
    "    \"10\" :\"Decagon\"\n",
    "}\n",
    "sides = int(input(\"Enter number of sides: \"))\n",
    "if sides >=3 and sides <=10:\n",
    "    print(shapedist[str(sides)])\n",
    "else:\n",
    "    print(\"It is out of the range\")"
   ]
  },
  {
   "cell_type": "code",
   "execution_count": 8,
   "id": "231539dc",
   "metadata": {
    "vscode": {
     "languageId": "plaintext"
    }
   },
   "outputs": [
    {
     "name": "stdin",
     "output_type": "stream",
     "text": [
      "Enter length of first side:  1\n",
      "Enter length of second side:  2\n",
      "Enter length of third side:  3\n"
     ]
    },
    {
     "name": "stdout",
     "output_type": "stream",
     "text": [
      "It is a scalene triangle\n"
     ]
    }
   ],
   "source": [
    "# Exercise: Classifying Triangles\n",
    "first =int(input(\"Enter length of first side: \"))\n",
    "second =int(input(\"Enter length of second side: \"))\n",
    "third =int(input(\"Enter length of third side: \"))\n",
    "\n",
    "if first== second & second== third & third== first:\n",
    "    print(\"It is a equilateral triangle\")\n",
    "elif  first== second or second== third or third== first:\n",
    "    print(\"It is a isosceles triangle\")\n",
    "else :\n",
    "    print(\"It is a scalene triangle\")"
   ]
  },
  {
   "cell_type": "code",
   "execution_count": 9,
   "id": "74ccbd78",
   "metadata": {
    "vscode": {
     "languageId": "plaintext"
    }
   },
   "outputs": [
    {
     "name": "stdin",
     "output_type": "stream",
     "text": [
      "1) Square \n",
      "2) Triangle \n",
      "Enter the option:  1\n",
      "Enter the length of the sides: 4\n"
     ]
    },
    {
     "name": "stdout",
     "output_type": "stream",
     "text": [
      "Area = 16\n"
     ]
    }
   ],
   "source": [
    "# Exercise: Find the area\n",
    "option=int(input(\"1) Square \\n2) Triangle \\nEnter the option: \"))\n",
    "if option==1:\n",
    "    length = int(input(\"Enter the length of the sides:\"))\n",
    "    area = length **2\n",
    "    print(\"Area =\", area)\n",
    "elif option==2:\n",
    "    base = int(input(\"Enter the length of the base:\"))\n",
    "    height = int(input(\"Enter the length of the height:\"))\n",
    "    area = base * height /2\n",
    "    print(\"Area =\", area)\n",
    "else:\n",
    "    print(\"There is out of option\")\n"
   ]
  }
 ],
 "metadata": {
  "kernelspec": {
   "display_name": "Python 3 (ipykernel)",
   "language": "python",
   "name": "python3"
  },
  "language_info": {
   "codemirror_mode": {
    "name": "ipython",
    "version": 3
   },
   "file_extension": ".py",
   "mimetype": "text/x-python",
   "name": "python",
   "nbconvert_exporter": "python",
   "pygments_lexer": "ipython3",
   "version": "3.13.5"
  }
 },
 "nbformat": 4,
 "nbformat_minor": 5
}
